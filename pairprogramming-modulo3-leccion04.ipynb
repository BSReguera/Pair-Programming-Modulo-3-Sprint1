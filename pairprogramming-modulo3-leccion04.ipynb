{
 "cells": [
  {
   "cell_type": "code",
   "execution_count": null,
   "metadata": {},
   "outputs": [],
   "source": [
    "# PAIR PROGRAMING - MODULO 3- LECCION 04 - UNION DE DATOS E INTRODUCCION A LIMPIEZA"
   ]
  },
  {
   "cell_type": "markdown",
   "metadata": {},
   "source": [
    "Ejercicios Unión de Datos\n",
    "\n",
    "0. Crear un nuevo DataFrame que combine la información de ambos conjuntos de datos en un solo conjunto de datos.\n",
    "0. Seleccionar el método de unión de Pandas que consideres más apropiado para esta situación y justificar por qué crees que ese método es el mejor en tu informe.\n",
    "\n",
    "Asegúrate de realizar los siguientes pasos:\n",
    "\n",
    "1. Explora y carga ambos conjuntos de datos en pandas DataFrames.\n",
    "\n",
    "2. Identifica las columnas comunes entre los dos conjuntos de datos.\n",
    "\n",
    "3. Utiliza el método de unión de Pandas que consideres más adecuado para combinar los datos de ambos años en un solo DataFrame.\n",
    "\n",
    "4. Explica por qué elegiste ese método de unión y cómo se llevaron a cabo los pasos anteriores."
   ]
  },
  {
   "cell_type": "code",
   "execution_count": null,
   "metadata": {},
   "outputs": [],
   "source": []
  },
  {
   "cell_type": "markdown",
   "metadata": {},
   "source": [
    "Ejercicios de Limpieza\n",
    "1. Después de la unión de datos, tenemos dos columnas de \"country\". Elimina una de ellas.\n",
    "\n",
    "2. Los nombres de las columnas no son homogeneos. Cambia los nombres de las columnas de tal forma que:\n",
    "\n",
    "No tengan espacios.\n",
    "\n",
    "Estén en minúscula.\n",
    "\n",
    "No tengan paréntesis, es decir, quitar \"(%)\", \"(Km2)\".\n",
    "\n",
    "Algunas columnas tiene \"\\n\". Eliminalos de los nombres de las columnas.\n",
    "\n",
    "Algunas columnas tienen \":\". Eliminalos de los nombres de las columnas.\n",
    "\n",
    "3. La columnas coordinates tiene la latitud y la longitud en una sola columna. Crea dos columnas nuevas, una con la longitud y otra con la latitud. Una vez hecho, elimina la columna de coordinates.\n",
    "\n",
    "4. Las columnas unemployment_rate, total_tax_rate, tax_revenue, population_labor_force_participation, out_of_pocket_health_expenditure, gross_tertiary_education_enrollment, gross_primary_education_enrollment, forested_area, cpi_change, agricultural_land tienen \"%\". Elimina los \"%\" de los valores de las columnas.\n",
    "\n",
    "5. Haz lo mismo para las columnas de gasoline_price, gdp, minimum_wage, pero eliminando \"$\".\n",
    "\n",
    "6. Guarda el DataFrame para usarlo en el pairprogramming de mañana."
   ]
  },
  {
   "cell_type": "code",
   "execution_count": null,
   "metadata": {},
   "outputs": [],
   "source": []
  },
  {
   "cell_type": "markdown",
   "metadata": {},
   "source": [
    "Ejercicios de Filtrado\n",
    "1. Encuentra todos los países cuya mortalidad infantil esté entre 40 y 50 personas por kilómetro cuadrado.\n",
    "\n",
    "2. Encuentra los países cuyas tasas de natalidad son mayores o iguales a 20 y su esperanza de vida es mayor de 75 años.\n",
    "\n",
    "3. Encuentra las ciudades cuyos paises contienen la palabra \"la\" en su nombre.\n",
    "\n",
    "4. Encuentra los países cuyos medicos por cada 1000 habitantes (physicians_per_thousand) sea mayores de 5.\n",
    "\n",
    "5. Encuentra los países cuyatasa de fertilidad sea mayor a 6.\n",
    "\n",
    "6. Encuentra los países cuya moneda es el euro (EUR) y tienen una tasa de natalidad superior al promedio.\n",
    "\n",
    "7. Encuentra los países cuyas tasas de mortalidad infantil son superiores a 70."
   ]
  },
  {
   "cell_type": "code",
   "execution_count": null,
   "metadata": {},
   "outputs": [],
   "source": []
  }
 ],
 "metadata": {
  "language_info": {
   "name": "python"
  }
 },
 "nbformat": 4,
 "nbformat_minor": 2
}
