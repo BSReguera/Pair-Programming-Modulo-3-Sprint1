{
 "cells": [
  {
   "cell_type": "markdown",
   "metadata": {},
   "source": [
    "# PAIR PROGRAMING - MODULO 3- LECCION 05 - AGRUPACIÓN DE DATOS Y MÉTODO APPLY"
   ]
  },
  {
   "cell_type": "code",
   "execution_count": null,
   "metadata": {},
   "outputs": [],
   "source": [
    "# Intalaciones              !pip install geopy"
   ]
  },
  {
   "cell_type": "code",
   "execution_count": 63,
   "metadata": {},
   "outputs": [],
   "source": [
    "# Importaciones necesarias\n",
    "import pandas as pd\n",
    "import numpy as np\n",
    "from geopy import Nominatim"
   ]
  },
  {
   "cell_type": "code",
   "execution_count": 64,
   "metadata": {},
   "outputs": [
    {
     "data": {
      "text/html": [
       "<div>\n",
       "<style scoped>\n",
       "    .dataframe tbody tr th:only-of-type {\n",
       "        vertical-align: middle;\n",
       "    }\n",
       "\n",
       "    .dataframe tbody tr th {\n",
       "        vertical-align: top;\n",
       "    }\n",
       "\n",
       "    .dataframe thead th {\n",
       "        text-align: right;\n",
       "    }\n",
       "</style>\n",
       "<table border=\"1\" class=\"dataframe\">\n",
       "  <thead>\n",
       "    <tr style=\"text-align: right;\">\n",
       "      <th></th>\n",
       "      <th>Unnamed: 0</th>\n",
       "      <th>unnamed0</th>\n",
       "      <th>country</th>\n",
       "      <th>density(p/km2)</th>\n",
       "      <th>abbreviation</th>\n",
       "      <th>agriculturalland</th>\n",
       "      <th>landarea</th>\n",
       "      <th>armedforcessize</th>\n",
       "      <th>birthrate</th>\n",
       "      <th>callingcode</th>\n",
       "      <th>...</th>\n",
       "      <th>outofpockethealthexpenditure</th>\n",
       "      <th>physiciansperthousand</th>\n",
       "      <th>population</th>\n",
       "      <th>populationlaborforceparticipation</th>\n",
       "      <th>taxrevenue</th>\n",
       "      <th>totaltaxrate</th>\n",
       "      <th>unemploymentrate</th>\n",
       "      <th>urban_population</th>\n",
       "      <th>latitud</th>\n",
       "      <th>longitud</th>\n",
       "    </tr>\n",
       "  </thead>\n",
       "  <tbody>\n",
       "    <tr>\n",
       "      <th>0</th>\n",
       "      <td>0</td>\n",
       "      <td>0</td>\n",
       "      <td>Afghanistan</td>\n",
       "      <td>60</td>\n",
       "      <td>AF</td>\n",
       "      <td>58.1</td>\n",
       "      <td>652,230</td>\n",
       "      <td>323,000</td>\n",
       "      <td>32.49</td>\n",
       "      <td>93.0</td>\n",
       "      <td>...</td>\n",
       "      <td>78.4</td>\n",
       "      <td>0.28</td>\n",
       "      <td>38,041,754</td>\n",
       "      <td>48.9</td>\n",
       "      <td>9.3</td>\n",
       "      <td>71.4</td>\n",
       "      <td>11.12</td>\n",
       "      <td>9,797,273</td>\n",
       "      <td>('33.93911 '</td>\n",
       "      <td>'67.709953')</td>\n",
       "    </tr>\n",
       "    <tr>\n",
       "      <th>1</th>\n",
       "      <td>1</td>\n",
       "      <td>1</td>\n",
       "      <td>Albania</td>\n",
       "      <td>105</td>\n",
       "      <td>AL</td>\n",
       "      <td>43.1</td>\n",
       "      <td>28,748</td>\n",
       "      <td>9,000</td>\n",
       "      <td>11.78</td>\n",
       "      <td>355.0</td>\n",
       "      <td>...</td>\n",
       "      <td>56.9</td>\n",
       "      <td>1.20</td>\n",
       "      <td>2,854,191</td>\n",
       "      <td>55.7</td>\n",
       "      <td>18.6</td>\n",
       "      <td>36.6</td>\n",
       "      <td>12.33</td>\n",
       "      <td>1,747,593</td>\n",
       "      <td>('41.153332 '</td>\n",
       "      <td>'20.168331')</td>\n",
       "    </tr>\n",
       "    <tr>\n",
       "      <th>2</th>\n",
       "      <td>2</td>\n",
       "      <td>2</td>\n",
       "      <td>Algeria</td>\n",
       "      <td>18</td>\n",
       "      <td>DZ</td>\n",
       "      <td>17.4</td>\n",
       "      <td>2,381,741</td>\n",
       "      <td>317,000</td>\n",
       "      <td>24.28</td>\n",
       "      <td>213.0</td>\n",
       "      <td>...</td>\n",
       "      <td>28.1</td>\n",
       "      <td>1.72</td>\n",
       "      <td>43,053,054</td>\n",
       "      <td>41.2</td>\n",
       "      <td>37.2</td>\n",
       "      <td>66.1</td>\n",
       "      <td>11.70</td>\n",
       "      <td>31,510,100</td>\n",
       "      <td>('28.033886 '</td>\n",
       "      <td>'1.659626')</td>\n",
       "    </tr>\n",
       "    <tr>\n",
       "      <th>3</th>\n",
       "      <td>3</td>\n",
       "      <td>3</td>\n",
       "      <td>Andorra</td>\n",
       "      <td>164</td>\n",
       "      <td>AD</td>\n",
       "      <td>40.0</td>\n",
       "      <td>468</td>\n",
       "      <td>NaN</td>\n",
       "      <td>7.20</td>\n",
       "      <td>376.0</td>\n",
       "      <td>...</td>\n",
       "      <td>36.4</td>\n",
       "      <td>3.33</td>\n",
       "      <td>77,142</td>\n",
       "      <td>NaN</td>\n",
       "      <td>NaN</td>\n",
       "      <td>NaN</td>\n",
       "      <td>NaN</td>\n",
       "      <td>67,873</td>\n",
       "      <td>('42.506285 '</td>\n",
       "      <td>'1.521801')</td>\n",
       "    </tr>\n",
       "    <tr>\n",
       "      <th>4</th>\n",
       "      <td>4</td>\n",
       "      <td>4</td>\n",
       "      <td>Angola</td>\n",
       "      <td>26</td>\n",
       "      <td>AO</td>\n",
       "      <td>47.5</td>\n",
       "      <td>1,246,700</td>\n",
       "      <td>117,000</td>\n",
       "      <td>40.73</td>\n",
       "      <td>244.0</td>\n",
       "      <td>...</td>\n",
       "      <td>33.4</td>\n",
       "      <td>0.21</td>\n",
       "      <td>31,825,295</td>\n",
       "      <td>77.5</td>\n",
       "      <td>9.2</td>\n",
       "      <td>49.1</td>\n",
       "      <td>6.89</td>\n",
       "      <td>21,061,025</td>\n",
       "      <td>('-11.202692 '</td>\n",
       "      <td>'17.873887')</td>\n",
       "    </tr>\n",
       "    <tr>\n",
       "      <th>...</th>\n",
       "      <td>...</td>\n",
       "      <td>...</td>\n",
       "      <td>...</td>\n",
       "      <td>...</td>\n",
       "      <td>...</td>\n",
       "      <td>...</td>\n",
       "      <td>...</td>\n",
       "      <td>...</td>\n",
       "      <td>...</td>\n",
       "      <td>...</td>\n",
       "      <td>...</td>\n",
       "      <td>...</td>\n",
       "      <td>...</td>\n",
       "      <td>...</td>\n",
       "      <td>...</td>\n",
       "      <td>...</td>\n",
       "      <td>...</td>\n",
       "      <td>...</td>\n",
       "      <td>...</td>\n",
       "      <td>...</td>\n",
       "      <td>...</td>\n",
       "    </tr>\n",
       "    <tr>\n",
       "      <th>190</th>\n",
       "      <td>190</td>\n",
       "      <td>190</td>\n",
       "      <td>Venezuela</td>\n",
       "      <td>32</td>\n",
       "      <td>VE</td>\n",
       "      <td>24.5</td>\n",
       "      <td>912,050</td>\n",
       "      <td>343,000</td>\n",
       "      <td>17.88</td>\n",
       "      <td>58.0</td>\n",
       "      <td>...</td>\n",
       "      <td>45.8</td>\n",
       "      <td>1.92</td>\n",
       "      <td>28,515,829</td>\n",
       "      <td>59.7</td>\n",
       "      <td>NaN</td>\n",
       "      <td>73.3</td>\n",
       "      <td>8.80</td>\n",
       "      <td>25,162,368</td>\n",
       "      <td>('6.42375 '</td>\n",
       "      <td>'-66.58973')</td>\n",
       "    </tr>\n",
       "    <tr>\n",
       "      <th>191</th>\n",
       "      <td>191</td>\n",
       "      <td>191</td>\n",
       "      <td>Vietnam</td>\n",
       "      <td>314</td>\n",
       "      <td>VN</td>\n",
       "      <td>39.3</td>\n",
       "      <td>331,210</td>\n",
       "      <td>522,000</td>\n",
       "      <td>16.75</td>\n",
       "      <td>84.0</td>\n",
       "      <td>...</td>\n",
       "      <td>43.5</td>\n",
       "      <td>0.82</td>\n",
       "      <td>96,462,106</td>\n",
       "      <td>77.4</td>\n",
       "      <td>19.1</td>\n",
       "      <td>37.6</td>\n",
       "      <td>2.01</td>\n",
       "      <td>35,332,140</td>\n",
       "      <td>('14.058324 '</td>\n",
       "      <td>'108.277199')</td>\n",
       "    </tr>\n",
       "    <tr>\n",
       "      <th>192</th>\n",
       "      <td>192</td>\n",
       "      <td>192</td>\n",
       "      <td>Yemen</td>\n",
       "      <td>56</td>\n",
       "      <td>YE</td>\n",
       "      <td>44.6</td>\n",
       "      <td>527,968</td>\n",
       "      <td>40,000</td>\n",
       "      <td>30.45</td>\n",
       "      <td>967.0</td>\n",
       "      <td>...</td>\n",
       "      <td>81.0</td>\n",
       "      <td>0.31</td>\n",
       "      <td>29,161,922</td>\n",
       "      <td>38.0</td>\n",
       "      <td>NaN</td>\n",
       "      <td>26.6</td>\n",
       "      <td>12.91</td>\n",
       "      <td>10,869,523</td>\n",
       "      <td>('15.552727 '</td>\n",
       "      <td>'48.516388')</td>\n",
       "    </tr>\n",
       "    <tr>\n",
       "      <th>193</th>\n",
       "      <td>193</td>\n",
       "      <td>193</td>\n",
       "      <td>Zambia</td>\n",
       "      <td>25</td>\n",
       "      <td>ZM</td>\n",
       "      <td>32.1</td>\n",
       "      <td>752,618</td>\n",
       "      <td>16,000</td>\n",
       "      <td>36.19</td>\n",
       "      <td>260.0</td>\n",
       "      <td>...</td>\n",
       "      <td>27.5</td>\n",
       "      <td>1.19</td>\n",
       "      <td>17,861,030</td>\n",
       "      <td>74.6</td>\n",
       "      <td>16.2</td>\n",
       "      <td>15.6</td>\n",
       "      <td>11.43</td>\n",
       "      <td>7,871,713</td>\n",
       "      <td>('-13.133897 '</td>\n",
       "      <td>'27.849332')</td>\n",
       "    </tr>\n",
       "    <tr>\n",
       "      <th>194</th>\n",
       "      <td>194</td>\n",
       "      <td>194</td>\n",
       "      <td>Zimbabwe</td>\n",
       "      <td>38</td>\n",
       "      <td>ZW</td>\n",
       "      <td>41.9</td>\n",
       "      <td>390,757</td>\n",
       "      <td>51,000</td>\n",
       "      <td>30.68</td>\n",
       "      <td>263.0</td>\n",
       "      <td>...</td>\n",
       "      <td>25.8</td>\n",
       "      <td>0.21</td>\n",
       "      <td>14,645,468</td>\n",
       "      <td>83.1</td>\n",
       "      <td>20.7</td>\n",
       "      <td>31.6</td>\n",
       "      <td>4.95</td>\n",
       "      <td>4,717,305</td>\n",
       "      <td>('-19.015438 '</td>\n",
       "      <td>'29.154857')</td>\n",
       "    </tr>\n",
       "  </tbody>\n",
       "</table>\n",
       "<p>195 rows × 38 columns</p>\n",
       "</div>"
      ],
      "text/plain": [
       "     Unnamed: 0  unnamed0      country density(p/km2) abbreviation  \\\n",
       "0             0         0  Afghanistan             60           AF   \n",
       "1             1         1      Albania            105           AL   \n",
       "2             2         2      Algeria             18           DZ   \n",
       "3             3         3      Andorra            164           AD   \n",
       "4             4         4       Angola             26           AO   \n",
       "..          ...       ...          ...            ...          ...   \n",
       "190         190       190    Venezuela             32           VE   \n",
       "191         191       191      Vietnam            314           VN   \n",
       "192         192       192        Yemen             56           YE   \n",
       "193         193       193       Zambia             25           ZM   \n",
       "194         194       194     Zimbabwe             38           ZW   \n",
       "\n",
       "     agriculturalland   landarea armedforcessize  birthrate  callingcode  ...  \\\n",
       "0                58.1    652,230         323,000      32.49         93.0  ...   \n",
       "1                43.1     28,748           9,000      11.78        355.0  ...   \n",
       "2                17.4  2,381,741         317,000      24.28        213.0  ...   \n",
       "3                40.0        468             NaN       7.20        376.0  ...   \n",
       "4                47.5  1,246,700         117,000      40.73        244.0  ...   \n",
       "..                ...        ...             ...        ...          ...  ...   \n",
       "190              24.5    912,050         343,000      17.88         58.0  ...   \n",
       "191              39.3    331,210         522,000      16.75         84.0  ...   \n",
       "192              44.6    527,968          40,000      30.45        967.0  ...   \n",
       "193              32.1    752,618          16,000      36.19        260.0  ...   \n",
       "194              41.9    390,757          51,000      30.68        263.0  ...   \n",
       "\n",
       "    outofpockethealthexpenditure physiciansperthousand  population  \\\n",
       "0                           78.4                  0.28  38,041,754   \n",
       "1                           56.9                  1.20   2,854,191   \n",
       "2                           28.1                  1.72  43,053,054   \n",
       "3                           36.4                  3.33      77,142   \n",
       "4                           33.4                  0.21  31,825,295   \n",
       "..                           ...                   ...         ...   \n",
       "190                         45.8                  1.92  28,515,829   \n",
       "191                         43.5                  0.82  96,462,106   \n",
       "192                         81.0                  0.31  29,161,922   \n",
       "193                         27.5                  1.19  17,861,030   \n",
       "194                         25.8                  0.21  14,645,468   \n",
       "\n",
       "     populationlaborforceparticipation taxrevenue  totaltaxrate  \\\n",
       "0                                 48.9        9.3          71.4   \n",
       "1                                 55.7       18.6          36.6   \n",
       "2                                 41.2       37.2          66.1   \n",
       "3                                  NaN        NaN           NaN   \n",
       "4                                 77.5        9.2          49.1   \n",
       "..                                 ...        ...           ...   \n",
       "190                               59.7        NaN          73.3   \n",
       "191                               77.4       19.1          37.6   \n",
       "192                               38.0        NaN          26.6   \n",
       "193                               74.6       16.2          15.6   \n",
       "194                               83.1       20.7          31.6   \n",
       "\n",
       "     unemploymentrate  urban_population         latitud        longitud  \n",
       "0               11.12         9,797,273    ('33.93911 '    '67.709953')  \n",
       "1               12.33         1,747,593   ('41.153332 '    '20.168331')  \n",
       "2               11.70        31,510,100   ('28.033886 '     '1.659626')  \n",
       "3                 NaN            67,873   ('42.506285 '     '1.521801')  \n",
       "4                6.89        21,061,025  ('-11.202692 '    '17.873887')  \n",
       "..                ...               ...             ...             ...  \n",
       "190              8.80        25,162,368     ('6.42375 '    '-66.58973')  \n",
       "191              2.01        35,332,140   ('14.058324 '   '108.277199')  \n",
       "192             12.91        10,869,523   ('15.552727 '    '48.516388')  \n",
       "193             11.43         7,871,713  ('-13.133897 '    '27.849332')  \n",
       "194              4.95         4,717,305  ('-19.015438 '    '29.154857')  \n",
       "\n",
       "[195 rows x 38 columns]"
      ]
     },
     "execution_count": 64,
     "metadata": {},
     "output_type": "execute_result"
    }
   ],
   "source": [
    "# Apertura y lectura del archivo csv, para la lectura y observación en DataFrame\n",
    "df_pair4 = pd.read_csv(\"datos_pair4.csv\")\n",
    "df_pair4"
   ]
  },
  {
   "cell_type": "markdown",
   "metadata": {},
   "source": [
    "## Ejercicios apply"
   ]
  },
  {
   "cell_type": "markdown",
   "metadata": {},
   "source": [
    "1. Las columnas land_area, armed_forces_size, co2-emissions, gdp, population, urban_population, latitude, longitude, density, cpi son de tipo object pero en realidad deberían ser numéricas. Crea una función que nos permita cambiar el tipo de dato de estas columnas al que le corresponde."
   ]
  },
  {
   "cell_type": "code",
   "execution_count": 65,
   "metadata": {},
   "outputs": [],
   "source": [
    "columns = ['landarea', 'armedforcessize', 'co2-emissions', 'gdp', 'population', 'urban_population', 'latitud', 'longitud', 'density(p/km2)', 'cpi']"
   ]
  },
  {
   "cell_type": "code",
   "execution_count": 66,
   "metadata": {},
   "outputs": [
    {
     "data": {
      "text/plain": [
       "landarea            object\n",
       "armedforcessize     object\n",
       "co2-emissions       object\n",
       "gdp                 object\n",
       "population          object\n",
       "urban_population    object\n",
       "latitud             object\n",
       "longitud            object\n",
       "density(p/km2)      object\n",
       "cpi                 object\n",
       "dtype: object"
      ]
     },
     "execution_count": 66,
     "metadata": {},
     "output_type": "execute_result"
    }
   ],
   "source": [
    "df_pair4[columns].dtypes"
   ]
  },
  {
   "cell_type": "code",
   "execution_count": 67,
   "metadata": {},
   "outputs": [
    {
     "data": {
      "text/html": [
       "<div>\n",
       "<style scoped>\n",
       "    .dataframe tbody tr th:only-of-type {\n",
       "        vertical-align: middle;\n",
       "    }\n",
       "\n",
       "    .dataframe tbody tr th {\n",
       "        vertical-align: top;\n",
       "    }\n",
       "\n",
       "    .dataframe thead th {\n",
       "        text-align: right;\n",
       "    }\n",
       "</style>\n",
       "<table border=\"1\" class=\"dataframe\">\n",
       "  <thead>\n",
       "    <tr style=\"text-align: right;\">\n",
       "      <th></th>\n",
       "      <th>Unnamed: 0</th>\n",
       "      <th>unnamed0</th>\n",
       "      <th>country</th>\n",
       "      <th>density(p/km2)</th>\n",
       "      <th>abbreviation</th>\n",
       "      <th>agriculturalland</th>\n",
       "      <th>landarea</th>\n",
       "      <th>armedforcessize</th>\n",
       "      <th>birthrate</th>\n",
       "      <th>callingcode</th>\n",
       "      <th>...</th>\n",
       "      <th>outofpockethealthexpenditure</th>\n",
       "      <th>physiciansperthousand</th>\n",
       "      <th>population</th>\n",
       "      <th>populationlaborforceparticipation</th>\n",
       "      <th>taxrevenue</th>\n",
       "      <th>totaltaxrate</th>\n",
       "      <th>unemploymentrate</th>\n",
       "      <th>urban_population</th>\n",
       "      <th>latitud</th>\n",
       "      <th>longitud</th>\n",
       "    </tr>\n",
       "  </thead>\n",
       "  <tbody>\n",
       "    <tr>\n",
       "      <th>0</th>\n",
       "      <td>0</td>\n",
       "      <td>0</td>\n",
       "      <td>Afghanistan</td>\n",
       "      <td>60</td>\n",
       "      <td>AF</td>\n",
       "      <td>58.1</td>\n",
       "      <td>652,230</td>\n",
       "      <td>323,000</td>\n",
       "      <td>32.49</td>\n",
       "      <td>93.0</td>\n",
       "      <td>...</td>\n",
       "      <td>78.4</td>\n",
       "      <td>0.28</td>\n",
       "      <td>38,041,754</td>\n",
       "      <td>48.9</td>\n",
       "      <td>9.3</td>\n",
       "      <td>71.4</td>\n",
       "      <td>11.12</td>\n",
       "      <td>9,797,273</td>\n",
       "      <td>('33.93911 '</td>\n",
       "      <td>'67.709953')</td>\n",
       "    </tr>\n",
       "    <tr>\n",
       "      <th>1</th>\n",
       "      <td>1</td>\n",
       "      <td>1</td>\n",
       "      <td>Albania</td>\n",
       "      <td>105</td>\n",
       "      <td>AL</td>\n",
       "      <td>43.1</td>\n",
       "      <td>28,748</td>\n",
       "      <td>9,000</td>\n",
       "      <td>11.78</td>\n",
       "      <td>355.0</td>\n",
       "      <td>...</td>\n",
       "      <td>56.9</td>\n",
       "      <td>1.20</td>\n",
       "      <td>2,854,191</td>\n",
       "      <td>55.7</td>\n",
       "      <td>18.6</td>\n",
       "      <td>36.6</td>\n",
       "      <td>12.33</td>\n",
       "      <td>1,747,593</td>\n",
       "      <td>('41.153332 '</td>\n",
       "      <td>'20.168331')</td>\n",
       "    </tr>\n",
       "    <tr>\n",
       "      <th>2</th>\n",
       "      <td>2</td>\n",
       "      <td>2</td>\n",
       "      <td>Algeria</td>\n",
       "      <td>18</td>\n",
       "      <td>DZ</td>\n",
       "      <td>17.4</td>\n",
       "      <td>2,381,741</td>\n",
       "      <td>317,000</td>\n",
       "      <td>24.28</td>\n",
       "      <td>213.0</td>\n",
       "      <td>...</td>\n",
       "      <td>28.1</td>\n",
       "      <td>1.72</td>\n",
       "      <td>43,053,054</td>\n",
       "      <td>41.2</td>\n",
       "      <td>37.2</td>\n",
       "      <td>66.1</td>\n",
       "      <td>11.70</td>\n",
       "      <td>31,510,100</td>\n",
       "      <td>('28.033886 '</td>\n",
       "      <td>'1.659626')</td>\n",
       "    </tr>\n",
       "    <tr>\n",
       "      <th>3</th>\n",
       "      <td>3</td>\n",
       "      <td>3</td>\n",
       "      <td>Andorra</td>\n",
       "      <td>164</td>\n",
       "      <td>AD</td>\n",
       "      <td>40.0</td>\n",
       "      <td>468</td>\n",
       "      <td>NaN</td>\n",
       "      <td>7.20</td>\n",
       "      <td>376.0</td>\n",
       "      <td>...</td>\n",
       "      <td>36.4</td>\n",
       "      <td>3.33</td>\n",
       "      <td>77,142</td>\n",
       "      <td>NaN</td>\n",
       "      <td>NaN</td>\n",
       "      <td>NaN</td>\n",
       "      <td>NaN</td>\n",
       "      <td>67,873</td>\n",
       "      <td>('42.506285 '</td>\n",
       "      <td>'1.521801')</td>\n",
       "    </tr>\n",
       "    <tr>\n",
       "      <th>4</th>\n",
       "      <td>4</td>\n",
       "      <td>4</td>\n",
       "      <td>Angola</td>\n",
       "      <td>26</td>\n",
       "      <td>AO</td>\n",
       "      <td>47.5</td>\n",
       "      <td>1,246,700</td>\n",
       "      <td>117,000</td>\n",
       "      <td>40.73</td>\n",
       "      <td>244.0</td>\n",
       "      <td>...</td>\n",
       "      <td>33.4</td>\n",
       "      <td>0.21</td>\n",
       "      <td>31,825,295</td>\n",
       "      <td>77.5</td>\n",
       "      <td>9.2</td>\n",
       "      <td>49.1</td>\n",
       "      <td>6.89</td>\n",
       "      <td>21,061,025</td>\n",
       "      <td>('-11.202692 '</td>\n",
       "      <td>'17.873887')</td>\n",
       "    </tr>\n",
       "  </tbody>\n",
       "</table>\n",
       "<p>5 rows × 38 columns</p>\n",
       "</div>"
      ],
      "text/plain": [
       "   Unnamed: 0  unnamed0      country density(p/km2) abbreviation  \\\n",
       "0           0         0  Afghanistan             60           AF   \n",
       "1           1         1      Albania            105           AL   \n",
       "2           2         2      Algeria             18           DZ   \n",
       "3           3         3      Andorra            164           AD   \n",
       "4           4         4       Angola             26           AO   \n",
       "\n",
       "   agriculturalland   landarea armedforcessize  birthrate  callingcode  ...  \\\n",
       "0              58.1    652,230         323,000      32.49         93.0  ...   \n",
       "1              43.1     28,748           9,000      11.78        355.0  ...   \n",
       "2              17.4  2,381,741         317,000      24.28        213.0  ...   \n",
       "3              40.0        468             NaN       7.20        376.0  ...   \n",
       "4              47.5  1,246,700         117,000      40.73        244.0  ...   \n",
       "\n",
       "  outofpockethealthexpenditure physiciansperthousand  population  \\\n",
       "0                         78.4                  0.28  38,041,754   \n",
       "1                         56.9                  1.20   2,854,191   \n",
       "2                         28.1                  1.72  43,053,054   \n",
       "3                         36.4                  3.33      77,142   \n",
       "4                         33.4                  0.21  31,825,295   \n",
       "\n",
       "   populationlaborforceparticipation taxrevenue  totaltaxrate  \\\n",
       "0                               48.9        9.3          71.4   \n",
       "1                               55.7       18.6          36.6   \n",
       "2                               41.2       37.2          66.1   \n",
       "3                                NaN        NaN           NaN   \n",
       "4                               77.5        9.2          49.1   \n",
       "\n",
       "   unemploymentrate  urban_population         latitud       longitud  \n",
       "0             11.12         9,797,273    ('33.93911 '   '67.709953')  \n",
       "1             12.33         1,747,593   ('41.153332 '   '20.168331')  \n",
       "2             11.70        31,510,100   ('28.033886 '    '1.659626')  \n",
       "3               NaN            67,873   ('42.506285 '    '1.521801')  \n",
       "4              6.89        21,061,025  ('-11.202692 '   '17.873887')  \n",
       "\n",
       "[5 rows x 38 columns]"
      ]
     },
     "execution_count": 67,
     "metadata": {},
     "output_type": "execute_result"
    }
   ],
   "source": [
    "df_pair4.head()"
   ]
  },
  {
   "cell_type": "code",
   "execution_count": 68,
   "metadata": {},
   "outputs": [],
   "source": [
    "\n",
    "def convert_numeric(valor):\n",
    "    try:\n",
    "        valor = valor.replace(\",\", \"\")\n",
    "        return float(valor)\n",
    "    except:\n",
    "        return np.nan\n",
    "\n",
    "\n",
    "    "
   ]
  },
  {
   "cell_type": "code",
   "execution_count": 69,
   "metadata": {},
   "outputs": [],
   "source": [
    "for columna in columns:\n",
    "    df_pair4[columna] = df_pair4[columna].apply(convert_numeric)"
   ]
  },
  {
   "cell_type": "code",
   "execution_count": 70,
   "metadata": {},
   "outputs": [
    {
     "data": {
      "text/plain": [
       "0       652230.0\n",
       "1        28748.0\n",
       "2      2381741.0\n",
       "3          468.0\n",
       "4      1246700.0\n",
       "         ...    \n",
       "190     912050.0\n",
       "191     331210.0\n",
       "192     527968.0\n",
       "193     752618.0\n",
       "194     390757.0\n",
       "Name: landarea, Length: 195, dtype: float64"
      ]
     },
     "execution_count": 70,
     "metadata": {},
     "output_type": "execute_result"
    }
   ],
   "source": [
    "df_pair4[\"landarea\"]"
   ]
  },
  {
   "cell_type": "markdown",
   "metadata": {},
   "source": [
    "2. Crea una función para añadir una nueva columna llamada 'Continent' al DataFrame para indicar a qué continente pertenece cada país."
   ]
  },
  {
   "cell_type": "code",
   "execution_count": 71,
   "metadata": {},
   "outputs": [],
   "source": [
    "def agregar_columna_continente(dato):\n",
    "    continentes_paises = {'Africa': ['Algeria', 'Angola', 'Benin', 'Botswana', 'Burkina Faso', 'Burundi', 'Cameroon', 'Cape Verde', 'Central African Republic', 'Chad', 'Comoros', 'Republic of the Congo', 'Democratic Republic of the Congo', 'Djibouti', 'Egypt', 'Equatorial Guinea', 'Eritrea', 'Eswatini', 'Ethiopia', 'Gabon', 'The Gambia', 'Ghana', 'Guinea', 'Guinea-Bissau', 'Ivory Coast', 'Kenya', 'Lesotho', 'Liberia', 'Libya', 'Madagascar', 'Malawi', 'Mali', 'Mauritania', 'Mauritius', 'Morocco', 'Mozambique', 'Namibia', 'Niger', 'Nigeria', 'Rwanda', 'Sao Tome and Principe', 'Senegal', 'Seychelles', 'Sierra Leone', 'Somalia', 'South Africa', 'South Sudan', 'Sudan', 'Tanzania', 'Togo', 'Tunisia', 'Uganda', 'Zambia', 'Zimbabwe'], 'Asia': ['Afghanistan', 'Armenia', 'Azerbaijan', 'Bahrain', 'Bangladesh',\n",
    "             'Bhutan', 'Brunei', 'Cambodia', 'China', 'Cyprus', 'Georgia',\n",
    "             'India', 'Indonesia', 'Iran', 'Iraq', 'Israel', 'Japan', 'Jordan',\n",
    "             'Kazakhstan', 'Kuwait', 'Kyrgyzstan', 'Laos', 'Lebanon', 'Malaysia',\n",
    "             'Maldives', 'Mongolia', 'Myanmar', 'Nepal', 'North Korea', 'Oman',\n",
    "             'Pakistan', 'Palestine', 'Philippines', 'Qatar', 'Saudi Arabia',\n",
    "             'Singapore', 'South Korea', 'Sri Lanka', 'Syria', 'Taiwan', 'Tajikistan',\n",
    "             'Thailand', 'Timor-Leste', 'Turkey', 'Turkmenistan', 'United Arab Emirates',\n",
    "             'Uzbekistan', 'Vietnam', 'Yemen'], 'Europe': ['Albania', 'Andorra', 'Austria', 'Belarus', 'Belgium', 'Bosnia and Herzegovina',\n",
    "               'Bulgaria', 'Croatia', 'Cyprus', 'Czech Republic', 'Denmark', 'Estonia',\n",
    "               'Finland', 'France', 'Germany', 'Greece', 'Hungary', 'Iceland', 'Ireland',\n",
    "               'Italy', 'Kosovo', 'Latvia', 'Liechtenstein', 'Lithuania', 'Luxembourg',\n",
    "               'Malta', 'Moldova', 'Monaco', 'Montenegro', 'Netherlands', 'North Macedonia',\n",
    "               'Norway', 'Poland', 'Portugal', 'Romania', 'Russia', 'San Marino', 'Serbia',\n",
    "               'Slovakia', 'Slovenia', 'Spain', 'Sweden', 'Switzerland', 'Ukraine', 'United Kingdom',\n",
    "               'Vatican City'], 'North America': ['Antigua and Barbuda', 'The Bahamas', 'Barbados', 'Belize', 'Canada',\n",
    "                      'Costa Rica', 'Cuba', 'Dominica', 'Dominican Republic', 'El Salvador',\n",
    "                      'Grenada', 'Guatemala', 'Haiti', 'Honduras', 'Jamaica', 'Mexico',\n",
    "                      'Nicaragua', 'Panama', 'Saint Kitts and Nevis', 'Saint Lucia', 'Saint Vincent and the Grenadines',\n",
    "                      'Trinidad and Tobago', 'United States'], 'South America': ['Argentina', 'Bolivia', 'Brazil', 'Chile', 'Colombia',\n",
    "                  'Ecuador', 'Guyana', 'Paraguay', 'Peru', 'Suriname', 'Uruguay', 'Venezuela']}\n",
    "   \n",
    "    for continente, paises in continentes_paises.items():\n",
    "        if dato in paises:\n",
    "            return continente\n",
    "            break"
   ]
  },
  {
   "cell_type": "code",
   "execution_count": 72,
   "metadata": {},
   "outputs": [],
   "source": [
    "df_pair4[\"continent\"] = df_pair4[\"country\"].apply(agregar_columna_continente)"
   ]
  },
  {
   "cell_type": "code",
   "execution_count": 73,
   "metadata": {},
   "outputs": [
    {
     "data": {
      "text/plain": [
       "Index(['Unnamed: 0', 'unnamed0', 'country', 'density(p/km2)', 'abbreviation',\n",
       "       'agriculturalland', 'landarea', 'armedforcessize', 'birthrate',\n",
       "       'callingcode', 'capital/majorcity', 'co2-emissions', 'cpi', 'cpichange',\n",
       "       'currency-code', 'fertilityrate', 'forestedarea', 'gasolineprice',\n",
       "       'unnamed0.1', 'gdp', 'grossprimaryeducationenrollment',\n",
       "       'grosstertiaryeducationenrollment', 'infantmortality', 'largestcity',\n",
       "       'lifeexpectancy', 'maternalmortalityratio', 'minimumwage',\n",
       "       'officiallanguage', 'outofpockethealthexpenditure',\n",
       "       'physiciansperthousand', 'population',\n",
       "       'populationlaborforceparticipation', 'taxrevenue', 'totaltaxrate',\n",
       "       'unemploymentrate', 'urban_population', 'latitud', 'longitud',\n",
       "       'continent'],\n",
       "      dtype='object')"
      ]
     },
     "execution_count": 73,
     "metadata": {},
     "output_type": "execute_result"
    }
   ],
   "source": [
    "df_pair4.columns"
   ]
  },
  {
   "cell_type": "markdown",
   "metadata": {},
   "source": [
    "3. Guarda el DataFrame después de los cambios creados después de los dos ejercicios anteriores para usarlo en el pairprogramming de mañana."
   ]
  },
  {
   "cell_type": "code",
   "execution_count": 74,
   "metadata": {},
   "outputs": [],
   "source": [
    "df_pair4.to_csv(\"datos_pair5.csv\")"
   ]
  },
  {
   "cell_type": "markdown",
   "metadata": {},
   "source": [
    "## Ejercicios groupby"
   ]
  },
  {
   "cell_type": "code",
   "execution_count": 75,
   "metadata": {},
   "outputs": [
    {
     "name": "stdout",
     "output_type": "stream",
     "text": [
      "     Unnamed: 0  unnamed0                           country  density(p/km2) abbreviation  agriculturalland    landarea  armedforcessize  birthrate  callingcode       capital/majorcity  co2-emissions      cpi  cpichange currency-code  fertilityrate  forestedarea  gasolineprice  unnamed0.1           gdp  grossprimaryeducationenrollment  grosstertiaryeducationenrollment  infantmortality              largestcity  lifeexpectancy  maternalmortalityratio  minimumwage        officiallanguage  outofpockethealthexpenditure  physiciansperthousand    population  populationlaborforceparticipation  taxrevenue  totaltaxrate  unemploymentrate  urban_population  latitud  longitud      continent\n",
      "0             0         0                       Afghanistan            60.0           AF              58.1    652230.0         323000.0      32.49         93.0                   Kabul         8672.0   149.90        2.3           AFN           4.47           2.1           0.70           0  1.910135e+10                            104.0                               9.7             47.9                    Kabul            64.5                   638.0         0.43                  Pashto                          78.4                   0.28  3.804175e+07                               48.9         9.3          71.4             11.12         9797273.0      NaN       NaN           Asia\n",
      "1             1         1                           Albania           105.0           AL              43.1     28748.0           9000.0      11.78        355.0                  Tirana         4536.0   119.05        1.4           ALL           1.62          28.1           1.36           1  1.527808e+10                            107.0                              55.0              7.8                   Tirana            78.5                    15.0         1.12                Albanian                          56.9                   1.20  2.854191e+06                               55.7        18.6          36.6             12.33         1747593.0      NaN       NaN         Europe\n",
      "2             2         2                           Algeria            18.0           DZ              17.4   2381741.0         317000.0      24.28        213.0                 Algiers       150006.0   151.36        2.0           DZD           3.02           0.8           0.28           2  1.699882e+11                            109.9                              51.4             20.1                  Algiers            76.7                   112.0         0.95                  Arabic                          28.1                   1.72  4.305305e+07                               41.2        37.2          66.1             11.70        31510100.0      NaN       NaN         Africa\n",
      "3             3         3                           Andorra           164.0           AD              40.0       468.0              NaN       7.20        376.0        Andorra la Vella          469.0      NaN        NaN           EUR           1.27          34.0           1.51           3  3.154058e+09                            106.4                               NaN              2.7         Andorra la Vella             NaN                     NaN         6.63                 Catalan                          36.4                   3.33  7.714200e+04                                NaN         NaN           NaN               NaN           67873.0      NaN       NaN         Europe\n",
      "4             4         4                            Angola            26.0           AO              47.5   1246700.0         117000.0      40.73        244.0                  Luanda        34693.0   261.73       17.1           AOA           5.52          46.3           0.97           4  9.463542e+10                            113.5                               9.3             51.6                   Luanda            60.8                   241.0         0.71              Portuguese                          33.4                   0.21  3.182530e+07                               77.5         9.2          49.1              6.89        21061025.0      NaN       NaN         Africa\n",
      "5             5         5               Antigua and Barbuda           223.0           AG              20.5       443.0              0.0      15.33          1.0  St. John's, Saint John          557.0   113.81        1.2           XCD           1.99          22.3           0.99           5  1.727759e+09                            105.0                              24.8              5.0   St. John's, Saint John            76.9                    42.0         3.04                 English                          24.3                   2.76  9.711800e+04                                NaN        16.5          43.0               NaN           23800.0      NaN       NaN  North America\n",
      "6             6         6                         Argentina            17.0           AR              54.3   2780400.0         105000.0      17.02         54.0            Buenos Aires       201348.0   232.75       53.5           ARS           2.26           9.8           1.10           6  4.496634e+11                            109.7                              90.0              8.8             Buenos Aires            76.5                    39.0         3.35                 Spanish                          17.6                   3.96  4.493871e+07                               61.3        10.1         106.3              9.79        41339571.0      NaN       NaN  South America\n",
      "7             7         7                           Armenia           104.0           AM              58.9     29743.0          49000.0      13.99        374.0                 Yerevan         5156.0   129.18        1.4           AMD           1.76          11.7           0.77           7  1.367280e+10                             92.7                              54.6             11.0                  Yerevan            74.9                    26.0         0.66                Armenian                          81.6                   4.40  2.957731e+06                               55.6        20.9          22.6             16.99         1869848.0      NaN       NaN           Asia\n",
      "8             8         8                         Australia             3.0           AU              48.2   7741220.0          58000.0      12.60         61.0                Canberra       375908.0   119.80        1.6           AUD           1.74          16.3           0.93           8  1.392681e+12                            100.3                             113.1              3.1                   Sydney            82.7                     6.0        13.59                     NaN                          19.6                   3.68  2.576660e+07                               65.5        23.0          47.4              5.27        21844756.0      NaN       NaN           None\n",
      "9             9         9                           Austria           109.0           AT              32.4     83871.0          21000.0       9.70         43.0                  Vienna        61448.0   118.06        1.5           EUR           1.47          46.9           1.20           9  4.463147e+11                            103.1                              85.1              2.9                   Vienna            81.6                     5.0          NaN                  German                          17.9                   5.17  8.877067e+06                               60.7        25.4          51.4              4.67         5194416.0      NaN       NaN         Europe\n",
      "10           10        10                        Azerbaijan           123.0           AZ              57.7     86600.0          82000.0      14.00        994.0                    Baku        37620.0   156.32        2.6           AZN           1.73          14.1           0.56          10  3.920700e+10                             99.7                              27.7             19.2                     Baku            72.9                    26.0         0.47    Azerbaijani language                          78.6                   3.45  1.002332e+07                               66.5        13.0          40.7              5.51         5616165.0      NaN       NaN           Asia\n",
      "11           11        11                       The Bahamas            39.0           BS               1.4     13880.0           1000.0      13.97          1.0         Nassau, Bahamas         1786.0   116.22        2.5           NaN           1.75          51.4           0.92          11  1.282700e+10                             81.4                              15.1              8.3          Nassau, Bahamas            73.8                    70.0         5.25                 English                          27.8                   1.94  3.894820e+05                               74.6        14.8          33.8             10.36          323784.0      NaN       NaN  North America\n",
      "12           12        12                           Bahrain          2239.0           BH              11.1       765.0          19000.0      13.99        973.0                  Manama        31694.0   117.59        2.1           BHD           1.99           0.8           0.43          12  3.857407e+10                             99.4                              50.5              6.1                    Riffa            77.2                    14.0          NaN                  Arabic                          25.1                   0.93  1.501635e+06                               73.4         4.2          13.8              0.71         1467109.0      NaN       NaN           Asia\n",
      "13           13        13                        Bangladesh          1265.0           BD              70.6    148460.0         221000.0      18.18        880.0                   Dhaka        84246.0   179.68        5.6           BDT           2.04          11.0           1.12          13  3.025713e+11                            116.5                              20.6             25.1                    Dhaka            72.3                   173.0         0.51                 Bengali                          71.8                   0.58  1.673108e+08                               59.0         8.8          33.4              4.19        60987417.0      NaN       NaN           Asia\n",
      "14           14        14                          Barbados           668.0           BB              23.3       430.0           1000.0      10.65          1.0              Bridgetown         1276.0   134.09        4.1           BBD           1.62          14.7           1.81          14  5.209000e+09                             99.4                              65.4             11.3               Bridgetown            79.1                    27.0         3.13                 English                          45.2                   2.48  2.870250e+05                               65.2        27.5          35.6             10.33           89431.0      NaN       NaN  North America\n",
      "15           15        15                           Belarus            47.0           BY              42.0    207600.0         155000.0       9.90        375.0                   Minsk        58280.0      NaN        5.6           BYN           1.45          42.6           0.60          15  6.308046e+10                            100.5                              87.4              2.6                    Minsk            74.2                     2.0         1.49                 Russian                          34.5                   5.19  9.466856e+06                               64.1        14.7          53.3              4.59         7482982.0      NaN       NaN         Europe\n",
      "16           16        16                           Belgium           383.0           BE              44.6     30528.0          32000.0      10.30         32.0        City of Brussels        96889.0   117.11        1.4           EUR           1.62          22.6           1.43          16  5.296067e+11                            103.9                              79.7              2.9                 Brussels            81.6                     5.0        10.31                  French                          17.6                   3.07  1.148406e+07                               53.6        24.0          55.4              5.59        11259082.0      NaN       NaN         Europe\n",
      "17           17        17                            Belize            17.0           BZ               7.0     22966.0           2000.0      20.79        501.0                Belmopan          568.0   105.68       -0.9           BZD           2.31          59.7           1.13          17  1.879614e+09                            111.7                              24.7             11.2              Belize City            74.5                    36.0         1.65                 English                          22.7                   1.12  3.903530e+05                               65.1        26.3          31.1              6.41          179039.0      NaN       NaN  North America\n",
      "18           18        18                             Benin           108.0           BJ              33.3    112622.0          12000.0      36.22        229.0              Porto-Novo         6476.0   110.71       -0.9           XOF           4.84          37.8           0.72          18  1.439071e+10                            122.0                              12.3             60.5                  Cotonou            61.5                   397.0         0.39                  French                          40.5                   0.08  1.180115e+07                               70.9        10.8          48.9              2.23         5648149.0      NaN       NaN         Africa\n",
      "19           19        19                            Bhutan            20.0           BT              13.6     38394.0           6000.0      17.26        975.0                 Thimphu         1261.0   167.18        2.7           NaN           1.98          72.5           0.98          19  2.446674e+09                            100.1                              15.6             24.8                  Thimphu            71.5                   183.0         0.32                Dzongkha                          19.8                   0.42  7.271450e+05                               66.7        16.0          35.3              2.34          317538.0      NaN       NaN           Asia\n",
      "20           20        20                           Bolivia            11.0           BO              34.8   1098581.0          71000.0      21.75        591.0                   Sucre        21606.0   148.32        1.8           BOB           2.73          50.3           0.71          20  4.089532e+10                             98.2                               NaN             21.8  Santa Cruz de la Sierra            71.2                   155.0         1.36                 Spanish                          25.9                   1.59  1.151310e+07                               71.8        17.0          83.7              3.50         8033035.0      NaN       NaN  South America\n",
      "21           21        21            Bosnia and Herzegovina            64.0           BA              43.1     51197.0          11000.0       8.11        387.0                Sarajevo        21848.0   104.90        0.6           BAM           1.27          42.7           1.05          21  2.004785e+10                              NaN                              23.3              5.0             Tuzla Canton            77.3                    10.0         1.04                 Bosnian                          28.6                   2.16  3.301000e+06                               46.4        20.4          23.7             18.42         1605144.0      NaN       NaN         Europe\n",
      "22           22        22                          Botswana             4.0           BW              45.6    581730.0           9000.0      24.82        267.0                Gaborone         6340.0   149.75        2.8           BWP           2.87          18.9           0.71          22  1.834051e+10                            103.2                              24.9             30.0                 Gaborone            69.3                   144.0         0.29                 English                           5.3                   0.37  2.346179e+06                               70.8        19.5          25.1             18.19         1616550.0      NaN       NaN         Africa\n",
      "23           23        23                            Brazil            25.0           BR              33.9   8515770.0         730000.0      13.92         55.0                 Bras���       462299.0   167.40        3.7           BRL           1.73          58.9           1.02          23  1.839758e+12                            115.4                              51.3             12.8                    S����            75.7                    60.0         1.53              Portuguese                          28.3                   2.15  2.125594e+08                               63.9        14.2          65.1             12.08       183241641.0      NaN       NaN  South America\n",
      "24           24        24                            Brunei            83.0           BN               2.7      5765.0           8000.0      14.90        673.0     Bandar Seri Begawan         7664.0    99.03       -0.4           BND           1.85          72.1           0.37          24  1.346942e+10                            103.2                              31.4              9.8                      NaN            75.7                    31.0          NaN                   Malay                           6.0                   1.61  4.332850e+05                               64.7         NaN           8.0              9.12          337711.0      NaN       NaN           Asia\n",
      "25           25        25                          Bulgaria            64.0           BG              46.3    110879.0          31000.0       8.90        359.0                   Sofia        41708.0   114.42        3.1           BGN           1.56          35.4           1.11          25  8.600000e+10                             89.3                              71.0              5.9                    Sofia            74.9                    10.0         1.57               Bulgarian                          47.7                   4.03  6.975761e+06                               55.4        20.2          28.3              4.34         5256027.0      NaN       NaN         Europe\n",
      "26           26        26                      Burkina Faso            76.0           BF              44.2    274200.0          11000.0      37.93        226.0             Ouagadougou         3418.0   106.58       -3.2           XOF           5.19          19.3           0.98          26  1.574581e+10                             96.1                               6.5             49.0              Ouagadougou            61.2                   320.0         0.34                  French                          36.1                   0.08  2.032138e+07                               66.4        15.0          41.3              6.26         6092349.0      NaN       NaN         Africa\n",
      "27           27        27                           Burundi           463.0           BI              79.2     27830.0          31000.0      39.01        257.0               Bujumbura          495.0   182.11       -0.7           BIF           5.41          10.9           1.21          27  3.012335e+09                            121.4                               6.1             41.0                Bujumbura            61.2                   548.0          NaN                 Kirundi                          19.1                   0.10  1.153058e+07                               79.2        13.6          41.2              1.43         1541177.0      NaN       NaN         Africa\n",
      "28           28        28                       Ivory Coast            83.0           CI              64.8    322463.0          27000.0      35.74        225.0            Yamoussoukro         9674.0   111.61       -0.9           XOF           4.65          32.7           0.93          28  5.879221e+10                             99.8                               9.3             59.4                  Abidjan            57.4                   617.0         0.36                  French                          36.0                   0.23  2.571654e+07                               57.0        11.8          50.1              3.32        13176900.0      NaN       NaN         Africa\n",
      "29           29        29                        Cape Verde           138.0           CV              19.6      4033.0           1000.0      19.49        238.0                   Praia          543.0   110.50        1.1           CVE           2.27          22.5           1.02          29  1.981846e+09                            104.0                              23.6             16.7                    Praia            72.8                    58.0         0.68              Portuguese                          23.2                   0.77  4.836280e+05                               60.5        20.1          37.5             12.25          364029.0      NaN       NaN         Africa\n",
      "30           30        30                          Cambodia            95.0           KH              30.9    181035.0         191000.0      22.46        855.0              Phnom Penh         9919.0   127.63        2.5           NaN           2.50          52.9           0.90          30  2.708939e+10                            107.4                              13.7             24.0               Phnom Penh            69.6                   160.0          NaN          Khmer language                          59.4                   0.17  1.648654e+07                               82.3        17.1          23.1              0.68         3924621.0      NaN       NaN           Asia\n",
      "31           31        31                          Cameroon            56.0           CM              20.6    475440.0          24000.0      35.39        237.0                 Yaound�         8291.0   118.65        2.5           XAF           4.57          39.3           1.03          31  3.876047e+10                            103.4                              12.8             50.6                   Douala            58.9                   529.0         0.35                  French                          69.7                   0.09  2.587638e+07                               76.1        12.8          57.7              3.38        14741256.0      NaN       NaN         Africa\n",
      "32           32        32                            Canada             4.0           CA               6.9   9984670.0          72000.0      10.10          1.0                  Ottawa       544894.0   116.76        1.9           CAD           1.50          38.2           0.81          32  1.736426e+12                            100.9                              68.9              4.3                  Toronto            81.9                    10.0         9.51                  French                          14.6                   2.61  3.699198e+07                               65.1        12.8          24.5              5.56        30628482.0      NaN       NaN  North America\n",
      "33           33        33          Central African Republic             8.0           CF               8.2    622984.0           8000.0      35.35        236.0                  Bangui          297.0   186.86       37.1           NaN           4.72          35.6           1.41          33  2.220307e+09                            102.0                               3.0             84.5                   Bangui            52.8                   829.0         0.37                  French                          39.6                   0.06  4.745185e+06                               72.0         8.6          73.3              3.68         1982064.0      NaN       NaN         Africa\n",
      "34           34        34                              Chad            13.0           TD              39.7   1284000.0          35000.0      42.17        235.0               N'Djamena         1016.0   117.70       -1.0           XAF           5.75           3.8           0.78          34  1.131495e+10                             86.8                               3.3             71.4                N'Djamena            54.0                  1140.0         0.60                  French                          56.4                   0.04  1.594688e+07                               70.7         NaN          63.5              1.89         3712273.0      NaN       NaN         Africa\n",
      "35           35        35                             Chile            26.0           CL              21.2    756096.0         122000.0      12.43         56.0                Santiago        85822.0   131.91        2.6           CLP           1.65          24.3           1.03          35  2.823182e+11                            101.4                              88.5              6.2                 Santiago            80.0                    13.0         2.00                 Spanish                          32.2                   2.59  1.895204e+07                               62.6        18.2          34.0              7.09        16610135.0      NaN       NaN  South America\n",
      "36           36        36                             China           153.0           CN              56.2   9596960.0        2695000.0      10.90         86.0                 Beijing      9893038.0   125.08        2.9           CNY           1.69          22.4           0.96          36  1.991000e+13                            100.2                              50.6              7.4                 Shanghai            77.0                    29.0         0.87        Standard Chinese                          32.4                   1.98  1.397715e+09                               68.0         9.4          59.2              4.32       842933962.0      NaN       NaN           Asia\n",
      "37           37        37                          Colombia            46.0           CO              40.3   1138910.0         481000.0      14.88         57.0                  Bogot�        97814.0   140.95        3.5           COP           1.81          52.7           0.68          37  3.238028e+11                            114.5                              55.3             12.2                   Bogot�            77.1                    83.0         1.23                 Spanish                          18.3                   2.18  5.033944e+07                               68.8        14.4          71.2              9.71        40827302.0      NaN       NaN  South America\n",
      "38           38        38                           Comoros           467.0           KM              71.5      2235.0              NaN      31.88        269.0         Moroni, Comoros          202.0   103.62       -4.3           KMF           4.21          19.7            NaN          38  1.185729e+09                             99.5                               9.0             51.3          Moroni, Comoros            64.1                   273.0         0.71                  French                          74.8                   0.27  8.508860e+05                               43.3         NaN         219.6              4.34          248152.0      NaN       NaN         Africa\n",
      "39           39        39             Republic of the Congo            16.0          NaN              31.1    342000.0          12000.0      32.86        242.0             Brazzaville         3282.0   124.74        2.2           XAF           4.43          65.4           0.97          39  1.082059e+10                            106.6                              12.7             36.2              Brazzaville            64.3                   378.0         0.88                  French                          43.8                   0.12  5.380508e+06                               69.4         9.0          54.3              9.47         3625010.0      NaN       NaN         Africa\n",
      "40           40        40                        Costa Rica           100.0           CR              34.5     51100.0          10000.0      13.97        506.0           San Jos������         8023.0   128.85        2.1           CRC           1.75          54.6           0.98          40  6.177394e+10                            113.3                              55.2              7.6            San Jos������            80.1                    27.0         1.84                 Spanish                          21.5                   2.89  5.047561e+06                               62.1        13.6          58.3             11.85         4041885.0      NaN       NaN  North America\n",
      "41           41        41                           Croatia            73.0           HR              27.6     56594.0          18000.0       9.00        385.0                  Zagreb        17488.0   109.82        0.8           HRK           1.47          34.4           1.26          41  6.041555e+10                             96.5                              67.9              4.0                   Zagreb            78.1                     8.0         2.92                Croatian                          15.2                   3.00  4.067500e+06                               51.2        22.0          20.5              6.93         2328318.0      NaN       NaN         Europe\n",
      "42           42        42                              Cuba           106.0           CU              59.9    110860.0          76000.0      10.17         53.0                  Havana        28284.0      NaN        NaN           CUP           1.62          31.3           1.40          42  1.000230e+11                            101.9                              41.4              3.7                   Havana            78.7                    36.0         0.05                 Spanish                           NaN                   8.42  1.133348e+07                               53.6         NaN           NaN              1.64         8739135.0      NaN       NaN  North America\n",
      "43           43        43                            Cyprus           131.0           CY              12.2      9251.0          16000.0      10.46        357.0                 Nicosia         6626.0   102.51        0.3           EUR           1.33          18.7           1.23          43  2.456465e+10                             99.3                              75.9              1.9            Statos�������            80.8                     6.0          NaN                   Greek                          43.9                   1.95  1.198575e+06                               63.1        24.5          22.4              7.27          800708.0      NaN       NaN           Asia\n",
      "44           44        44                    Czech Republic           139.0           CZ              45.2     78867.0          23000.0      10.70        420.0                  Prague       102218.0   116.48        2.8           CZK           1.69          34.6           1.17          44  2.464892e+11                            100.7                              64.1              2.7                   Prague            79.0                     3.0         3.00                   Czech                          14.8                   4.12  1.066971e+07                               60.6        14.9          46.1              1.93         7887156.0      NaN       NaN         Europe\n",
      "45           45        45  Democratic Republic of the Congo            40.0           CD              11.6   2344858.0         134000.0      41.18        243.0                Kinshasa         2021.0   133.85        2.9           CDF           5.92          67.2           1.49          45  4.731962e+10                            108.0                               6.6             68.2                 Kinshasa            60.4                   473.0         0.18                  French                          37.4                   0.07  8.679057e+07                               63.5        10.7          50.7              4.24        39095679.0      NaN       NaN         Africa\n",
      "46           46        46                           Denmark           137.0           DK              62.0     43094.0          15000.0      10.60         45.0              Copenhagen        31786.0   110.35        0.8           DKK           1.73          14.7           1.55          46  3.480780e+11                            101.3                              80.6              3.6               Copenhagen            81.0                     4.0          NaN                  Danish                          13.7                   4.01  5.818553e+06                               62.2        32.4          23.8              4.91         5119978.0      NaN       NaN         Europe\n",
      "47           47        47                          Djibouti            43.0           DJ              73.4     23200.0          13000.0      21.47        253.0           Djibouti City          620.0   120.25        3.3           DJF           2.73           0.2           1.32          47  3.318716e+09                             75.3                               5.3             49.8            Djibouti City            66.6                   248.0          NaN                  French                          20.4                   0.22  9.735600e+05                               60.2         NaN          37.9             10.30          758549.0      NaN       NaN         Africa\n",
      "48           48        48                          Dominica            96.0           DM              33.3       751.0              NaN      12.00          1.0                  Roseau          180.0   103.87        1.0           XCD           1.90          57.4            NaN          48  5.960333e+08                            114.7                               7.2             32.9                   Roseau            76.6                     NaN         1.48                 English                          28.4                   1.08  7.180800e+04                                NaN        22.1          32.6               NaN           50830.0      NaN       NaN  North America\n",
      "49           49        49                Dominican Republic           225.0           DO              48.7     48670.0          71000.0      19.51          1.0           Santo Domingo        25258.0   135.50        1.8           DOP           2.35          41.7           1.07          49  8.894130e+10                            105.7                              59.9             24.1            Santo Domingo            73.9                    95.0         0.40                 Spanish                          43.7                   1.56  1.073896e+07                               64.3        13.0          48.8              5.84         8787475.0      NaN       NaN  North America\n",
      "50           50        50                           Ecuador            71.0           EC              22.2    283561.0          41000.0      19.72        593.0                   Quito        41155.0   124.14        0.3           USD           2.43          50.2           0.61          50  1.074357e+11                            103.3                              44.9             12.2                    Quito            76.8                    59.0         2.46                 Spanish                          43.7                   2.04  1.737366e+07                               68.0         NaN          34.4              3.97        11116711.0      NaN       NaN  South America\n",
      "51           51        51                             Egypt           103.0           EG               3.8   1001450.0         836000.0      26.38         20.0                   Cairo       238560.0   288.57        9.2           EGP           3.33           0.1           0.40          51  3.031751e+11                            106.3                              35.2             18.1                    Cairo            71.8                    37.0          NaN  Modern Standard Arabic                          62.0                   0.45  1.003881e+08                               46.4        12.5          44.4             10.76        42895824.0      NaN       NaN         Africa\n",
      "52           52        52                       El Salvador           313.0           SV              76.4     21041.0          42000.0      18.25        503.0            San Salvador         7169.0   111.23        0.1           NaN           2.04          12.6           0.83          52  2.702264e+10                             94.8                              29.4             11.8             San Salvador            73.1                    46.0         0.50                 Spanish                          27.9                   1.57  6.453553e+06                               59.1        18.1          36.4              4.11         4694702.0      NaN       NaN  North America\n",
      "53           53        53                 Equatorial Guinea            50.0           GQ              10.1     28051.0           1000.0      33.24        240.0                  Malabo         5655.0   124.35        1.2           XAF           4.51          55.5            NaN          53  1.102677e+10                             61.8                               1.9             62.6                   Malabo            58.4                   301.0         1.05                 Spanish                          72.0                   0.40  1.355986e+06                               62.0         6.1          79.4              6.43          984812.0      NaN       NaN         Africa\n",
      "54           54        54                           Eritrea            35.0           ER              75.2    117600.0         202000.0      30.30        291.0                  Asmara          711.0      NaN        NaN           ERN           4.06          14.9           2.00          54  2.065002e+09                             68.4                               3.4             31.3                   Asmara            65.9                   480.0          NaN                Tigrinya                          52.4                   0.06  6.333135e+06                               78.4         NaN          83.7              5.14         1149670.0      NaN       NaN         Africa\n",
      "55           55        55                           Estonia            31.0           EE              23.1     45228.0           6000.0      10.90        372.0                 Tallinn        16590.0   122.14        2.3           EUR           1.59          51.3           1.14          55  3.138695e+10                             97.2                              69.6              2.1                  Tallinn            78.2                     9.0         3.14                Estonian                          22.8                   4.48  1.331824e+06                               63.6        20.9          47.8              5.11          916024.0      NaN       NaN         Europe\n",
      "56           56        56                          Eswatini            67.0          NaN               NaN     17364.0              NaN        NaN        268.0                 Mbabane            NaN      NaN        NaN           NaN            NaN           NaN            NaN          56  3.791304e+09                              NaN                               NaN              NaN                  Mbabane             NaN                     NaN          NaN                 English                          11.3                    NaN  1.093238e+06                                NaN        28.6           NaN               NaN               NaN      NaN       NaN         Africa\n",
      "57           57        57                          Ethiopia           115.0           ET              36.3   1104300.0         138000.0      32.34        251.0             Addis Ababa        14870.0   143.86       15.8           ETB           4.25          12.5           0.75          57  9.610766e+10                            101.0                               8.1             39.1              Addis Ababa            66.2                   401.0          NaN                 Amharic                          37.8                   0.08  1.120787e+08                               79.6         7.5          37.7              2.08        23788710.0      NaN       NaN         Africa\n",
      "58           58        58                              Fiji            49.0           FJ              23.3     18274.0           4000.0      21.28        679.0                    Suva         2046.0   132.30        1.8           FJD           2.77          55.9           0.82          58  5.535549e+09                            106.4                              16.1             21.6                     Suva            67.3                    34.0         1.28              Fiji Hindi                          21.4                   0.84  8.899530e+05                               57.6        24.2          32.1              4.10          505048.0      NaN       NaN           None\n",
      "59           59        59                           Finland            18.0           FI               7.5    338145.0          25000.0       8.60        358.0                Helsinki        45871.0   112.33        1.0           EUR           1.41          73.1           1.45          59  2.687612e+11                            100.2                              88.2              1.4                 Helsinki            81.7                     3.0          NaN                 Swedish                          19.9                   3.81  5.520314e+06                               59.1        20.8          36.6              6.59         4716888.0      NaN       NaN         Europe\n",
      "60           60        60                            France           119.0           FR              52.4    643801.0         307000.0      11.30         33.0                   Paris       303276.0   110.05        1.1           EUR           1.88          31.2           1.39          60  2.715518e+12                            102.5                              65.6              3.4                    Paris            82.5                     8.0        11.16                  French                           6.8                   3.27  6.705989e+07                               55.1        24.2          60.7              8.43        54123364.0      NaN       NaN         Europe\n",
      "61           61        61                             Gabon             9.0           GA              20.0    267667.0           7000.0      31.61        241.0              Libreville         5321.0   122.19        2.1           XAF           3.97          90.0           0.92          61  1.665796e+10                            139.9                               8.3             32.7               Libreville            66.2                   252.0         1.46                  French                          25.9                   0.68  2.172579e+06                               52.9        10.2          47.1             20.00         1949694.0      NaN       NaN         Africa\n",
      "62           62        62                        The Gambia           239.0           GM              59.8     11300.0           1000.0      38.54        220.0                  Banjul          532.0   172.73        7.1           GMD           5.22          48.4           1.18          62  1.763819e+09                             98.0                               2.7             39.0                Serekunda            61.7                   597.0         0.13                 English                          20.3                   0.10  2.347706e+06                               59.4         9.4          48.4              9.06         1453958.0      NaN       NaN         Africa\n",
      "63           63        63                           Georgia            57.0           GE              34.5     69700.0          26000.0      13.47        995.0                 Tbilisi        10128.0   133.61        4.9           GEL           2.06          40.6           0.76          63  1.774320e+10                             98.6                              63.9              8.7                  Tbilisi            73.6                    25.0         0.05                Georgian                          57.3                   7.12  3.720382e+06                               68.3        21.7           9.9             14.40         2196476.0      NaN       NaN           Asia\n",
      "64           64        64                           Germany           240.0           DE              47.7    357022.0         180000.0       9.50         49.0                  Berlin       727973.0   112.85        1.4           EUR           1.56          32.7           1.39          64  3.845630e+12                            104.0                              70.2              3.1                   Berlin            80.9                     7.0         9.99                  German                          12.5                   4.25  8.313280e+07                               60.8        11.5          48.8              3.04        64324835.0      NaN       NaN         Europe\n",
      "65           65        65                             Ghana           137.0           GH              69.0    238533.0          16000.0      29.41        233.0                   Accra        16670.0   268.36        7.2           GHS           3.87          41.2           0.92          65  6.698363e+10                            104.8                              15.7             34.9                    Accra            63.8                   308.0         0.27                 English                          36.1                   0.14  3.079261e+07                               67.8        12.6          55.4              4.33        17249054.0      NaN       NaN         Africa\n",
      "66           66        66                            Greece            81.0           GR              47.6    131957.0         146000.0       8.10         30.0                  Athens        62434.0   101.87        0.2           EUR           1.35          31.7           1.54          66  2.098528e+11                             99.6                             136.6              3.6                Macedonia            81.3                     3.0         4.46                   Greek                          35.5                   5.48  1.071632e+07                               51.8        26.2          51.9             17.24         8507474.0      NaN       NaN         Europe\n",
      "67           67        67                           Grenada           331.0           GD              23.5       349.0              NaN      16.47          1.0   St. George's, Grenada          268.0   107.43        0.8           XCD           2.06          50.0           1.12          67  1.228170e+09                            106.9                             104.6             13.7    St. George's, Grenada            72.4                    25.0          NaN                 English                          57.0                   1.41  1.120030e+05                                NaN        19.4          47.8               NaN           40765.0      NaN       NaN  North America\n",
      "68           68        68                         Guatemala           167.0           GT              36.0    108889.0          43000.0      24.56        502.0          Guatemala City        16777.0   142.92        3.7           GTQ           2.87          32.7           0.79          68  7.671039e+10                            101.9                              21.8             22.1           Guatemala City            74.1                    95.0         1.60                 Spanish                          55.8                   0.35  1.660403e+07                               62.3        10.6          35.2              2.46         8540945.0      NaN       NaN  North America\n",
      "69           69        69                            Guinea            53.0           GN              59.0    245857.0          13000.0      36.36        224.0                 Conakry         2996.0   262.95        9.5           GNF           4.70          25.8           0.90          69  1.359028e+10                             91.5                              11.6             64.9                   Kankan            61.2                   576.0          NaN                  French                          54.5                   0.08  1.277125e+07                               61.5        10.8          69.3              4.30         4661505.0      NaN       NaN         Africa\n",
      "70           70        70                     Guinea-Bissau            70.0           GW              58.0     36125.0           4000.0      35.13        245.0                  Bissau          293.0   111.65        1.4           XOF           4.48          69.8            NaN          70  1.340389e+09                            118.7                               2.6             54.0                   Bissau            58.0                   667.0         0.16              Portuguese                          37.2                   0.13  1.920922e+06                               72.0        10.3          45.5              2.47          840922.0      NaN       NaN         Africa\n",
      "71           71        71                            Guyana             4.0           GY               8.6    214969.0           3000.0      19.97        592.0      Georgetown, Guyana         2384.0   116.19        2.1           GYD           2.46          83.9           0.90          71  4.280444e+09                             97.8                              11.6             25.1       Georgetown, Guyana            69.8                   169.0         0.98                 English                          40.5                   0.80  7.827660e+05                               56.2         NaN          30.6             11.85          208912.0      NaN       NaN  South America\n",
      "72           72        72                             Haiti           414.0           HT              66.8     27750.0              0.0      24.35        509.0          Port-au-Prince         2978.0   179.29       12.5           HTG           2.94           3.5           0.81          72  8.498982e+09                            113.6                               1.1             49.5           Port-au-Prince            63.7                   480.0         0.25                  French                          36.3                   0.23  1.126308e+07                               67.2         NaN          42.7             13.78         6328948.0      NaN       NaN  North America\n",
      "73           73        73                      Vatican City          2003.0          NaN               NaN         0.0              NaN        NaN        379.0            Vatican City            NaN      NaN        NaN           EUR            NaN           NaN            NaN          73           NaN                              NaN                               NaN              NaN                      NaN             NaN                     NaN          NaN                 Italian                           NaN                    NaN  8.360000e+02                                NaN         NaN           NaN               NaN               NaN      NaN       NaN         Europe\n",
      "74           74        74                          Honduras            89.0           HN              28.9    112090.0          23000.0      21.60        504.0             Tegucigalpa         9813.0   150.34        4.4           HNL           2.46          40.0           0.98          74  2.509540e+10                             91.5                              26.2             15.1              Tegucigalpa            75.1                    65.0         1.01                 Spanish                          49.1                   0.31  9.746117e+06                               68.8        17.3          39.1              5.39         5626433.0      NaN       NaN  North America\n",
      "75           75        75                           Hungary           107.0           HU              58.4     93028.0          40000.0       9.60         36.0                Budapest        45537.0   121.64        3.3           HUF           1.54          22.9           1.18          75  1.609672e+11                            100.8                              48.5              3.6                 Budapest            75.8                    12.0         2.62               Hungarian                          29.0                   3.41  9.769949e+06                               56.5        23.0          37.9              3.40         6999582.0      NaN       NaN         Europe\n",
      "76           76        76                           Iceland             3.0           IS              18.7    103000.0              0.0      12.00        354.0               Reykjav��         2065.0   129.00        3.0           ISK           1.71           0.5           1.69          76  2.418804e+10                            100.4                              71.8              1.5                Reykjav��            82.7                     4.0          NaN               Icelandic                          17.0                   4.08  3.613130e+05                               75.0        23.3          31.9              2.84          339110.0      NaN       NaN         Europe\n",
      "77           77        77                             India           464.0           IN              60.4   3287263.0        3031000.0      17.86         91.0               New Delhi      2407672.0   180.44        7.7           INR           2.22          23.8           0.97          77  2.611000e+12                            113.0                              28.1             29.9                 Kurebhar            69.4                   145.0         0.30                   Hindi                          65.1                   0.86  1.366418e+09                               49.3        11.2          49.7              5.36       471031528.0      NaN       NaN           Asia\n",
      "78           78        78                         Indonesia           151.0           ID              31.5   1904569.0         676000.0      18.07         62.0                 Jakarta       563325.0   151.18        3.0           IDR           2.31          49.9           0.63          78  1.119191e+12                            106.4                              36.3             21.1               Kalimantan            71.5                   177.0         0.48              Indonesian                          48.3                   0.43  2.702039e+08                               67.5        10.2          30.1              4.69       151509724.0      NaN       NaN           Asia\n",
      "79           79        79                              Iran            52.0           IR              28.2   1648195.0         563000.0      18.78         98.0                  Tehran       661710.0   550.93       39.9           IRR           2.14           6.6           0.40          79  4.453453e+11                            110.7                              68.1             12.4                   Tehran            76.5                    16.0         1.58                 Persian                          39.7                   1.58  8.291391e+07                               44.7         7.4          44.7             11.38        62509623.0      NaN       NaN           Asia\n",
      "80           80        80                              Iraq            93.0           IQ              21.4    438317.0         209000.0      29.08        964.0                 Baghdad       190061.0   119.86        0.4           IQD           3.67           1.9           0.61          80  2.340940e+11                            108.7                              16.2             22.5                  Baghdad            70.5                    79.0         1.24                  Arabic                          76.5                   0.71  3.930978e+07                               43.0         2.0          30.8             12.82        27783368.0      NaN       NaN           Asia\n",
      "81           81        81               Republic of Ireland            72.0          NaN              64.5     70273.0           9000.0      12.50        353.0                  Dublin        37711.0   106.58        0.9           EUR           1.75          11.0           1.37          81  3.886987e+11                            100.9                              77.8              3.1                 Connacht            82.3                     5.0        10.79                   Irish                          15.2                   3.31  5.007069e+06                               62.1        18.3          26.1              4.93         3133123.0      NaN       NaN           None\n",
      "82           82        82                            Israel           400.0           IL              24.6     20770.0         178000.0      20.80        972.0               Jerusalem        65166.0   108.15        0.8           ILS           3.09           7.7           1.57          82  3.950987e+11                            104.9                              63.4              3.0                Jerusalem            82.8                     3.0         7.58                  Hebrew                          24.4                   4.62  9.053300e+06                               64.0        23.1          25.3              3.86         8374393.0      NaN       NaN           Asia\n",
      "83           83        83                             Italy           206.0           IT              43.2    301340.0         347000.0       7.30         39.0                    Rome       320411.0   110.62        0.6           EUR           1.29          31.8           1.61          83  2.001244e+12                            101.9                              61.9              2.6                     Rome            82.9                     2.0          NaN                 Italian                          22.8                   3.98  6.029740e+07                               49.6        24.3          59.1              9.89        42651966.0      NaN       NaN         Europe\n",
      "84           84        84                           Jamaica           273.0           JM              41.0     10991.0           4000.0      16.10       1876.0       Kingston, Jamaica         8225.0   162.47        3.9           JMD           1.98          30.9           1.11          84  1.645807e+10                             91.0                              27.1             12.4        Kingston, Jamaica            74.4                    80.0         1.33        Jamaican English                          23.7                   1.31  2.948279e+06                               66.0        26.8          35.1              8.00         1650594.0      NaN       NaN  North America\n",
      "85           85        85                             Japan           347.0           JP              12.3    377944.0         261000.0       7.40         81.0                   Tokyo      1135886.0   105.48        0.5           NaN           1.42          68.5           1.06          85  5.081770e+12                             98.8                              63.2              1.8                    Tokyo            84.2                     5.0         6.77                     NaN                          13.1                   2.41  1.262266e+08                               61.7        11.9          46.7              2.29       115782416.0      NaN       NaN           Asia\n",
      "86           86        86                            Jordan           115.0           JO              12.0     89342.0         116000.0      21.98        962.0                   Amman        25108.0   125.60        0.8           JOD           2.76           1.1           1.10          86  4.374366e+10                             81.5                              34.4             13.9                    Amman            74.4                    46.0         1.49                  Arabic                          25.1                   2.32  1.010169e+07                               39.3        15.1          28.6             14.72         9213048.0      NaN       NaN           Asia\n",
      "87           87        87                        Kazakhstan             7.0           KZ              80.4   2724900.0          71000.0      21.77          7.0                  Astana       247207.0   182.75        5.2           KZT           2.84           1.2           0.42          87  1.801617e+11                            104.4                              61.7              8.8                   Almaty            73.2                    10.0         0.41                 Russian                          38.8                   3.25  1.851393e+07                               68.8        11.7          28.4              4.59        10652915.0      NaN       NaN           Asia\n",
      "88           88        88                             Kenya            94.0           KE              48.5    580367.0          29000.0      28.75        254.0                 Nairobi        17910.0   180.51        4.7           KES           3.49           7.8           0.95          88  9.550309e+10                            103.2                              11.5             30.6                  Nairobi            66.3                   342.0         0.25                 Swahili                          33.4                   0.16  5.257397e+07                               74.7        15.1          37.2              2.64        14461523.0      NaN       NaN         Africa\n",
      "89           89        89                          Kiribati           147.0           KI              42.0       811.0              NaN      27.89        686.0            South Tarawa           66.0    99.55        0.6           AUD           3.57          15.0            NaN          89  1.946472e+08                            101.3                               NaN             41.2             South Tarawa            68.1                    92.0          NaN                 English                           0.2                   0.20  1.176060e+05                                NaN        22.0          32.7               NaN           64489.0      NaN       NaN           None\n",
      "90           90        90                            Kuwait           240.0           KW               8.4     17818.0          25000.0      13.94        965.0             Kuwait City        98734.0   126.60        1.1           KWD           2.08           0.4           0.35          90  1.347612e+11                             92.4                              54.4              6.7              Kuwait City            75.4                    12.0         0.95  Modern Standard Arabic                          14.4                   2.58  4.207083e+06                               73.5         1.4          13.0              2.18         4207083.0      NaN       NaN           Asia\n",
      "91           91        91                        Kyrgyzstan            34.0           KG              55.0    199951.0          21000.0      27.10        996.0                 Bishkek         9787.0   155.68        1.1           KGS           3.30           3.3           0.56          91  8.454620e+09                            107.6                              41.3             16.9                  Bishkek            71.4                    60.0         0.09                 Russian                          48.2                   1.88  6.456900e+06                               59.8        18.0          29.0              6.33         2362644.0      NaN       NaN           Asia\n",
      "92           92        92                              Laos            32.0           LA              10.3    236800.0         129000.0      23.55        856.0               Vientiane        17763.0   135.87        3.3           LAK           2.67          82.1           0.93          92  1.817384e+10                            102.4                              15.0             37.6                Vientiane            67.6                   185.0         0.83                     Lao                          45.4                   0.37  7.169455e+06                               78.5        12.9          24.1              0.63         2555552.0      NaN       NaN           Asia\n",
      "93           93        93                            Latvia            30.0           LV              31.1     64589.0           6000.0      10.00        371.0                    Riga         7004.0   116.86        2.8           EUR           1.60          54.0           1.16          93  3.411720e+10                             99.4                              88.1              3.3                     Riga            74.7                    19.0         2.80                 Latvian                          41.6                   3.19  1.912789e+06                               61.4        22.9          38.1              6.52         1304943.0      NaN       NaN         Europe\n",
      "94           94        94                           Lebanon           667.0           LB              64.3     10400.0          80000.0      17.55        961.0                  Beirut        24796.0   130.02        3.0           LBP           2.09          13.4           0.74          94  5.336704e+10                             95.1                              26.3              6.4         Tripoli, Lebanon            78.9                    29.0         2.15                  Arabic                          32.1                   2.10  6.855713e+06                               47.0        15.3          32.2              6.23         6084994.0      NaN       NaN           Asia\n",
      "95           95        95                           Lesotho            71.0           LS              77.6     30355.0           2000.0      26.81        266.0                  Maseru         2512.0   155.86        5.2           NaN           3.14           1.6           0.70          95  2.460072e+09                            120.9                              10.2             65.7                   Maseru            53.7                   544.0         0.41                 English                          16.9                   0.07  2.125268e+06                               67.9        31.6          13.6             23.41          607508.0      NaN       NaN         Africa\n",
      "96           96        96                           Liberia            53.0           LR              28.0    111369.0           2000.0      33.04        231.0                Monrovia         1386.0   223.13       23.6           NaN           4.32          43.1           0.80          96  3.070518e+09                             85.1                              11.9             53.5                 Monrovia            63.7                   661.0         0.17                 English                          19.6                   0.04  4.937374e+06                               76.3        12.9          46.2              2.81         2548426.0      NaN       NaN         Africa\n",
      "97           97        97                             Libya             4.0           LY               8.7   1759540.0              0.0      18.83        218.0                     NaN        50564.0   125.71        2.6           LYD           2.24           0.1           0.11          97  5.207625e+10                            109.0                              60.5             10.2                      NaN            72.7                    72.0         1.88                  Arabic                          36.7                   2.09  6.777452e+06                               49.7         NaN          32.6             18.56         5448597.0      NaN       NaN         Africa\n",
      "98           98        98                     Liechtenstein           238.0           LI              32.2       160.0              NaN       9.90        423.0                   Vaduz           51.0      NaN        NaN           CHF           1.44          43.1           1.74          98  6.552859e+09                            104.7                              35.6              NaN                   Schaan            83.0                     NaN          NaN                  German                           NaN                    NaN  3.801900e+04                                NaN         NaN          21.6               NaN            5464.0      NaN       NaN         Europe\n",
      "99           99        99                         Lithuania            43.0           LT              47.2     65300.0          34000.0      10.00        370.0                 Vilnius        12963.0   118.38        2.3           EUR           1.63          34.8           1.16          99  5.421932e+10                            103.9                              72.4              3.3                  Vilnius            75.7                     8.0         2.41              Lithuanian                          32.1                   6.35  2.786844e+06                               61.6        16.9          42.6              6.35         1891013.0      NaN       NaN         Europe\n",
      "100         100       100                        Luxembourg           242.0           LU              53.7      2586.0           2000.0      10.30        352.0         Luxembourg City         8988.0   115.09        1.7           EUR           1.37          35.7           1.19         100  7.110492e+10                            102.3                              19.2              1.9          Luxembourg City            82.1                     5.0        13.05           Luxembourgish                          10.6                   3.01  6.453970e+05                               59.3        26.5          20.4              5.36          565488.0      NaN       NaN         Europe\n",
      "101         101       101                        Madagascar            48.0           MG              71.2    587041.0          22000.0      32.66        261.0            Antananarivo         3905.0   184.33        5.6           MGA           4.08          21.4           1.11         101  1.408391e+10                            142.5                               5.4             38.2             Antananarivo            66.7                   335.0         0.21                  French                          21.7                   0.18  2.696931e+07                               86.1        10.2          38.3              1.76        10210849.0      NaN       NaN         Africa\n",
      "102         102       102                            Malawi           203.0           MW              61.4    118484.0          15000.0      34.12        265.0                Lilongwe         1298.0   418.34        9.4           MWK           4.21          33.2           1.15         102  7.666704e+09                            142.5                               0.8             35.3                 Lilongwe            63.8                   349.0         0.12                 English                          11.0                   0.04  1.862875e+07                               76.7        17.3          34.5              5.65         3199301.0      NaN       NaN         Africa\n",
      "103         103       103                          Malaysia            99.0           MY              26.3    329847.0         136000.0      16.75         60.0            Kuala Lumpur       248289.0   121.46        0.7           MYR           2.00          67.6           0.45         103  3.647015e+11                            105.3                              45.1              6.7              Johor Bahru            76.0                    29.0         0.93      Malaysian language                          36.7                   1.51  3.244738e+07                               64.3        12.0          38.7              3.32        24475766.0      NaN       NaN           Asia\n",
      "104         104       104                          Maldives          1802.0           MV              26.3       298.0           5000.0      14.20        960.0                    Mal�         1445.0    99.70        0.2           NaN           1.87           3.3           1.63         104  5.729248e+09                             97.1                              31.2              7.4                     Mal�            78.6                    53.0          NaN                  Divehi                          16.4                   4.56  5.309530e+05                               69.8        19.5          30.2              6.14          213645.0      NaN       NaN           Asia\n",
      "105         105       105                              Mali            17.0           ML              33.8   1240192.0          18000.0      41.54        223.0                  Bamako         3179.0   108.73       -1.7           XOF           5.88           3.8           1.12         105  1.751014e+10                             75.6                               4.5             62.0                   Bamako            58.9                   562.0         0.23                  French                          46.3                   0.13  1.965803e+07                               70.8        11.6          54.5              7.22         8479688.0      NaN       NaN         Africa\n",
      "106         106       106                             Malta          1380.0           MT              32.4       316.0           2000.0       9.20        356.0                Valletta         1342.0   113.45        1.6           EUR           1.23           1.1           1.36         106  1.478616e+10                            105.0                              54.3              6.1               Birkirkara            82.3                     6.0         5.07                 Maltese                          37.1                   2.86  5.026530e+05                               56.5        26.2          44.0              3.47          475902.0      NaN       NaN         Europe\n",
      "107         107       107                  Marshall Islands           329.0           MH              63.9       181.0              NaN      29.03        692.0                  Majuro          143.0      NaN        NaN           USD           4.05          70.2           1.44         107  2.212780e+08                             84.7                              23.7             27.4                   Majuro            65.2                     NaN         2.00             Marshallese                          10.0                   0.42  5.879100e+04                                NaN        17.8          65.9               NaN           45514.0      NaN       NaN           None\n",
      "108         108       108                        Mauritania             5.0           MR              38.5   1030700.0          21000.0      33.69        222.0              Nouakchott         2739.0   135.02        2.3           MRU           4.56           0.2           1.13         108  7.593752e+09                             99.9                               5.0             51.5               Nouakchott            64.7                   766.0         0.53                  Arabic                          48.2                   0.19  4.525696e+06                               45.9         NaN          67.0              9.55         2466821.0      NaN       NaN         Africa\n",
      "109         109       109                         Mauritius           626.0           MU              42.4      2040.0           3000.0      10.20        230.0              Port Louis         4349.0   129.91        0.4           MUR           1.41          19.0           1.12         109  1.418044e+10                            101.1                              40.6             13.6               Port Louis            74.4                    61.0         0.38                  French                          50.7                   2.53  1.265711e+06                               58.3        19.1          22.2              6.67          515980.0      NaN       NaN         Africa\n",
      "110         110       110                            Mexico            66.0           MX              54.6   1964375.0         336000.0      17.60         52.0             Mexico City       486406.0   141.54        3.6           MXN           2.13          33.9           0.73         110  1.258287e+12                            105.8                              40.2             11.0              Mexico City            75.0                    33.0         0.49                     NaN                          41.4                   2.38  1.260140e+08                               60.7        13.1          55.1              3.42       102626859.0      NaN       NaN  North America\n",
      "111         111       111    Federated States of Micronesia           784.0           FM              31.4       702.0              NaN      22.82        691.0                 Palikir          143.0   112.10        0.5           USD           3.05          91.9            NaN         111  4.019323e+08                             97.2                              14.1             25.6                  Palikir            67.8                    88.0          NaN                 English                           2.5                   0.18  1.138150e+05                                NaN        25.2          60.5               NaN           25963.0      NaN       NaN           None\n",
      "112         112       112                           Moldova           123.0           MD              74.2     33851.0           7000.0      10.10        373.0                 Chi����         5115.0   166.20        4.8           MDL           1.26          12.6           0.80         112  1.195544e+10                             90.6                              39.8             13.6                  Chi����            71.8                    19.0         0.31                Romanian                          46.2                   3.21  2.657637e+06                               43.1        17.7          38.7              5.47         1135502.0      NaN       NaN         Europe\n",
      "113         113       113                            Monaco         26337.0           MC               NaN         2.0              NaN       5.90        377.0             Monaco City            NaN      NaN        NaN           EUR            NaN           NaN           2.00         113  7.184844e+09                              NaN                               NaN              2.6              Monaco City             NaN                     NaN        11.72                  French                           6.1                   6.56  3.896400e+04                                NaN         NaN           NaN               NaN           38964.0      NaN       NaN         Europe\n",
      "114         114       114                          Mongolia             2.0           MN              71.5   1564116.0          18000.0      24.13        976.0             Ulaanbaatar        25368.0   195.76        7.3           MNT           2.90           8.0           0.72         114  1.385285e+10                            104.0                              65.6             14.0              Ulaanbaatar            69.7                    45.0         0.65               Mongolian                          39.3                   2.86  3.225167e+06                               59.7        16.8          25.7              6.01         2210626.0      NaN       NaN           Asia\n",
      "115         115       115                        Montenegro            47.0           ME              19.0     13812.0          12000.0      11.73        382.0               Podgorica         2017.0   116.32        2.6           EUR           1.75          61.5           1.16         115  5.494737e+09                            100.0                              56.1              2.3                Podgorica            76.8                     6.0         1.23    Montenegrin language                          31.8                   2.76  6.221370e+05                               54.4         NaN          22.2             14.88          417765.0      NaN       NaN         Europe\n",
      "116         116       116                           Morocco            83.0           MA              68.5    446550.0         246000.0      18.94        212.0                   Rabat        61276.0   111.07        0.2           MAD           2.42          12.6           0.99         116  1.187253e+11                            113.9                              35.9             19.2               Casablanca            76.5                    70.0         1.60                  Arabic                          53.1                   0.73  3.691056e+07                               45.3        21.9          45.8              9.02        22975026.0      NaN       NaN         Africa\n",
      "117         117       117                        Mozambique            40.0           MZ              63.5    799380.0          11000.0      37.52        258.0                  Maputo         7943.0   182.31        2.8           MZN           4.85          48.0           0.65         117  1.493416e+10                            112.6                               7.3             54.0                   Maputo            60.2                   289.0         0.27              Portuguese                           6.8                   0.08  3.036604e+07                               78.1         0.0          36.1              3.24        11092106.0      NaN       NaN         Africa\n",
      "118         118       118                           Myanmar            83.0           MM              19.5    676578.0         513000.0      17.55         95.0               Naypyidaw        25280.0   168.18        8.8           MMK           2.15          43.6           0.54         118  7.608585e+10                            112.3                              18.8             36.8                   Yangon            66.9                   250.0         0.39                 Burmese                          73.9                   0.68  5.404542e+07                               61.7         5.4          31.2              1.58        16674093.0      NaN       NaN           Asia\n",
      "119         119       119                           Namibia             3.0          NaN              47.1    824292.0          16000.0      28.64        264.0                Windhoek         4228.0   157.97        3.7           NaN           3.40           8.3           0.76         119  1.236653e+10                            124.2                              22.9             29.0                 Windhoek            63.4                   195.0          NaN                 English                           8.3                   0.42  2.494530e+06                               59.5        27.1          20.7             20.27         1273258.0      NaN       NaN         Africa\n",
      "120         120       120                             Nauru           541.0           NR               NaN        21.0              NaN        NaN        674.0          Yaren District            NaN      NaN        NaN           AUD            NaN           NaN            NaN         120  1.330000e+08                              NaN                               NaN              NaN                      NaN             NaN                     NaN          NaN                 English                           NaN                    NaN  1.008400e+04                                NaN         NaN           NaN               NaN               NaN      NaN       NaN           None\n",
      "121         121       121                             Nepal           203.0           NP              28.7    147181.0         112000.0      19.89        977.0               Kathmandu         9105.0   188.73        5.6           NPR           1.92          25.4           0.91         121  3.064138e+10                            142.1                              12.4             26.7                Kathmandu            70.5                   186.0         0.36                  Nepali                          60.4                   0.75  2.860871e+07                               83.8        20.7          41.8              1.41         5765513.0      NaN       NaN           Asia\n",
      "122         122       122                       Netherlands           508.0           NL              53.3     41543.0          41000.0       9.70         31.0               Amsterdam       170780.0   115.91        2.6           NaN           1.59          11.2           1.68         122  9.090704e+11                            104.2                              85.0              3.3                Amsterdam            81.8                     5.0        10.29                   Dutch                          12.3                   3.61  1.733285e+07                               63.6        23.0          41.2              3.20        15924729.0      NaN       NaN         Europe\n",
      "123         123       123                       New Zealand            18.0           NZ              40.5    268838.0           9000.0      11.98         64.0              Wellington        34382.0   114.24        1.6           NZD           1.71          38.6           1.40         123  2.069288e+11                            100.0                              82.0              4.7                 Auckland            81.9                     9.0        11.49                 English                          12.6                   3.59  4.841000e+06                               69.9        29.0          34.6              4.07         4258860.0      NaN       NaN           None\n",
      "124         124       124                         Nicaragua            55.0           NI              42.1    130370.0          12000.0      20.64        505.0                 Managua         5592.0   162.74        5.4           NIO           2.40          25.9           0.91         124  1.252092e+10                            120.6                              17.4             15.7                  Managua            74.3                    98.0         0.54                 Spanish                          36.0                   0.98  6.545502e+06                               66.4        15.6          60.6              6.84         3846137.0      NaN       NaN  North America\n",
      "125         125       125                             Niger            19.0           NE              36.1   1267000.0          10000.0      46.08        227.0                  Niamey         2017.0   109.32       -2.5           XOF           6.91           0.9           0.88         125  1.292815e+10                             74.7                               4.4             48.0                   Niamey            62.0                   509.0         0.29                  French                          52.3                   0.04  2.331072e+07                               72.0        11.8          47.2              0.47         3850231.0      NaN       NaN         Africa\n",
      "126         126       126                           Nigeria           226.0           NG              77.7    923768.0         215000.0      37.91        234.0                   Abuja       120369.0   267.51       11.4           NGN           5.39           7.2           0.46         126  4.481204e+11                             84.7                              10.2             75.7                    Lagos            54.3                   917.0         0.54                 English                          72.2                   0.38  2.009636e+08                               52.9         1.5          34.8              8.10       102806948.0      NaN       NaN         Africa\n",
      "127         127       127                       North Korea           214.0           KP              21.8    120538.0        1469000.0      13.89        850.0               Pyongyang        28284.0      NaN        NaN           KPW           1.90          40.7           0.58         127  3.210000e+10                            112.8                              27.0             13.7                Pyongyang            72.1                    89.0          NaN                  Korean                           NaN                   3.67  2.566616e+07                               80.4         NaN           NaN              2.74        15947412.0      NaN       NaN           Asia\n",
      "128         128       128                   North Macedonia            83.0          NaN               NaN     25713.0              NaN        NaN        389.0                  Skopje            NaN      NaN        NaN           MKD            NaN           NaN            NaN         128  1.022078e+10                              NaN                               NaN              NaN                   Skopje             NaN                     NaN          NaN              Macedonian                          35.6                    NaN  1.836713e+06                                NaN         NaN           NaN               NaN               NaN      NaN       NaN         Europe\n",
      "129         129       129                            Norway            15.0           NO               2.7    323802.0          23000.0      10.40         47.0                    Oslo        41023.0   120.27        2.2           NOK           1.56          33.2           1.78         129  4.033364e+11                            100.3                              82.0              2.1                     Oslo            82.8                     2.0          NaN               Norwegian                          14.3                   2.92  5.347896e+06                               63.8        23.9          36.2              3.35         4418218.0      NaN       NaN         Europe\n",
      "130         130       130                              Oman            16.0           OM               4.6    309500.0          47000.0      19.19        968.0                  Muscat        63457.0   113.53        0.1           OMR           2.89           0.0           0.45         130  7.698309e+10                            103.4                              38.0              9.8                     Seeb            77.6                    19.0         4.33                  Arabic                           6.4                   2.00  5.266535e+06                               72.4         2.5          27.4              2.67         4250777.0      NaN       NaN           Asia\n",
      "131         131       131                          Pakistan           287.0           PK              47.8    796095.0         936000.0      28.25         92.0               Islamabad       201150.0   182.32       10.6           PKR           3.51           1.9           0.79         131  3.044000e+11                             94.3                               9.0             57.2                  Karachi            67.1                   140.0         0.69                    Urdu                          66.5                   0.98  2.165653e+08                               52.6         9.2          33.9              4.45        79927762.0      NaN       NaN           Asia\n",
      "132         132       132                             Palau            39.0           PW              10.9       459.0              NaN      14.00        680.0               Ngerulmud          224.0   118.17        1.3           USD           2.21          87.6            NaN         132  2.839949e+08                            112.6                              54.7             16.6                    Koror            69.1                     NaN         3.00                 English                          21.8                   1.18  1.823300e+04                                NaN        21.3          76.6               NaN           14491.0      NaN       NaN           None\n",
      "133         133       133    Palestinian National Authority           847.0          NaN               NaN         NaN              NaN        NaN          NaN                     NaN            NaN      NaN        NaN           NaN            NaN           NaN            NaN         133           NaN                              NaN                               NaN              NaN                      NaN             NaN                     NaN          NaN                  Arabic                           NaN                    NaN           NaN                                NaN         NaN           NaN               NaN               NaN      NaN       NaN           None\n",
      "134         134       134                            Panama            58.0           PA              30.4     75420.0          26000.0      18.98        507.0             Panama City        10715.0   122.07       -0.4           NaN           2.46          61.9           0.74         134  6.680080e+10                             94.4                              47.8             13.1              Panama City            78.3                    52.0         1.53                 Spanish                          30.5                   1.57  4.246439e+06                               66.6         NaN          37.2              3.90         2890084.0      NaN       NaN  North America\n",
      "135         135       135                  Papua New Guinea            20.0           PG               2.6    462840.0           4000.0      27.07        675.0            Port Moresby         7536.0   155.99        3.6           PGK           3.56          74.1           1.36         135  2.496961e+10                            108.5                               1.8             38.0             Port Moresby            64.3                   145.0         1.16               Tok Pisin                           5.8                   0.07  8.776109e+06                               47.2        13.6          37.1              2.46         1162834.0      NaN       NaN           None\n",
      "136         136       136                          Paraguay            18.0           PY              55.1    406752.0          27000.0      20.57        595.0                Asunci��         7407.0   143.82        2.8           PYG           2.43          37.7           1.04         136  3.814529e+10                            104.4                              34.6             17.2          Ciudad del Este            74.1                   129.0         1.55                 Spanish                          36.5                   1.35  7.044636e+06                               72.1        10.0          35.0              4.81         4359150.0      NaN       NaN  South America\n",
      "137         137       137                              Peru            26.0           PE              18.5   1285216.0         158000.0      17.95         51.0                    Lima        57414.0   129.78        2.1           PEN           2.25          57.7           0.99         137  2.268481e+11                            106.9                              70.7             11.1                     Lima            76.5                    88.0         1.28                 Spanish                          30.9                   1.27  3.251045e+07                               77.6        14.3          36.8              3.31        25390339.0      NaN       NaN  South America\n",
      "138         138       138                       Philippines           368.0           PH              41.7    300000.0         153000.0      20.55         63.0                  Manila       122287.0   129.61        2.5           PHP           2.58          27.8           0.86         138  3.767955e+11                            107.5                              35.5             22.5                   Manila            71.1                   121.0         1.12                 English                          53.5                   0.60  1.081166e+08                               59.6        14.0          43.1              2.15        50975903.0      NaN       NaN           Asia\n",
      "139         139       139                            Poland           124.0           PL              46.9    312685.0         191000.0      10.20         48.0                  Warsaw       299037.0   114.11        2.2           PLN           1.46          30.9           1.07         139  5.921644e+11                            100.0                              67.8              3.8                   Warsaw            77.6                     2.0         2.93                  Polish                          23.2                   2.38  3.797087e+07                               56.7        17.4          40.8              3.47        22796574.0      NaN       NaN         Europe\n",
      "140         140       140                          Portugal           111.0           PT              39.5     92212.0          52000.0       8.50        351.0                  Lisbon        48742.0   110.62        0.3           EUR           1.38          34.6           1.54         140  2.376861e+11                            106.2                              63.9              3.1                   Lisbon            81.3                     8.0         3.78              Portuguese                          27.7                   5.12  1.026942e+07                               58.8        22.8          39.8              6.33         6753579.0      NaN       NaN         Europe\n",
      "141         141       141                             Qatar           248.0           QA               5.8     11586.0          22000.0       9.54        974.0                    Doha       103259.0   115.38       -0.7           QAR           1.87           0.0           0.40         141  1.834662e+11                            103.8                              17.9              5.8                     Doha            80.1                     9.0          NaN                  Arabic                           6.2                   2.49  2.832067e+06                               86.8        14.7          11.3              0.09         2809071.0      NaN       NaN           Asia\n",
      "142         142       142                           Romania            84.0           RO              58.8    238391.0         126000.0       9.60         40.0               Bucharest        69259.0   123.78        3.8           RON           1.71          30.1           1.16         142  2.500774e+11                             85.2                              49.4              6.1                Bucharest            75.4                    19.0         2.25                Romanian                          21.3                   2.98  1.935654e+07                               54.7        14.6          20.0              3.98        10468793.0      NaN       NaN         Europe\n",
      "143         143       143                            Russia             9.0           RU              13.3  17098240.0        1454000.0      11.50          7.0                  Moscow      1732027.0   180.75        4.5           RUB           1.57          49.8           0.59         143  1.699877e+12                            102.6                              81.9              6.1                   Moscow            72.7                    17.0         0.53                 Russian                          36.4                   4.01  1.443735e+08                               61.8        11.4          46.2              4.59       107683889.0      NaN       NaN         Europe\n",
      "144         144       144                            Rwanda           525.0           RW              73.4     26338.0          35000.0      31.70        250.0                  Kigali         1115.0   151.09        3.4           RWF           4.04          19.7           1.17         144  1.012247e+10                            133.0                               6.7             27.0                   Kigali            68.7                   248.0          NaN                 Swahili                          26.0                   0.13  1.262695e+07                               83.7        14.3          33.2              1.03         2186104.0      NaN       NaN         Africa\n",
      "145         145       145             Saint Kitts and Nevis           205.0           KN              23.1       261.0              NaN      12.60          1.0              Basseterre          238.0   104.57       -1.0           XCD           2.11          42.3            NaN         145  1.050993e+09                            108.7                              86.7              9.8               Basseterre            71.3                     NaN         3.33                 English                          56.6                   2.52  5.282300e+04                                NaN        18.5          49.7               NaN           16269.0      NaN       NaN  North America\n",
      "146         146       146                       Saint Lucia           301.0           LC              17.4       616.0              NaN      12.00          1.0                Castries          414.0   110.13        1.9           XCD           1.44          33.2           1.30         146  2.122451e+09                            102.6                              14.1             14.9                 Castries            76.1                   117.0          NaN                 English                          48.4                   0.64  1.827900e+05                               67.1        18.2          34.7             20.71           34280.0      NaN       NaN  North America\n",
      "147         147       147  Saint Vincent and the Grenadines           284.0           VC              25.6       389.0              NaN      14.24          1.0               Kingstown          220.0   109.67        2.3           XCD           1.89          69.2            NaN         147  8.253852e+08                            113.4                              23.7             14.8                Calliaqua            72.4                    68.0         1.16                 English                          21.4                   0.66  1.004550e+05                               65.9        25.4          37.0             18.88           58185.0      NaN       NaN  North America\n",
      "148         148       148                             Samoa            70.0           WS              12.4      2831.0              NaN      24.38        685.0                    Apia          246.0   117.56        1.0           WST           3.88          60.4           0.91         148  8.506550e+08                            110.5                               7.6             13.6                     Apia            73.2                    43.0         0.78                  Samoan                          11.5                   0.34  2.025060e+05                               43.7        25.5          19.3              8.36           35588.0      NaN       NaN           None\n",
      "149         149       149                        San Marino           566.0           SM              16.7        61.0              NaN       6.80        378.0      City of San Marino            NaN   110.63        1.0           EUR           1.26           0.0            NaN         149  1.637931e+09                            108.1                              42.5              1.7       City of San Marino            85.4                     NaN          NaN                 Italian                          18.3                   6.11  3.386000e+04                                NaN        18.1          36.2               NaN           32969.0      NaN       NaN         Europe\n",
      "150         150       150                      S�����������           228.0           ST              50.7       964.0           1000.0      31.54        239.0                   S����          121.0   185.09        7.9           STN           4.32          55.8            NaN         150  4.290166e+08                            106.8                              13.4             24.4                    S����            70.2                   130.0          NaN                     NaN                          11.7                   0.05  2.150560e+05                               57.8        14.6          37.0             13.37          158277.0      NaN       NaN           None\n",
      "151         151       151                      Saudi Arabia            16.0           SA              80.8   2149690.0         252000.0      17.80        966.0                  Riyadh       563449.0   118.40       -1.2           SAR           2.32           0.5           0.24         151  7.929668e+11                             99.8                              68.0              6.0                   Riyadh            75.0                    17.0         3.85                  Arabic                          15.0                   2.61  3.426853e+07                               55.9         8.9          15.7              5.93        28807838.0      NaN       NaN           Asia\n",
      "152         152       152                           Senegal            87.0           SN              46.1    196722.0          19000.0      34.52        221.0                   Dakar        10902.0   109.25        1.8           XOF           4.63          42.8           1.14         152  2.357808e+10                             81.0                              12.8             31.8                   Pikine            67.7                   315.0         0.31                  French                          44.2                   0.07  1.629636e+07                               45.7        16.3          44.8              6.60         7765706.0      NaN       NaN         Africa\n",
      "153         153       153                            Serbia           100.0           RS              39.3     77474.0          32000.0       9.20        381.0                Belgrade        45221.0   144.00        1.8           RSD           1.49          31.1           1.16         153  5.140917e+10                            100.3                              67.2              4.8                 Belgrade            75.5                    12.0         1.57                 Serbian                          40.6                   3.11  6.944975e+06                               54.9        18.6          36.6             12.69         3907243.0      NaN       NaN         Europe\n",
      "154         154       154                        Seychelles           214.0           SC               3.4       455.0              0.0      17.10        248.0    Victoria, Seychelles          605.0   129.96        1.8           SCR           2.41          88.4            NaN         154  1.698843e+09                            100.4                              17.1             12.4     Victoria, Seychelles            72.8                    53.0         2.00                  French                           2.5                   0.95  9.762500e+04                                NaN        34.1          30.1               NaN           55762.0      NaN       NaN         Africa\n",
      "155         155       155                      Sierra Leone           111.0           SL              54.7     71740.0           9000.0      33.41        232.0                Freetown         1093.0   234.16       14.8           SLL           4.26          43.1           1.08         155  3.941474e+09                            112.8                               2.0             78.5                 Freetown            54.3                  1120.0         0.57                 English                          38.2                   0.03  7.813215e+06                               57.9         8.6          30.7              4.43         3319366.0      NaN       NaN         Africa\n",
      "156         156       156                         Singapore          8358.0           SG               0.9       716.0          81000.0       8.80         65.0                     NaN        37535.0   114.41        0.6           SGD           1.14          23.1           1.25         156  3.720625e+11                            100.6                              84.8              2.3                      NaN            83.1                     8.0          NaN                   Malay                          36.7                   2.29  5.703569e+06                               70.5        13.1          21.0              4.11         5703569.0      NaN       NaN           Asia\n",
      "157         157       157                          Slovakia           114.0           SK              39.2     49035.0          16000.0      10.60        421.0              Bratislava        32424.0   115.34        2.7           EUR           1.52          40.4           1.32         157  1.054223e+11                             98.7                              46.6              4.6               Bratislava            77.2                     5.0         3.11                  Slovak                          18.4                   3.42  5.454073e+06                               59.5        18.7          49.7              5.56         2930419.0      NaN       NaN         Europe\n",
      "158         158       158                          Slovenia           103.0           SI              30.7     20273.0           7000.0       9.40        386.0               Ljubljana        12633.0   111.05        1.6           EUR           1.60          62.0           1.32         158  5.374216e+10                            100.4                              78.6              1.7                Ljubljana            81.0                     7.0         5.25        Slovene language                          12.5                   3.09  2.087946e+06                               58.4        18.6          31.0              4.20         1144654.0      NaN       NaN         Europe\n",
      "159         159       159                   Solomon Islands            25.0           SB               3.9     28896.0              NaN      32.44        677.0                 Honiara          169.0   133.06        1.6           SBD           4.40          77.9            NaN         159  1.425074e+09                            106.2                               NaN             17.1                  Honiara            72.8                   104.0         0.40                 English                           3.3                   0.19  6.698230e+05                               83.8        29.5          32.0              0.58          162164.0      NaN       NaN           None\n",
      "160         160       160                           Somalia            25.0           SO              70.3    637657.0          20000.0      41.75        252.0               Mogadishu          645.0      NaN        NaN           SOS           6.07          10.0           1.41         160  4.720727e+09                             23.4                               2.5             76.6                   Bosaso            57.1                   829.0          NaN                  Arabic                           NaN                   0.02  1.544290e+07                               47.4         0.0           NaN             11.35         7034861.0      NaN       NaN         Africa\n",
      "161         161       161                      South Africa            49.0           ZA              79.8   1219090.0          80000.0      20.51         27.0                Pretoria       476644.0   158.93        4.1           ZAR           2.41           7.6           0.92         161  3.514316e+11                            100.9                              22.4             28.5             Johannesburg            63.9                   119.0          NaN               Afrikaans                           7.7                   0.91  5.855827e+07                               56.0        27.5          29.2             28.18        39149717.0      NaN       NaN         Africa\n",
      "162         162       162                       South Korea           527.0           KR              17.4     99720.0         634000.0       6.40         82.0                   Seoul       620302.0   115.16        0.4           KRW           0.98          63.4           1.22         162  2.029000e+12                             98.1                              94.3              2.7                    Seoul            82.6                    11.0         6.49                  Korean                          36.8                   2.36  5.170910e+07                               63.0        15.6          33.2              4.15        42106719.0      NaN       NaN           Asia\n",
      "163         163       163                       South Sudan            18.0           SS               NaN    644329.0         185000.0      35.01        211.0                    Juba         1727.0  4583.71      187.9           SSP           4.70           NaN           0.28         163  1.199780e+10                             73.0                               NaN             63.7                     Juba            57.6                  1150.0          NaN                 English                          61.3                    NaN  1.106211e+07                               72.4         NaN          31.4             12.24         2201250.0      NaN       NaN         Africa\n",
      "164         164       164                             Spain            94.0           ES              52.6    505370.0         196000.0       7.90         34.0                  Madrid       244002.0   110.96        0.7           EUR           1.26          36.9           1.26         164  1.394116e+12                            102.7                              88.9              2.5                   Madrid            83.3                     4.0         5.60                 Spanish                          24.2                   3.87  4.707678e+07                               57.5        14.2          47.0             13.96        37927409.0      NaN       NaN         Europe\n",
      "165         165       165                         Sri Lanka           341.0           LK              43.7     65610.0         317000.0      15.83         94.0                 Colombo        23362.0   155.53        3.5           LKR           2.20          32.9           0.88         165  8.400878e+10                            100.2                              19.6              6.4                  Colombo            76.8                    36.0         0.35                   Tamil                          38.4                   1.00  2.180300e+07                               53.9        11.9          55.2              4.20         4052088.0      NaN       NaN           Asia\n",
      "166         166       166                             Sudan            25.0           SD              28.7   1861484.0         124000.0      32.18        249.0                Khartoum        20000.0  1344.19       51.0           SDG           4.41           8.1           0.95         166  1.890228e+10                             76.8                              16.9             42.1                 Omdurman            65.1                   295.0         0.41                  Arabic                          63.2                   0.26  4.281324e+07                               48.4         8.0          45.4             16.53        14957233.0      NaN       NaN         Africa\n",
      "167         167       167                          Suriname             4.0           SR               0.6    163820.0           2000.0      18.54        597.0              Paramaribo         1738.0   294.66       22.0           SRD           2.42          98.3           1.29         167  3.985251e+09                            108.8                              12.6             16.9               Paramaribo            71.6                   120.0          NaN                   Dutch                          10.1                   1.21  5.813720e+05                               51.1        19.5          27.9              7.33          384258.0      NaN       NaN  South America\n",
      "168         168       168                            Sweden            25.0           SE               7.4    450295.0          30000.0      11.40         46.0               Stockholm        43252.0   110.51        1.8           SEK           1.76          68.9           1.42         168  5.308329e+11                            126.6                              67.0              2.2                   S�����            82.5                     4.0          NaN                 Swedish                          15.2                   3.98  1.028545e+07                               64.6        27.9          49.1              6.48         9021165.0      NaN       NaN         Europe\n",
      "169         169       169                       Switzerland           219.0           CH              38.4     41277.0          21000.0      10.00         41.0                    Bern        34477.0    99.55        0.4           CHF           1.52          31.8           1.45         169  7.030824e+11                            105.2                              59.6              3.7                     Z���            83.6                     5.0          NaN                  German                          28.3                   4.30  8.574832e+06                               68.3        10.1          28.8              4.58         6332428.0      NaN       NaN         Europe\n",
      "170         170       170                             Syria            95.0           SY              75.8    185180.0         239000.0      23.69        963.0                Damascus        28830.0   143.20       36.7           SYP           2.81           2.7           0.83         170  4.040501e+10                             81.7                              40.1             14.0                 Damascus            71.8                    31.0         1.02                  Arabic                          53.7                   1.22  1.707014e+07                               44.1        14.2          42.7              8.37         9358019.0      NaN       NaN           Asia\n",
      "171         171       171                        Tajikistan            68.0           TJ              34.1    144100.0          17000.0      30.76        992.0                Dushanbe         5310.0   148.57        6.0           TJS           3.59           3.0           0.71         171  8.116627e+09                            100.9                              31.3             30.4                 Dushanbe            70.9                    17.0         0.23                 Persian                          63.1                   1.70  9.321018e+06                               42.0         9.8          67.3             11.02         2545477.0      NaN       NaN           Asia\n",
      "172         172       172                          Tanzania            67.0           TZ              44.8    947300.0          28000.0      36.70        255.0                  Dodoma        11973.0   187.43        3.5           TZS           4.89          51.6           0.87         172  6.317707e+10                             94.2                               4.0             37.6            Dar es Salaam            65.0                   524.0         0.09                 Swahili                          26.1                   0.01  5.800546e+07                               83.4        11.5          43.8              1.98        20011885.0      NaN       NaN         Africa\n",
      "173         173       173                          Thailand           137.0           TH              43.3    513120.0         455000.0      10.34         66.0                 Bangkok       283763.0   113.27        0.7           THB           1.53          32.2           0.71         173  5.436500e+11                             99.8                              49.3              7.8                  Bangkok            76.9                    37.0         1.06                    Thai                          11.8                   0.81  6.962558e+07                               67.3        14.9          29.5              0.75        35294600.0      NaN       NaN           Asia\n",
      "174         174       174                        East Timor            89.0           TL              25.6     14874.0           2000.0      29.42        670.0                    Dili          495.0   145.38        2.6           USD           4.02          45.4           1.10         174  1.673540e+09                            115.3                              17.8             39.3                     Dili            69.3                   142.0         0.60              Portuguese                          10.2                   0.72  3.500000e+06                               67.3        25.0          17.3              4.55          400182.0      NaN       NaN           None\n",
      "175         175       175                              Togo           152.0           TG              70.2     56785.0          10000.0      33.11        228.0                    Lom�         3000.0   113.30        0.7           XOF           4.32           3.1           0.71         175  5.459979e+09                            123.8                              14.5             47.4                     Lom�            60.8                   396.0         0.34                  French                          51.0                   0.08  8.082366e+06                               77.6        16.9          48.2              2.04         3414638.0      NaN       NaN         Africa\n",
      "176         176       176                             Tonga           147.0           TO              45.8       747.0              NaN      24.30        676.0                Nuku����          128.0   121.09        7.4           TOP           3.56          12.5            NaN         176  4.503533e+08                            116.3                               6.4             13.4                 Nuku����            70.8                    52.0          NaN         Tongan Language                          10.2                   0.52  1.002090e+05                               59.8        22.3          27.5              1.12           24145.0      NaN       NaN           None\n",
      "177         177       177               Trinidad and Tobago           273.0           TT              10.5      5128.0           4000.0      12.94          1.0           Port of Spain        43868.0   141.75        1.0           TTD           1.73          46.0           0.54         177  2.410020e+10                            106.2                              12.0             16.4                Chaguanas            73.4                    67.0         2.25                 English                          37.3                   4.17  1.394973e+06                               60.0        19.5          40.5              2.69          741944.0      NaN       NaN  North America\n",
      "178         178       178                           Tunisia            76.0           TN              64.8    163610.0          48000.0      17.56        216.0                   Tunis        29937.0   155.33        6.7           TND           2.20           6.8           0.73         178  3.879771e+10                            115.4                              31.7             14.6                    Tunis            76.5                    43.0         0.47                  Arabic                          39.8                   1.30  1.169472e+07                               46.1        21.1          60.7             16.02         8099061.0      NaN       NaN         Africa\n",
      "179         179       179                            Turkey           110.0           TR              49.8    783562.0         512000.0      16.03         90.0                  Ankara       372725.0   234.44       15.2           TRY           2.07          15.4           1.42         179  7.544117e+11                             93.2                              23.9              9.1                 Istanbul            77.4                    17.0         3.45                 Turkish                          16.9                   1.85  8.342962e+07                               52.8        17.9          42.3             13.49        63097818.0      NaN       NaN           Asia\n",
      "180         180       180                      Turkmenistan            13.0           TM              72.0    488100.0          42000.0      23.83        993.0                Ashgabat        70630.0      NaN        NaN           TMT           2.79           8.8           0.29         180  4.076114e+10                             88.4                               8.0             39.3                 Ashgabat            68.1                     7.0         0.88                 Turkmen                          71.1                   2.22  5.942089e+06                               64.5         NaN           NaN              3.91         3092738.0      NaN       NaN           Asia\n",
      "181         181       181                            Tuvalu           393.0           TV              60.0        26.0              NaN        NaN        688.0                Funafuti           11.0      NaN        NaN           AUD            NaN          33.3            NaN         181  4.727146e+07                             86.0                               NaN             20.6                Singapore             NaN                     NaN          NaN       Tuvaluan Language                           0.7                   0.92  1.164600e+04                                NaN         NaN           NaN               NaN            7362.0      NaN       NaN           None\n",
      "182         182       182                            Uganda           229.0           UG              71.9    241038.0          46000.0      38.14        256.0                 Kampala         5680.0   173.87        2.9           UGX           4.96           9.7           0.94         182  3.438723e+10                            102.7                               4.8             33.8                  Buganda            63.0                   375.0         0.01                 Swahili                          40.5                   0.17  4.426959e+07                               70.3        11.7          33.7              1.84        10784516.0      NaN       NaN         Africa\n",
      "183         183       183                           Ukraine            75.0           UA              71.7    603550.0         297000.0       8.70        380.0                    Kyiv       202250.0   281.66        7.9           UAH           1.30          16.7           0.83         183  1.537811e+11                             99.0                              82.7              7.5                     Kyiv            71.6                    19.0         0.84               Ukrainian                          47.8                   2.99  4.438516e+07                               54.2        20.1          45.2              8.88        30835699.0      NaN       NaN         Europe\n",
      "184         184       184              United Arab Emirates           118.0           AE               5.5     83600.0          63000.0      10.33        971.0               Abu Dhabi       206324.0   114.52       -1.9           AED           1.41           4.6           0.49         184  4.211423e+11                            108.4                              36.8              6.5                    Dubai            77.8                     3.0          NaN                  Arabic                          17.8                   2.53  9.770529e+06                               82.1         0.1          15.9              2.35         8479744.0      NaN       NaN           Asia\n",
      "185         185       185                    United Kingdom           281.0           GB              71.7    243610.0         148000.0      11.00         44.0                  London       379025.0   119.62        1.7           GBP           1.68          13.1           1.46         185  2.827113e+12                            101.2                              60.0              3.6                   London            81.3                     7.0        10.13                 English                          14.8                   2.81  6.683440e+07                               62.8        25.5          30.6              3.85        55908316.0      NaN       NaN         Europe\n",
      "186         186       186                     United States            36.0           US              44.4   9833517.0        1359000.0      11.60          1.0        Washington, D.C.      5006302.0   117.24        7.5           USD           1.73          33.9           0.71         186  2.142770e+13                            101.8                              88.2              5.6            New York City            78.5                    19.0         7.25                     NaN                          11.1                   2.61  3.282395e+08                               62.0         9.6          36.6             14.70       270663028.0      NaN       NaN  North America\n",
      "187         187       187                           Uruguay            20.0           UY              82.6    176215.0          22000.0      13.86        598.0              Montevideo         6766.0   202.92        7.9           UYU           1.97          10.7           1.50         187  5.604591e+10                            108.5                              63.1              6.4               Montevideo            77.8                    17.0         1.66                 Spanish                          16.2                   5.05  3.461734e+06                               64.0        20.1          41.8              8.73         3303394.0      NaN       NaN  South America\n",
      "188         188       188                        Uzbekistan            79.0           UZ              62.9    447400.0          68000.0      23.30        998.0                Tashkent        91811.0      NaN        NaN           UZS           2.42           7.5           1.03         188  5.792129e+10                            104.2                              10.1             19.1                 Tashkent            71.6                    29.0         0.24                   Uzbek                          42.7                   2.37  3.358065e+07                               65.1        14.8          31.6              5.92        16935729.0      NaN       NaN           Asia\n",
      "189         189       189                           Vanuatu            25.0           VU              15.3     12189.0              NaN      29.60        678.0               Port Vila          147.0   117.13        2.8           VUV           3.78          36.1           1.31         189  9.170589e+08                            109.3                               4.7             22.3                Port Vila            70.3                    72.0         1.56                  French                           8.9                   0.17  2.998820e+05                               69.9        17.8           8.5              4.39           76152.0      NaN       NaN           None\n",
      "190         190       190                         Venezuela            32.0           VE              24.5    912050.0         343000.0      17.88         58.0                 Caracas       164175.0  2740.27      254.9           VED           2.27          52.7           0.00         190  4.823593e+11                             97.2                              79.3             21.4                  Caracas            72.1                   125.0         0.01                 Spanish                          45.8                   1.92  2.851583e+07                               59.7         NaN          73.3              8.80        25162368.0      NaN       NaN  South America\n",
      "191         191       191                           Vietnam           314.0           VN              39.3    331210.0         522000.0      16.75         84.0                   Hanoi       192668.0   163.52        2.8           VND           2.05          48.1           0.80         191  2.619212e+11                            110.6                              28.5             16.5         Ho Chi Minh City            75.3                    43.0         0.73              Vietnamese                          43.5                   0.82  9.646211e+07                               77.4        19.1          37.6              2.01        35332140.0      NaN       NaN           Asia\n",
      "192         192       192                             Yemen            56.0           YE              44.6    527968.0          40000.0      30.45        967.0                   Sanaa        10609.0   157.58        8.1           YER           3.79           1.0           0.92         192  2.691440e+10                             93.6                              10.2             42.9                    Sanaa            66.1                   164.0          NaN                  Arabic                          81.0                   0.31  2.916192e+07                               38.0         NaN          26.6             12.91        10869523.0      NaN       NaN           Asia\n",
      "193         193       193                            Zambia            25.0           ZM              32.1    752618.0          16000.0      36.19        260.0                  Lusaka         5141.0   212.31        9.2           ZMW           4.63          65.2           1.40         193  2.306472e+10                             98.7                               4.1             40.4                   Lusaka            63.5                   213.0         0.24                 English                          27.5                   1.19  1.786103e+07                               74.6        16.2          15.6             11.43         7871713.0      NaN       NaN         Africa\n",
      "194         194       194                          Zimbabwe            38.0           ZW              41.9    390757.0          51000.0      30.68        263.0                  Harare        10983.0   105.51        0.9           NaN           3.62          35.5           1.34         194  2.144076e+10                            109.9                              10.0             33.9                   Harare            61.2                   458.0          NaN                   Shona                          25.8                   0.21  1.464547e+07                               83.1        20.7          31.6              4.95         4717305.0      NaN       NaN         Africa\n"
     ]
    }
   ],
   "source": [
    "print(df_pair4.to_string())"
   ]
  },
  {
   "cell_type": "code",
   "execution_count": 76,
   "metadata": {},
   "outputs": [
    {
     "data": {
      "text/plain": [
       "Index(['Unnamed: 0', 'unnamed0', 'country', 'density(p/km2)', 'abbreviation',\n",
       "       'agriculturalland', 'landarea', 'armedforcessize', 'birthrate',\n",
       "       'callingcode', 'capital/majorcity', 'co2-emissions', 'cpi', 'cpichange',\n",
       "       'currency-code', 'fertilityrate', 'forestedarea', 'gasolineprice',\n",
       "       'unnamed0.1', 'gdp', 'grossprimaryeducationenrollment',\n",
       "       'grosstertiaryeducationenrollment', 'infantmortality', 'largestcity',\n",
       "       'lifeexpectancy', 'maternalmortalityratio', 'minimumwage',\n",
       "       'officiallanguage', 'outofpockethealthexpenditure',\n",
       "       'physiciansperthousand', 'population',\n",
       "       'populationlaborforceparticipation', 'taxrevenue', 'totaltaxrate',\n",
       "       'unemploymentrate', 'urban_population', 'latitud', 'longitud',\n",
       "       'continent'],\n",
       "      dtype='object')"
      ]
     },
     "execution_count": 76,
     "metadata": {},
     "output_type": "execute_result"
    }
   ],
   "source": [
    "df_pair4.columns"
   ]
  },
  {
   "cell_type": "markdown",
   "metadata": {},
   "source": [
    "1. ¿Cuál es la densidad de población promedio por continente?"
   ]
  },
  {
   "cell_type": "code",
   "execution_count": 77,
   "metadata": {},
   "outputs": [
    {
     "data": {
      "text/plain": [
       "continent\n",
       "Africa           105.094340\n",
       "Asia             445.347826\n",
       "Europe           814.976744\n",
       "North America    188.826087\n",
       "South America     25.000000\n",
       "Name: density(p/km2), dtype: float64"
      ]
     },
     "execution_count": 77,
     "metadata": {},
     "output_type": "execute_result"
    }
   ],
   "source": [
    "densidad_poblacion = df_pair4.groupby('continent')['density(p/km2)'].mean() #da todo nulo porque los datos de la densidad son todos nulos, no sé si lo borraríamos en la lección anterior o algo pero el código estoy casi segura que debería ser este\n",
    "densidad_poblacion"
   ]
  },
  {
   "cell_type": "markdown",
   "metadata": {},
   "source": [
    "2. ¿Cuál es la esperanza de vida promedio por idioma oficial? Agrupa los países por idioma oficial y calcula la esperanza de vida promedio."
   ]
  },
  {
   "cell_type": "code",
   "execution_count": 78,
   "metadata": {},
   "outputs": [
    {
     "data": {
      "text/plain": [
       "officiallanguage\n",
       "Afrikaans            63.900000\n",
       "Albanian             78.500000\n",
       "Amharic              66.200000\n",
       "Arabic               72.864706\n",
       "Armenian             74.900000\n",
       "                       ...    \n",
       "Tuvaluan Language          NaN\n",
       "Ukrainian            71.600000\n",
       "Urdu                 67.100000\n",
       "Uzbek                71.600000\n",
       "Vietnamese           75.300000\n",
       "Name: lifeexpectancy, Length: 76, dtype: float64"
      ]
     },
     "execution_count": 78,
     "metadata": {},
     "output_type": "execute_result"
    }
   ],
   "source": [
    "esperanza_vida_promedio = df_pair4.groupby(\"officiallanguage\")[\"lifeexpectancy\"].mean()\n",
    "esperanza_vida_promedio"
   ]
  },
  {
   "cell_type": "markdown",
   "metadata": {},
   "source": [
    "3. ¿Cuál es la tasa de mortalidad infantil promedio por moneda?"
   ]
  },
  {
   "cell_type": "code",
   "execution_count": 79,
   "metadata": {},
   "outputs": [
    {
     "data": {
      "text/plain": [
       "currency-code\n",
       "AED     6.500000\n",
       "AFN    47.900000\n",
       "ALL     7.800000\n",
       "AMD    11.000000\n",
       "AOA    51.600000\n",
       "         ...    \n",
       "XCD    15.183333\n",
       "XOF    51.512500\n",
       "YER    42.900000\n",
       "ZAR    28.500000\n",
       "ZMW    40.400000\n",
       "Name: infantmortality, Length: 133, dtype: float64"
      ]
     },
     "execution_count": 79,
     "metadata": {},
     "output_type": "execute_result"
    }
   ],
   "source": [
    "tasa_mortalidad_infantil = df_pair4.groupby(\"currency-code\")[\"infantmortality\"].mean()\n",
    "tasa_mortalidad_infantil"
   ]
  },
  {
   "cell_type": "markdown",
   "metadata": {},
   "source": [
    "4. ¿Cuál es el salario mínimo por continente?"
   ]
  },
  {
   "cell_type": "code",
   "execution_count": 80,
   "metadata": {},
   "outputs": [
    {
     "data": {
      "text/plain": [
       "continent\n",
       "Africa           0.530000\n",
       "Asia             1.498611\n",
       "Europe           4.590968\n",
       "North America    2.266190\n",
       "South America    1.582727\n",
       "Name: minimumwage, dtype: float64"
      ]
     },
     "execution_count": 80,
     "metadata": {},
     "output_type": "execute_result"
    }
   ],
   "source": [
    "salario_min_continent = df_pair4.groupby(\"continent\")[\"minimumwage\"].mean() \n",
    "salario_min_continent"
   ]
  },
  {
   "cell_type": "markdown",
   "metadata": {},
   "source": [
    "5. ¿Cuál es la tasa de impuestos total máxima por densidad de población por continente? Para solucionar este ejercicio puedes:\n",
    "Primero, necesitas calcular la tasa de impuestos total para cada continente. La tasa de impuestos total se encuentra en la columna \"total_tax_rate\".\n",
    "\n",
    "Luego, calcula la densidad de población para cada continente. La densidad de población se encuentra en la columna \"density\".\n",
    "\n",
    "Ahora, divide la tasa de impuestos total entre la densidad de población para obtener la tasa de impuestos total por persona por kilómetro cuadrado.\n",
    "\n",
    "Encuentra el país que tiene el valor más alto en esta nueva columna calculada."
   ]
  },
  {
   "cell_type": "code",
   "execution_count": 81,
   "metadata": {},
   "outputs": [],
   "source": [
    "#1.Calcular la tasa de impuestos total para cada país \n",
    "df_pair4[\"total_tax_per_capita\"] = df_pair4[\"totaltaxrate\"] * df_pair4[\"population\"]"
   ]
  },
  {
   "cell_type": "code",
   "execution_count": 82,
   "metadata": {},
   "outputs": [
    {
     "data": {
      "text/plain": [
       "continent\n",
       "Africa           105.094340\n",
       "Asia             445.347826\n",
       "Europe           814.976744\n",
       "North America    188.826087\n",
       "South America     25.000000\n",
       "Name: density(p/km2), dtype: float64"
      ]
     },
     "execution_count": 82,
     "metadata": {},
     "output_type": "execute_result"
    }
   ],
   "source": [
    "#2.Calcular la densidad de población para cada continente.\n",
    "densidad_poblacion_promedio = df_pair4.groupby(\"continent\")[\"density(p/km2)\"].mean()\n",
    "densidad_poblacion_promedio"
   ]
  },
  {
   "cell_type": "code",
   "execution_count": 83,
   "metadata": {},
   "outputs": [],
   "source": [
    "#3.Calcular la tasa de impuestos total por persona por kilómetro cuadrado\n",
    "df_pair4[\"total_tax_per_km\"] = df_pair4[\"total_tax_per_capita\"] / df_pair4[\"density(p/km2)\"]"
   ]
  },
  {
   "cell_type": "code",
   "execution_count": 84,
   "metadata": {},
   "outputs": [],
   "source": [
    "#4. Encontrar el país que tiene el valor más alto en esta nueva columna calculada.\n",
    "# Usar el método idxmax(), para encontrar el indice del pais con el valor máximo en la columna.\n",
    "pais_maximo = df_pair4.loc[df_pair4[\"total_tax_per_km\"].idxmax(), \"country\"]"
   ]
  },
  {
   "cell_type": "markdown",
   "metadata": {},
   "source": [
    "6. ¿Cuál es el porcentaje de población urbana promedio por continente?"
   ]
  },
  {
   "cell_type": "code",
   "execution_count": 85,
   "metadata": {},
   "outputs": [
    {
     "data": {
      "text/plain": [
       "continent\n",
       "Africa           1.080102e+07\n",
       "Asia             4.937484e+07\n",
       "Europe           1.347436e+07\n",
       "North America    2.002709e+07\n",
       "South America    2.999807e+07\n",
       "Name: urban_population, dtype: float64"
      ]
     },
     "execution_count": 85,
     "metadata": {},
     "output_type": "execute_result"
    }
   ],
   "source": [
    "porcentaje_poblacion_urbana = df_pair4.groupby('continent')['urban_population'].mean()\n",
    "porcentaje_poblacion_urbana"
   ]
  },
  {
   "cell_type": "markdown",
   "metadata": {},
   "source": [
    "7.¿Cuál es la diferencia entre el PIB promedio y el gasto en salud de bolsillo promedio por idioma oficial? Para contestar esta pregunta dabes seguir los siguientes pasos:\n",
    "\n",
    "Agrupa el DataFrame por idioma oficial y calcula la media del Gasto de Bolsillo en salud (out_of_pocket_health_expenditure) y del GPD.\n",
    "\n",
    "Calcula la diferencia entre el PIB promedio y el gasto en salud de bolsillo promedio"
   ]
  },
  {
   "cell_type": "code",
   "execution_count": 86,
   "metadata": {},
   "outputs": [],
   "source": [
    "# Agrupa el DataFrame por idioma oficial y calcula la media del Gasto de Bolsillo en salud (out_of_pocket_health_expenditure) y del GPD.\n",
    "diferencia_pib_salud_idioma = df_pair4.groupby(\"officiallanguage\")[[\"gdp\", \"outofpockethealthexpenditure\"]].mean()"
   ]
  },
  {
   "cell_type": "code",
   "execution_count": 87,
   "metadata": {},
   "outputs": [
    {
     "data": {
      "text/html": [
       "<div>\n",
       "<style scoped>\n",
       "    .dataframe tbody tr th:only-of-type {\n",
       "        vertical-align: middle;\n",
       "    }\n",
       "\n",
       "    .dataframe tbody tr th {\n",
       "        vertical-align: top;\n",
       "    }\n",
       "\n",
       "    .dataframe thead th {\n",
       "        text-align: right;\n",
       "    }\n",
       "</style>\n",
       "<table border=\"1\" class=\"dataframe\">\n",
       "  <thead>\n",
       "    <tr style=\"text-align: right;\">\n",
       "      <th></th>\n",
       "      <th>gdp</th>\n",
       "      <th>outofpockethealthexpenditure</th>\n",
       "      <th>diferencia</th>\n",
       "    </tr>\n",
       "    <tr>\n",
       "      <th>officiallanguage</th>\n",
       "      <th></th>\n",
       "      <th></th>\n",
       "      <th></th>\n",
       "    </tr>\n",
       "  </thead>\n",
       "  <tbody>\n",
       "    <tr>\n",
       "      <th>Afrikaans</th>\n",
       "      <td>3.514316e+11</td>\n",
       "      <td>7.7</td>\n",
       "      <td>3.514316e+11</td>\n",
       "    </tr>\n",
       "    <tr>\n",
       "      <th>Albanian</th>\n",
       "      <td>1.527808e+10</td>\n",
       "      <td>56.9</td>\n",
       "      <td>1.527808e+10</td>\n",
       "    </tr>\n",
       "    <tr>\n",
       "      <th>Amharic</th>\n",
       "      <td>9.610766e+10</td>\n",
       "      <td>37.8</td>\n",
       "      <td>9.610766e+10</td>\n",
       "    </tr>\n",
       "    <tr>\n",
       "      <th>Arabic</th>\n",
       "      <td>1.366153e+11</td>\n",
       "      <td>38.0</td>\n",
       "      <td>1.366153e+11</td>\n",
       "    </tr>\n",
       "    <tr>\n",
       "      <th>Armenian</th>\n",
       "      <td>1.367280e+10</td>\n",
       "      <td>81.6</td>\n",
       "      <td>1.367280e+10</td>\n",
       "    </tr>\n",
       "    <tr>\n",
       "      <th>...</th>\n",
       "      <td>...</td>\n",
       "      <td>...</td>\n",
       "      <td>...</td>\n",
       "    </tr>\n",
       "    <tr>\n",
       "      <th>Tuvaluan Language</th>\n",
       "      <td>4.727146e+07</td>\n",
       "      <td>0.7</td>\n",
       "      <td>4.727146e+07</td>\n",
       "    </tr>\n",
       "    <tr>\n",
       "      <th>Ukrainian</th>\n",
       "      <td>1.537811e+11</td>\n",
       "      <td>47.8</td>\n",
       "      <td>1.537811e+11</td>\n",
       "    </tr>\n",
       "    <tr>\n",
       "      <th>Urdu</th>\n",
       "      <td>3.044000e+11</td>\n",
       "      <td>66.5</td>\n",
       "      <td>3.044000e+11</td>\n",
       "    </tr>\n",
       "    <tr>\n",
       "      <th>Uzbek</th>\n",
       "      <td>5.792129e+10</td>\n",
       "      <td>42.7</td>\n",
       "      <td>5.792129e+10</td>\n",
       "    </tr>\n",
       "    <tr>\n",
       "      <th>Vietnamese</th>\n",
       "      <td>2.619212e+11</td>\n",
       "      <td>43.5</td>\n",
       "      <td>2.619212e+11</td>\n",
       "    </tr>\n",
       "  </tbody>\n",
       "</table>\n",
       "<p>76 rows × 3 columns</p>\n",
       "</div>"
      ],
      "text/plain": [
       "                            gdp  outofpockethealthexpenditure    diferencia\n",
       "officiallanguage                                                           \n",
       "Afrikaans          3.514316e+11                           7.7  3.514316e+11\n",
       "Albanian           1.527808e+10                          56.9  1.527808e+10\n",
       "Amharic            9.610766e+10                          37.8  9.610766e+10\n",
       "Arabic             1.366153e+11                          38.0  1.366153e+11\n",
       "Armenian           1.367280e+10                          81.6  1.367280e+10\n",
       "...                         ...                           ...           ...\n",
       "Tuvaluan Language  4.727146e+07                           0.7  4.727146e+07\n",
       "Ukrainian          1.537811e+11                          47.8  1.537811e+11\n",
       "Urdu               3.044000e+11                          66.5  3.044000e+11\n",
       "Uzbek              5.792129e+10                          42.7  5.792129e+10\n",
       "Vietnamese         2.619212e+11                          43.5  2.619212e+11\n",
       "\n",
       "[76 rows x 3 columns]"
      ]
     },
     "execution_count": 87,
     "metadata": {},
     "output_type": "execute_result"
    }
   ],
   "source": [
    "# Calcula la diferencia entre el PIB promedio y el gasto en salud de bolsillo promedio\n",
    "diferencia_pib_salud_idioma[\"diferencia\"] = diferencia_pib_salud_idioma[\"gdp\"] - diferencia_pib_salud_idioma[\"outofpockethealthexpenditure\"]\n",
    "diferencia_pib_salud_idioma"
   ]
  },
  {
   "cell_type": "markdown",
   "metadata": {},
   "source": [
    "8. ¿Cuál es la tasa de maternidad promedio por tasa de impuestos total? Para resolver el ejercicio deberás:\n",
    "\n",
    "Primero, calcula la tasa de maternidad promedio para cada continente. Puedes usar la columna \"maternal_mortality_ratio\" que representa la tasa de mortalidad materna.\n",
    "\n",
    "Calcula la tasa de impuestos total promedio para cada continente. Puedes usar la columna \"total_tax_rate\" que representa la tasa de impuestos total en cada continente.\n",
    "\n",
    "Luego, divide la tasa de maternidad promedio por la tasa de impuestos total promedio para obtener la relación entre ambas tasas.\n",
    "\n",
    "Encuentra el país con la tasa de maternidad más alta por punto porcentual de tasa de impuestos total."
   ]
  },
  {
   "cell_type": "code",
   "execution_count": 88,
   "metadata": {},
   "outputs": [
    {
     "data": {
      "text/plain": [
       "continent\n",
       "Africa           418.000000\n",
       "Asia              74.760870\n",
       "Europe             7.810811\n",
       "North America     75.619048\n",
       "South America     88.083333\n",
       "Name: maternalmortalityratio, dtype: float64"
      ]
     },
     "execution_count": 88,
     "metadata": {},
     "output_type": "execute_result"
    }
   ],
   "source": [
    "#1. Calcular la tasa de maternidad promedio para cada continente. \n",
    "maternidad_promedio_continente = df_pair4.groupby(\"continent\")[\"maternalmortalityratio\"].mean()\n",
    "maternidad_promedio_continente"
   ]
  },
  {
   "cell_type": "code",
   "execution_count": 89,
   "metadata": {},
   "outputs": [
    {
     "data": {
      "text/plain": [
       "continent\n",
       "Africa           47.770588\n",
       "Asia             32.370455\n",
       "Europe           38.969231\n",
       "North America    40.700000\n",
       "South America    53.341667\n",
       "Name: totaltaxrate, dtype: float64"
      ]
     },
     "execution_count": 89,
     "metadata": {},
     "output_type": "execute_result"
    }
   ],
   "source": [
    "# 2.Calcular la tasa de impuestos total promedio para cada continente. \n",
    "tasa_impuesto_continente = df_pair4.groupby(\"continent\")[\"totaltaxrate\"].mean()\n",
    "tasa_impuesto_continente"
   ]
  },
  {
   "cell_type": "code",
   "execution_count": 90,
   "metadata": {},
   "outputs": [
    {
     "data": {
      "text/plain": [
       "continent\n",
       "Africa           8.750154\n",
       "Asia             2.309540\n",
       "Europe           0.200435\n",
       "North America    1.857962\n",
       "South America    1.651304\n",
       "dtype: float64"
      ]
     },
     "execution_count": 90,
     "metadata": {},
     "output_type": "execute_result"
    }
   ],
   "source": [
    "# 3.Dividir la tasa de maternidad promedio por la tasa de impuestos total promedio para obtener la relación entre ambas tasas.\n",
    "relacion_tasas_maternidad_impuestos = maternidad_promedio_continente / tasa_impuesto_continente\n",
    "relacion_tasas_maternidad_impuestos\n"
   ]
  },
  {
   "cell_type": "code",
   "execution_count": 91,
   "metadata": {},
   "outputs": [],
   "source": [
    "# 4.Encontrar el país con la tasa de maternidad más alta por punto porcentual de tasa de impuestos total.\n",
    "# Calcular la diferencia entre la tasa de maternidad y la tasa de impuestos total\n",
    "df_pair4['diferencia_maternidad_impuestos'] = df_pair4['maternalmortalityratio'] - df_pair4['totaltaxrate']\n",
    "# Encontrar el país con la mayor diferencia\n",
    "pais_max_diferencia = df_pair4.loc[df_pair4['diferencia_maternidad_impuestos'].idxmax(), 'country']"
   ]
  },
  {
   "cell_type": "code",
   "execution_count": 92,
   "metadata": {},
   "outputs": [
    {
     "data": {
      "text/plain": [
       "'South Sudan'"
      ]
     },
     "execution_count": 92,
     "metadata": {},
     "output_type": "execute_result"
    }
   ],
   "source": [
    "pais_max_diferencia"
   ]
  },
  {
   "cell_type": "markdown",
   "metadata": {},
   "source": [
    "## Ejercicios BONUS groupby:"
   ]
  },
  {
   "cell_type": "code",
   "execution_count": 45,
   "metadata": {},
   "outputs": [
    {
     "data": {
      "text/plain": [
       "Index(['Unnamed: 0', 'unnamed0', 'country', 'density(p/km2)', 'abbreviation',\n",
       "       'agriculturalland', 'landarea', 'armedforcessize', 'birthrate',\n",
       "       'callingcode', 'capital/majorcity', 'co2-emissions', 'cpi', 'cpichange',\n",
       "       'currency-code', 'fertilityrate', 'forestedarea', 'gasolineprice',\n",
       "       'unnamed0.1', 'gdp', 'grossprimaryeducationenrollment',\n",
       "       'grosstertiaryeducationenrollment', 'infantmortality', 'largestcity',\n",
       "       'lifeexpectancy', 'maternalmortalityratio', 'minimumwage',\n",
       "       'officiallanguage', 'outofpockethealthexpenditure',\n",
       "       'physiciansperthousand', 'population',\n",
       "       'populationlaborforceparticipation', 'taxrevenue', 'totaltaxrate',\n",
       "       'unemploymentrate', 'urban_population', 'latitud', 'longitud',\n",
       "       'continent', 'total_tax_per_capita', 'total_tax_per_km',\n",
       "       'diferencia_maternidad_impuestos'],\n",
       "      dtype='object')"
      ]
     },
     "execution_count": 45,
     "metadata": {},
     "output_type": "execute_result"
    }
   ],
   "source": [
    "df_pair4.columns"
   ]
  },
  {
   "cell_type": "markdown",
   "metadata": {},
   "source": [
    "9. ¿Cuál es la tasa de natalidad máxima y área forestal por continente? Encuentra el país con la tasa de natalidad más alta por cada punto porcentual de área forestal."
   ]
  },
  {
   "cell_type": "code",
   "execution_count": 60,
   "metadata": {},
   "outputs": [
    {
     "ename": "KeyError",
     "evalue": "'Continent'",
     "output_type": "error",
     "traceback": [
      "\u001b[0;31m---------------------------------------------------------------------------\u001b[0m",
      "\u001b[0;31mKeyError\u001b[0m                                  Traceback (most recent call last)",
      "Cell \u001b[0;32mIn[60], line 1\u001b[0m\n\u001b[0;32m----> 1\u001b[0m df_conttinent_landarea \u001b[38;5;241m=\u001b[39m df_pair4\u001b[38;5;241m.\u001b[39mgroupby([\u001b[38;5;124m\"\u001b[39m\u001b[38;5;124mContinent\u001b[39m\u001b[38;5;124m\"\u001b[39m, \u001b[38;5;124m\"\u001b[39m\u001b[38;5;124mlandarea\u001b[39m\u001b[38;5;124m\"\u001b[39m])\n\u001b[1;32m      2\u001b[0m df_conttinent_landarea\n",
      "File \u001b[0;32m~/anaconda3/lib/python3.11/site-packages/pandas/core/frame.py:8252\u001b[0m, in \u001b[0;36mDataFrame.groupby\u001b[0;34m(self, by, axis, level, as_index, sort, group_keys, observed, dropna)\u001b[0m\n\u001b[1;32m   8249\u001b[0m     \u001b[38;5;28;01mraise\u001b[39;00m \u001b[38;5;167;01mTypeError\u001b[39;00m(\u001b[38;5;124m\"\u001b[39m\u001b[38;5;124mYou have to supply one of \u001b[39m\u001b[38;5;124m'\u001b[39m\u001b[38;5;124mby\u001b[39m\u001b[38;5;124m'\u001b[39m\u001b[38;5;124m and \u001b[39m\u001b[38;5;124m'\u001b[39m\u001b[38;5;124mlevel\u001b[39m\u001b[38;5;124m'\u001b[39m\u001b[38;5;124m\"\u001b[39m)\n\u001b[1;32m   8250\u001b[0m axis \u001b[38;5;241m=\u001b[39m \u001b[38;5;28mself\u001b[39m\u001b[38;5;241m.\u001b[39m_get_axis_number(axis)\n\u001b[0;32m-> 8252\u001b[0m \u001b[38;5;28;01mreturn\u001b[39;00m DataFrameGroupBy(\n\u001b[1;32m   8253\u001b[0m     obj\u001b[38;5;241m=\u001b[39m\u001b[38;5;28mself\u001b[39m,\n\u001b[1;32m   8254\u001b[0m     keys\u001b[38;5;241m=\u001b[39mby,\n\u001b[1;32m   8255\u001b[0m     axis\u001b[38;5;241m=\u001b[39maxis,\n\u001b[1;32m   8256\u001b[0m     level\u001b[38;5;241m=\u001b[39mlevel,\n\u001b[1;32m   8257\u001b[0m     as_index\u001b[38;5;241m=\u001b[39mas_index,\n\u001b[1;32m   8258\u001b[0m     sort\u001b[38;5;241m=\u001b[39msort,\n\u001b[1;32m   8259\u001b[0m     group_keys\u001b[38;5;241m=\u001b[39mgroup_keys,\n\u001b[1;32m   8260\u001b[0m     observed\u001b[38;5;241m=\u001b[39mobserved,\n\u001b[1;32m   8261\u001b[0m     dropna\u001b[38;5;241m=\u001b[39mdropna,\n\u001b[1;32m   8262\u001b[0m )\n",
      "File \u001b[0;32m~/anaconda3/lib/python3.11/site-packages/pandas/core/groupby/groupby.py:931\u001b[0m, in \u001b[0;36mGroupBy.__init__\u001b[0;34m(self, obj, keys, axis, level, grouper, exclusions, selection, as_index, sort, group_keys, observed, dropna)\u001b[0m\n\u001b[1;32m    928\u001b[0m \u001b[38;5;28mself\u001b[39m\u001b[38;5;241m.\u001b[39mdropna \u001b[38;5;241m=\u001b[39m dropna\n\u001b[1;32m    930\u001b[0m \u001b[38;5;28;01mif\u001b[39;00m grouper \u001b[38;5;129;01mis\u001b[39;00m \u001b[38;5;28;01mNone\u001b[39;00m:\n\u001b[0;32m--> 931\u001b[0m     grouper, exclusions, obj \u001b[38;5;241m=\u001b[39m get_grouper(\n\u001b[1;32m    932\u001b[0m         obj,\n\u001b[1;32m    933\u001b[0m         keys,\n\u001b[1;32m    934\u001b[0m         axis\u001b[38;5;241m=\u001b[39maxis,\n\u001b[1;32m    935\u001b[0m         level\u001b[38;5;241m=\u001b[39mlevel,\n\u001b[1;32m    936\u001b[0m         sort\u001b[38;5;241m=\u001b[39msort,\n\u001b[1;32m    937\u001b[0m         observed\u001b[38;5;241m=\u001b[39mobserved,\n\u001b[1;32m    938\u001b[0m         dropna\u001b[38;5;241m=\u001b[39m\u001b[38;5;28mself\u001b[39m\u001b[38;5;241m.\u001b[39mdropna,\n\u001b[1;32m    939\u001b[0m     )\n\u001b[1;32m    941\u001b[0m \u001b[38;5;28mself\u001b[39m\u001b[38;5;241m.\u001b[39mobj \u001b[38;5;241m=\u001b[39m obj\n\u001b[1;32m    942\u001b[0m \u001b[38;5;28mself\u001b[39m\u001b[38;5;241m.\u001b[39maxis \u001b[38;5;241m=\u001b[39m obj\u001b[38;5;241m.\u001b[39m_get_axis_number(axis)\n",
      "File \u001b[0;32m~/anaconda3/lib/python3.11/site-packages/pandas/core/groupby/grouper.py:985\u001b[0m, in \u001b[0;36mget_grouper\u001b[0;34m(obj, key, axis, level, sort, observed, validate, dropna)\u001b[0m\n\u001b[1;32m    983\u001b[0m         in_axis, level, gpr \u001b[38;5;241m=\u001b[39m \u001b[38;5;28;01mFalse\u001b[39;00m, gpr, \u001b[38;5;28;01mNone\u001b[39;00m\n\u001b[1;32m    984\u001b[0m     \u001b[38;5;28;01melse\u001b[39;00m:\n\u001b[0;32m--> 985\u001b[0m         \u001b[38;5;28;01mraise\u001b[39;00m \u001b[38;5;167;01mKeyError\u001b[39;00m(gpr)\n\u001b[1;32m    986\u001b[0m \u001b[38;5;28;01melif\u001b[39;00m \u001b[38;5;28misinstance\u001b[39m(gpr, Grouper) \u001b[38;5;129;01mand\u001b[39;00m gpr\u001b[38;5;241m.\u001b[39mkey \u001b[38;5;129;01mis\u001b[39;00m \u001b[38;5;129;01mnot\u001b[39;00m \u001b[38;5;28;01mNone\u001b[39;00m:\n\u001b[1;32m    987\u001b[0m     \u001b[38;5;66;03m# Add key to exclusions\u001b[39;00m\n\u001b[1;32m    988\u001b[0m     exclusions\u001b[38;5;241m.\u001b[39madd(gpr\u001b[38;5;241m.\u001b[39mkey)\n",
      "\u001b[0;31mKeyError\u001b[0m: 'Continent'"
     ]
    }
   ],
   "source": [
    "df_conttinent_landarea = df_pair4.groupby([\"continent\", \"landarea\"])\n",
    "df_conttinent_landarea"
   ]
  },
  {
   "cell_type": "code",
   "execution_count": 51,
   "metadata": {},
   "outputs": [
    {
     "data": {
      "text/plain": [
       "0"
      ]
     },
     "execution_count": 51,
     "metadata": {},
     "output_type": "execute_result"
    }
   ],
   "source": [
    "df_conttinent_landarea.ngroups # me dice que se forman cero grupos con estas combinacion asique o he entendido mal el enunciado o poco se puede hacer a partir de aquí"
   ]
  },
  {
   "cell_type": "code",
   "execution_count": null,
   "metadata": {},
   "outputs": [],
   "source": [
    "#resultado = df_pair4.groupby([\"continent\", \"landarea\"])['fertilityrate'].maxt()"
   ]
  },
  {
   "cell_type": "code",
   "execution_count": 60,
   "metadata": {},
   "outputs": [
    {
     "data": {
      "text/plain": [
       "<pandas.core.groupby.generic.DataFrameGroupBy object at 0x7f12634b1c40>"
      ]
     },
     "execution_count": 60,
     "metadata": {},
     "output_type": "execute_result"
    }
   ],
   "source": [
    "# RESOLUCION BEA\n",
    "df_conttinent_landarea = df_pair4.groupby([\"Continent\", \"landarea\"])\n",
    "df_conttinent_landarea"
   ]
  },
  {
   "cell_type": "code",
   "execution_count": 62,
   "metadata": {},
   "outputs": [
    {
     "data": {
      "text/plain": [
       "Series([], Name: fertilityrate, dtype: float64)"
      ]
     },
     "execution_count": 62,
     "metadata": {},
     "output_type": "execute_result"
    }
   ],
   "source": [
    "max_fertility_forest = df_conttinent_landarea[\"fertilityrate\"].max()\n",
    "max_fertility_forest"
   ]
  },
  {
   "cell_type": "code",
   "execution_count": null,
   "metadata": {},
   "outputs": [],
   "source": [
    "fertility_country = df_conttinent_landarea.apply(lambda x: x.loc[x[\"fertilityrate\"].idxmax()])\n",
    "fertility_country"
   ]
  },
  {
   "cell_type": "code",
   "execution_count": 64,
   "metadata": {},
   "outputs": [
    {
     "ename": "NameError",
     "evalue": "name 'fertility_country' is not defined",
     "output_type": "error",
     "traceback": [
      "\u001b[0;31m---------------------------------------------------------------------------\u001b[0m",
      "\u001b[0;31mNameError\u001b[0m                                 Traceback (most recent call last)",
      "Input \u001b[0;32mIn [64]\u001b[0m, in \u001b[0;36m<cell line: 2>\u001b[0;34m()\u001b[0m\n\u001b[1;32m      1\u001b[0m max_fertility_forest\n\u001b[0;32m----> 2\u001b[0m \u001b[43mfertility_country\u001b[49m\n",
      "\u001b[0;31mNameError\u001b[0m: name 'fertility_country' is not defined"
     ]
    }
   ],
   "source": [
    "max_fertility_forest\n",
    "fertility_country"
   ]
  },
  {
   "cell_type": "markdown",
   "metadata": {},
   "source": [
    "10. ¿Cuál es la diferencia entre la tasa de impuestos total y la tasa de desempleo promedio por continente?"
   ]
  },
  {
   "cell_type": "code",
   "execution_count": 93,
   "metadata": {},
   "outputs": [
    {
     "data": {
      "text/plain": [
       "continent\n",
       "Africa           47.770588\n",
       "Asia             32.370455\n",
       "Europe           38.969231\n",
       "North America    40.700000\n",
       "South America    53.341667\n",
       "Name: totaltaxrate, dtype: float64"
      ]
     },
     "execution_count": 93,
     "metadata": {},
     "output_type": "execute_result"
    }
   ],
   "source": [
    "# Calcular la tasa de impuestos total promedio por continente\n",
    "impuestos_promedio_por_continente = df_pair4.groupby('continent')['totaltaxrate'].mean()\n",
    "impuestos_promedio_por_continente"
   ]
  },
  {
   "cell_type": "code",
   "execution_count": 94,
   "metadata": {},
   "outputs": [
    {
     "data": {
      "text/plain": [
       "continent\n",
       "Africa           7.884902\n",
       "Asia             5.682826\n",
       "Europe           6.687027\n",
       "North America    8.256316\n",
       "South America    7.580833\n",
       "Name: unemploymentrate, dtype: float64"
      ]
     },
     "execution_count": 94,
     "metadata": {},
     "output_type": "execute_result"
    }
   ],
   "source": [
    "# Calcular la tasa de desempleo promedio por continente\n",
    "desempleo_promedio_por_continente = df_pair4.groupby('continent')['unemploymentrate'].mean()\n",
    "desempleo_promedio_por_continente"
   ]
  },
  {
   "cell_type": "code",
   "execution_count": 95,
   "metadata": {},
   "outputs": [
    {
     "data": {
      "text/plain": [
       "continent\n",
       "Africa           39.885686\n",
       "Asia             26.687628\n",
       "Europe           32.282204\n",
       "North America    32.443684\n",
       "South America    45.760833\n",
       "dtype: float64"
      ]
     },
     "execution_count": 95,
     "metadata": {},
     "output_type": "execute_result"
    }
   ],
   "source": [
    "# Calcular la diferencia entre las tasas\n",
    "diferencia_impuestos_desempleo = impuestos_promedio_por_continente - desempleo_promedio_por_continente\n",
    "diferencia_impuestos_desempleo"
   ]
  }
 ],
 "metadata": {
  "kernelspec": {
   "display_name": "base",
   "language": "python",
   "name": "python3"
  },
  "language_info": {
   "codemirror_mode": {
    "name": "ipython",
    "version": 3
   },
   "file_extension": ".py",
   "mimetype": "text/x-python",
   "name": "python",
   "nbconvert_exporter": "python",
   "pygments_lexer": "ipython3",
   "version": "3.11.5"
  }
 },
 "nbformat": 4,
 "nbformat_minor": 2
}
