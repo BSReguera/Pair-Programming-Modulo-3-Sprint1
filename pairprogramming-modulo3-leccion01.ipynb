{
 "cells": [
  {
   "cell_type": "markdown",
   "metadata": {},
   "source": [
    "## PAIR PROGRAMMING - MODULO 3 - LECCION 01 - NUMPY"
   ]
  },
  {
   "cell_type": "code",
   "execution_count": 3,
   "metadata": {},
   "outputs": [],
   "source": [
    "import numpy as np"
   ]
  },
  {
   "cell_type": "markdown",
   "metadata": {},
   "source": [
    "Creación y Indexación:"
   ]
  },
  {
   "cell_type": "markdown",
   "metadata": {},
   "source": [
    "1. Crea un array 1D con 50 valores aleatorio del 10 al 99. Accede a los elementos en las posiciones múltiplos de 5."
   ]
  },
  {
   "cell_type": "code",
   "execution_count": 3,
   "metadata": {},
   "outputs": [
    {
     "data": {
      "text/plain": [
       "array([59, 67, 22, 56, 19, 12, 71, 99, 85, 36, 54, 17, 94, 83, 56, 82, 46,\n",
       "       97, 26, 65, 36, 77, 40, 43, 60, 72, 43, 60, 60, 34, 94, 97, 46, 59,\n",
       "       18, 89, 65, 33, 29, 48, 45, 91, 46, 66, 74, 69, 74, 56, 25, 20])"
      ]
     },
     "execution_count": 3,
     "metadata": {},
     "output_type": "execute_result"
    }
   ],
   "source": [
    "# Creación de array 1D con 50 valores aleatorio del 10 al 99.\n",
    "array1 = np.random.randint(10, 100,(50))\n",
    "array1"
   ]
  },
  {
   "cell_type": "code",
   "execution_count": 4,
   "metadata": {},
   "outputs": [
    {
     "data": {
      "text/plain": [
       "array([19, 36, 56, 65, 60, 34, 18, 48, 74, 20])"
      ]
     },
     "execution_count": 4,
     "metadata": {},
     "output_type": "execute_result"
    }
   ],
   "source": [
    "# Acceder a los elementos en las posiciones multiplos de 5\n",
    "array1[4::5]"
   ]
  },
  {
   "cell_type": "markdown",
   "metadata": {},
   "source": [
    "2. Crea un array 1D con 30 valores del 1 al 20 (ambos incluidos). Utiliza indexación para obtener los elementos en las posiciones impares."
   ]
  },
  {
   "cell_type": "code",
   "execution_count": 5,
   "metadata": {},
   "outputs": [
    {
     "data": {
      "text/plain": [
       "array([19, 19,  6, 13,  1,  3,  2, 10,  8, 17, 20, 20, 11,  3, 15, 18, 16,\n",
       "        7, 13,  4,  5,  6,  8, 19,  2, 12, 15,  9,  3,  2])"
      ]
     },
     "execution_count": 5,
     "metadata": {},
     "output_type": "execute_result"
    }
   ],
   "source": [
    "# Crea un array 1D con 30 valores del 1 al 20 (ambos incluidos).\n",
    "array2 = np.random.randint(1, 21, (30))\n",
    "array2"
   ]
  },
  {
   "cell_type": "code",
   "execution_count": 9,
   "metadata": {},
   "outputs": [
    {
     "data": {
      "text/plain": [
       "array([19,  6,  1,  2,  8, 20, 11, 15, 16, 13,  5,  8,  2, 15,  3])"
      ]
     },
     "execution_count": 9,
     "metadata": {},
     "output_type": "execute_result"
    }
   ],
   "source": [
    "# Utiliza indexación para obtener los elementos en las posiciones impares.\n",
    "array2[0::2]"
   ]
  },
  {
   "cell_type": "markdown",
   "metadata": {},
   "source": [
    "3. Crea un array 2D de forma (4, 6) con números aleatorios decimales (no deben estar comprendidos solo entre 0 y 1). Accede a la última fila de la matriz. Los decimales deben estar redondeados a 2 decimales."
   ]
  },
  {
   "cell_type": "code",
   "execution_count": 32,
   "metadata": {},
   "outputs": [
    {
     "data": {
      "text/plain": [
       "array([[34.53838499, 97.80235626, 49.90597425, 84.4013752 , 10.09385065,\n",
       "        16.64077705],\n",
       "       [89.14099136, 75.73452077, 48.88559665, 59.07309272, 47.08374473,\n",
       "        18.00893606],\n",
       "       [13.49286095, 74.90720367, 72.97619413, 86.05226366, 47.86519681,\n",
       "        87.85253693],\n",
       "       [93.161343  , 31.55493417, 57.00451235, 58.89944532, 29.77975354,\n",
       "        50.01899273]])"
      ]
     },
     "execution_count": 32,
     "metadata": {},
     "output_type": "execute_result"
    }
   ],
   "source": [
    "# Crea un array 2D de forma (4, 6) con números aleatorios decimales (no deben estar comprendidos solo entre 0 y 1). \n",
    "array3 = np.random.uniform(10, 100, (4,6))\n",
    "array3"
   ]
  },
  {
   "cell_type": "code",
   "execution_count": 30,
   "metadata": {},
   "outputs": [
    {
     "data": {
      "text/plain": [
       "array([80.85, 85.37, 38.1 , 24.81, 24.68, 49.11])"
      ]
     },
     "execution_count": 30,
     "metadata": {},
     "output_type": "execute_result"
    }
   ],
   "source": [
    "# Accede a la última fila de la matriz. Los decimales deben estar redondeados a 2 decimales.\n",
    "ultima_fila_redondeo = np.round(array3[-1], 2)\n",
    "ultima_fila_redondeo"
   ]
  },
  {
   "cell_type": "markdown",
   "metadata": {},
   "source": [
    "4. Crea un array NumPy 2D de forma (6, 4) con valores decimales entre 0 y 1. Accede a la segunda columna de la matriz. Los números deben estar redondeados a 2 decimales."
   ]
  },
  {
   "cell_type": "code",
   "execution_count": 40,
   "metadata": {},
   "outputs": [
    {
     "data": {
      "text/plain": [
       "array([[0.70658872, 0.95796974, 0.87811787, 0.30296503],\n",
       "       [0.6010035 , 0.84180918, 0.20256969, 0.15052955],\n",
       "       [0.24938969, 0.87951074, 0.02954979, 0.20510592],\n",
       "       [0.98803898, 0.95689181, 0.28241428, 0.23483274],\n",
       "       [0.10337843, 0.61881683, 0.74509525, 0.68174091],\n",
       "       [0.58821058, 0.84086537, 0.44117995, 0.24579992]])"
      ]
     },
     "execution_count": 40,
     "metadata": {},
     "output_type": "execute_result"
    }
   ],
   "source": [
    "# Crea un array NumPy 2D de forma (6, 4) con valores decimales entre 0 y 1. \n",
    "array4 = np.random.rand(6, 4)\n",
    "array4"
   ]
  },
  {
   "cell_type": "code",
   "execution_count": 68,
   "metadata": {},
   "outputs": [
    {
     "data": {
      "text/plain": [
       "array([[0.71, 0.96, 0.88, 0.3 ],\n",
       "       [0.6 , 0.84, 0.2 , 0.15],\n",
       "       [0.25, 0.88, 0.03, 0.21],\n",
       "       [0.99, 0.96, 0.28, 0.23],\n",
       "       [0.1 , 0.62, 0.75, 0.68],\n",
       "       [0.59, 0.84, 0.44, 0.25]])"
      ]
     },
     "execution_count": 68,
     "metadata": {},
     "output_type": "execute_result"
    }
   ],
   "source": [
    "# Recondeo de los números a 2 decimales\n",
    "redondeo4 = np.round(array4, 2)\n",
    "redondeo4"
   ]
  },
  {
   "cell_type": "code",
   "execution_count": 46,
   "metadata": {},
   "outputs": [
    {
     "data": {
      "text/plain": [
       "array([0.96, 0.84, 0.88, 0.96, 0.62, 0.84])"
      ]
     },
     "execution_count": 46,
     "metadata": {},
     "output_type": "execute_result"
    }
   ],
   "source": [
    "# Accede a la segunda columna de la matriz. Los números deben estar redondeados a 2 decimales.\n",
    "redondeo4 = np.round(array4[:,1], 2)\n",
    "redondeo4"
   ]
  },
  {
   "cell_type": "markdown",
   "metadata": {},
   "source": [
    "5. Crea un array 1D con 30 valores enteros aleatorios entre -50 y 50. Extrae los valores negativos."
   ]
  },
  {
   "cell_type": "code",
   "execution_count": 59,
   "metadata": {},
   "outputs": [
    {
     "data": {
      "text/plain": [
       "array([ -6, -40,  24,  20,  45,  32,  -5,  32,  30,  28,   2, -49,  19,\n",
       "       -43, -20, -25, -24,  44,  31,  19,  12,  19,  17,  11, -22,   4,\n",
       "       -44,  -2, -49, -45])"
      ]
     },
     "execution_count": 59,
     "metadata": {},
     "output_type": "execute_result"
    }
   ],
   "source": [
    "# Crear un array 1D con 30 valores enteros aleatorios entre -50 y 50.\n",
    "array5 = np.random.randint(-50, 51, (30))\n",
    "array5"
   ]
  },
  {
   "cell_type": "code",
   "execution_count": 60,
   "metadata": {},
   "outputs": [
    {
     "data": {
      "text/plain": [
       "array([ -6, -40,  -5, -49, -43, -20, -25, -24, -22, -44,  -2, -49, -45])"
      ]
     },
     "execution_count": 60,
     "metadata": {},
     "output_type": "execute_result"
    }
   ],
   "source": [
    "# Extrae los valores negativos.\n",
    "valores_negativos = array5 [array5 < 0]\n",
    "valores_negativos"
   ]
  },
  {
   "cell_type": "markdown",
   "metadata": {},
   "source": [
    "6. Crea un array 1D con 10 valores entre 0 y 1. Redondea los decimales a 2. Obtén los elementos cuyo valor es mayor que 0.5. ¿En que posición/es están esos elementos?"
   ]
  },
  {
   "cell_type": "code",
   "execution_count": 61,
   "metadata": {},
   "outputs": [
    {
     "data": {
      "text/plain": [
       "array([0.09841207, 0.62377435, 0.94012073, 0.85912532, 0.98224019,\n",
       "       0.60217927, 0.51654105, 0.685787  , 0.77840743, 0.52080806])"
      ]
     },
     "execution_count": 61,
     "metadata": {},
     "output_type": "execute_result"
    }
   ],
   "source": [
    "# Crear un array 1D con 10 valores entre 0 y 1. \n",
    "array6 = np.random.rand(10)\n",
    "array6"
   ]
  },
  {
   "cell_type": "code",
   "execution_count": 63,
   "metadata": {},
   "outputs": [
    {
     "data": {
      "text/plain": [
       "array([0.1 , 0.62, 0.94, 0.86, 0.98, 0.6 , 0.52, 0.69, 0.78, 0.52])"
      ]
     },
     "execution_count": 63,
     "metadata": {},
     "output_type": "execute_result"
    }
   ],
   "source": [
    "# Redondea los decimales a 2. \n",
    "redondeo6 = np.round(array6, 2)\n",
    "redondeo6"
   ]
  },
  {
   "cell_type": "code",
   "execution_count": 70,
   "metadata": {},
   "outputs": [
    {
     "data": {
      "text/plain": [
       "array([0.62, 0.94, 0.86, 0.98, 0.6 , 0.52, 0.69, 0.78, 0.52])"
      ]
     },
     "execution_count": 70,
     "metadata": {},
     "output_type": "execute_result"
    }
   ],
   "source": [
    "# Obtener los elementos cuyo valor es mayor que 0.5. \n",
    "mayor_que05 = redondeo6[redondeo6 > 0.5]\n",
    "mayor_que05"
   ]
  },
  {
   "cell_type": "code",
   "execution_count": 71,
   "metadata": {},
   "outputs": [
    {
     "data": {
      "text/plain": [
       "(array([1, 2, 3, 4, 5, 6, 7, 8, 9]),)"
      ]
     },
     "execution_count": 71,
     "metadata": {},
     "output_type": "execute_result"
    }
   ],
   "source": [
    "# ¿En que posición/es están esos elementos?\n",
    "posicion = np.where(redondeo6 > 0.5)\n",
    "posicion"
   ]
  },
  {
   "cell_type": "markdown",
   "metadata": {},
   "source": [
    "7. Crea un array 1D con 40 valores del 1 al 100 (ambos incluidos). Obtén los elementos que son divisibles por 3 y por 4."
   ]
  },
  {
   "cell_type": "code",
   "execution_count": 33,
   "metadata": {},
   "outputs": [
    {
     "data": {
      "text/plain": [
       "array([ 52,  36,  87,  50,  48,  43,   6,   1,  90,  46,  85,  84,  85,\n",
       "        78,  88,  20,   3,  84,  29,   3,  61,  65,  34,  75,   2,  52,\n",
       "        31, 100,  46,   1,  70,  35,  40,  32,  50,  71,  50,  83,  18,\n",
       "        17])"
      ]
     },
     "execution_count": 33,
     "metadata": {},
     "output_type": "execute_result"
    }
   ],
   "source": [
    "# Crear un array 1D con 40 valores del 1 al 100 (ambos incluidos)\n",
    "array1_40 = np.random.randint(1,101,(40))\n",
    "array1_40"
   ]
  },
  {
   "cell_type": "code",
   "execution_count": 35,
   "metadata": {},
   "outputs": [
    {
     "data": {
      "text/plain": [
       "array([36, 48, 84, 84])"
      ]
     },
     "execution_count": 35,
     "metadata": {},
     "output_type": "execute_result"
    }
   ],
   "source": [
    "# Obtener los elementos que son divisibles por 3 y por 4.\n",
    "divisibles = array1_40[(array1_40 % 3 == 0) & (array1_40 % 4 == 0)]\n",
    "divisibles"
   ]
  },
  {
   "cell_type": "markdown",
   "metadata": {},
   "source": [
    "8. BONUS: Crea un array 3D de forma (2, 3, 5) y con números enteros entre 0 y 100 (ambos incluidos). Reemplaza los elementos en posiciones múltiplos de 3 por 0."
   ]
  },
  {
   "cell_type": "code",
   "execution_count": 74,
   "metadata": {},
   "outputs": [
    {
     "data": {
      "text/plain": [
       "array([[[ 52,  65,  66,  93,   6],\n",
       "        [ 37,  91,  45,  38,  59],\n",
       "        [ 99,  28,  72,  39,   2]],\n",
       "\n",
       "       [[ 51,  96,  16,  65,  35],\n",
       "        [ 58,  55,  77,  44,   8],\n",
       "        [ 32,  63,  56,   1, 100]]])"
      ]
     },
     "execution_count": 74,
     "metadata": {},
     "output_type": "execute_result"
    }
   ],
   "source": [
    "# Crear un array 3D de forma (2, 3, 5) y con números enteros entre 0 y 100 (ambos incluidos). \n",
    "array_tridimensional =  np.random.randint(0, 101,(2,3,5))\n",
    "array_tridimensional"
   ]
  },
  {
   "cell_type": "code",
   "execution_count": 77,
   "metadata": {},
   "outputs": [
    {
     "data": {
      "text/plain": [
       "array([[[ 52,  65,   0,   0,   0],\n",
       "        [ 37,  91,   0,  38,  59],\n",
       "        [  0,  28,   0,   0,   2]],\n",
       "\n",
       "       [[  0,   0,  16,  65,  35],\n",
       "        [ 58,  55,  77,  44,   8],\n",
       "        [ 32,   0,  56,   1, 100]]])"
      ]
     },
     "execution_count": 77,
     "metadata": {},
     "output_type": "execute_result"
    }
   ],
   "source": [
    "# Reemplazar los elementos en posiciones múltiplos de 3 por 0.\n",
    "array_tridimensional[array_tridimensional % 3 == 0] = 0 \n",
    "array_tridimensional"
   ]
  },
  {
   "cell_type": "markdown",
   "metadata": {},
   "source": [
    "# Reshape y Transpose:"
   ]
  },
  {
   "cell_type": "markdown",
   "metadata": {},
   "source": [
    "1. Crear un array 3D de forma (2, 3, 4) con valores aleatorios entre 1 y 100 (ambos inclusive). Utiliza reshape para convertirlo en un array 2D. Deberás pensar en la forma que es correcta para hacer este cambio."
   ]
  },
  {
   "cell_type": "code",
   "execution_count": 36,
   "metadata": {},
   "outputs": [
    {
     "data": {
      "text/plain": [
       "array([[[71, 27, 24, 30],\n",
       "        [87, 16, 24, 35],\n",
       "        [91,  9, 21,  9]],\n",
       "\n",
       "       [[12, 76, 17, 81],\n",
       "        [34,  4, 77, 72],\n",
       "        [32, 72, 87, 93]]])"
      ]
     },
     "execution_count": 36,
     "metadata": {},
     "output_type": "execute_result"
    }
   ],
   "source": [
    "array_tridimensional =  np.random.randint(1, 101,(2, 3, 4))\n",
    "array_tridimensional"
   ]
  },
  {
   "cell_type": "code",
   "execution_count": 38,
   "metadata": {},
   "outputs": [
    {
     "data": {
      "text/plain": [
       "array([[71, 27, 24, 30, 87, 16, 24, 35, 91,  9, 21,  9],\n",
       "       [12, 76, 17, 81, 34,  4, 77, 72, 32, 72, 87, 93]])"
      ]
     },
     "execution_count": 38,
     "metadata": {},
     "output_type": "execute_result"
    }
   ],
   "source": [
    "# Utiliza reshape para convertirlo en un array 2D. Deberás pensar en la forma que es correcta para hacer este cambio.\n",
    "array_tridi1 = array_tridimensional.reshape(2, -1)\n",
    "array_tridi1"
   ]
  },
  {
   "cell_type": "markdown",
   "metadata": {},
   "source": [
    "2. Crea un array 3D de forma (3, 4, 5) con valores enteros del 1 al 60 (sin incluir). Utiliza reshape para convertirlo en un array 2D."
   ]
  },
  {
   "cell_type": "code",
   "execution_count": 88,
   "metadata": {},
   "outputs": [
    {
     "data": {
      "text/plain": [
       "array([[[48, 40,  9, 42, 12],\n",
       "        [17,  8, 27, 44, 57],\n",
       "        [17, 18, 10, 22, 52],\n",
       "        [35,  8, 23, 34, 59]],\n",
       "\n",
       "       [[52, 24, 26, 13, 15],\n",
       "        [19, 53, 48, 57, 31],\n",
       "        [40,  3, 58,  1,  1],\n",
       "        [54, 52, 34, 33, 41]],\n",
       "\n",
       "       [[37,  6, 27, 13, 46],\n",
       "        [58,  4, 22, 13, 30],\n",
       "        [49, 34, 26, 50, 58],\n",
       "        [11, 12, 56, 56, 57]]])"
      ]
     },
     "execution_count": 88,
     "metadata": {},
     "output_type": "execute_result"
    }
   ],
   "source": [
    "# Crear un array 3D de forma (3, 4, 5) con valores enteros del 1 al 60 (sin incluir). \n",
    "array_3d = np.random.randint(1, 60, (3, 4, 5))\n",
    "array_3d"
   ]
  },
  {
   "cell_type": "code",
   "execution_count": 42,
   "metadata": {},
   "outputs": [
    {
     "data": {
      "text/plain": [
       "array([[37, 23,  2, 38, 18, 26, 40, 44, 27, 43, 35,  2],\n",
       "       [16, 51, 59,  4, 35, 40, 52, 11, 28, 48, 40, 17],\n",
       "       [ 7, 57, 32, 33, 17, 27,  4, 33, 20, 57, 59, 11],\n",
       "       [13, 37, 38, 17, 43, 12, 25, 30,  3, 54, 17,  4],\n",
       "       [20, 37, 19, 22, 42, 19, 32, 40,  3, 20, 53, 54]])"
      ]
     },
     "execution_count": 42,
     "metadata": {},
     "output_type": "execute_result"
    }
   ],
   "source": [
    "# Utilizar reshape para convertirlo en un array 2D.\n",
    "array_3d_convertido = array_3d.reshape(5, -1)\n",
    "array_3d_convertido"
   ]
  },
  {
   "cell_type": "markdown",
   "metadata": {},
   "source": [
    "3. Crea un array 3D de forma (4, 3, 2) con valores aleatorios entre 0 y 1. Utiliza reshape para convertirlo en un array 2D."
   ]
  },
  {
   "cell_type": "code",
   "execution_count": 45,
   "metadata": {},
   "outputs": [
    {
     "data": {
      "text/plain": [
       "array([[[0.8142176 , 0.03512689],\n",
       "        [0.16814899, 0.89344669],\n",
       "        [0.71096594, 0.20665172]],\n",
       "\n",
       "       [[0.74466159, 0.66400599],\n",
       "        [0.82287272, 0.11362154],\n",
       "        [0.11728089, 0.47455893]],\n",
       "\n",
       "       [[0.53884864, 0.06319869],\n",
       "        [0.91107487, 0.03790459],\n",
       "        [0.78473044, 0.86674891]],\n",
       "\n",
       "       [[0.37943206, 0.20726946],\n",
       "        [0.7342095 , 0.46883081],\n",
       "        [0.93615988, 0.90943444]]])"
      ]
     },
     "execution_count": 45,
     "metadata": {},
     "output_type": "execute_result"
    }
   ],
   "source": [
    "# Crear un array 3D de forma (4, 3, 2) con valores aleatorios entre 0 y 1.\n",
    "array33 = np.random.rand(4,3,2)\n",
    "array33"
   ]
  },
  {
   "cell_type": "code",
   "execution_count": 50,
   "metadata": {},
   "outputs": [
    {
     "data": {
      "text/plain": [
       "array([[0.8142176 , 0.03512689, 0.16814899, 0.89344669, 0.71096594,\n",
       "        0.20665172],\n",
       "       [0.74466159, 0.66400599, 0.82287272, 0.11362154, 0.11728089,\n",
       "        0.47455893],\n",
       "       [0.53884864, 0.06319869, 0.91107487, 0.03790459, 0.78473044,\n",
       "        0.86674891],\n",
       "       [0.37943206, 0.20726946, 0.7342095 , 0.46883081, 0.93615988,\n",
       "        0.90943444]])"
      ]
     },
     "execution_count": 50,
     "metadata": {},
     "output_type": "execute_result"
    }
   ],
   "source": [
    "# Utilizar reshape para convertirlo en un array 2D.\n",
    "array33x = array33.reshape(4, -1)\n",
    "array33x"
   ]
  },
  {
   "cell_type": "markdown",
   "metadata": {},
   "source": [
    "# Transpose:"
   ]
  },
  {
   "cell_type": "markdown",
   "metadata": {},
   "source": [
    "4. Utiliza el array 3D del ejercicio 2 de reshape. Utiliza transpose para permutar los ejes y obtener un nuevo array con forma (5, 4, 3)."
   ]
  },
  {
   "cell_type": "code",
   "execution_count": 10,
   "metadata": {},
   "outputs": [
    {
     "data": {
      "text/plain": [
       "array([[[57, 24, 17,  9, 46],\n",
       "        [58,  6, 21, 18, 21],\n",
       "        [ 5,  8, 32, 21, 36],\n",
       "        [21, 41, 57, 12, 54]],\n",
       "\n",
       "       [[12, 27, 57, 13, 38],\n",
       "        [24,  3, 32, 54,  4],\n",
       "        [31, 22, 21, 20, 37],\n",
       "        [ 9, 26, 57, 32, 49]],\n",
       "\n",
       "       [[18, 44, 46, 45, 41],\n",
       "        [23, 36, 14, 11, 56],\n",
       "        [56,  7,  8, 36, 23],\n",
       "        [46, 25, 24, 47, 34]]])"
      ]
     },
     "execution_count": 10,
     "metadata": {},
     "output_type": "execute_result"
    }
   ],
   "source": [
    "# Utilizar el array 3D del ejercicio 2 de reshape. \n",
    "array_3d = np.random.randint(1, 60, (3, 4, 5))\n",
    "array_3d"
   ]
  },
  {
   "cell_type": "code",
   "execution_count": 51,
   "metadata": {},
   "outputs": [
    {
     "data": {
      "text/plain": [
       "array([[[37, 28, 43],\n",
       "        [26, 57, 54],\n",
       "        [35,  4, 19],\n",
       "        [ 4, 11, 40]],\n",
       "\n",
       "       [[23, 48, 12],\n",
       "        [40, 32, 17],\n",
       "        [ 2, 33, 22],\n",
       "        [35, 13,  3]],\n",
       "\n",
       "       [[ 2, 40, 25],\n",
       "        [44, 33,  4],\n",
       "        [16, 20, 42],\n",
       "        [40, 37, 20]],\n",
       "\n",
       "       [[38, 17, 30],\n",
       "        [27, 17, 20],\n",
       "        [51, 57, 19],\n",
       "        [52, 38, 53]],\n",
       "\n",
       "       [[18,  7,  3],\n",
       "        [43, 27, 37],\n",
       "        [59, 59, 32],\n",
       "        [11, 17, 54]]])"
      ]
     },
     "execution_count": 51,
     "metadata": {},
     "output_type": "execute_result"
    }
   ],
   "source": [
    "# Utiliza transpose para permutar los ejes y obtener un nuevo array con forma (5, 4, 3).\n",
    "array_transpose = np.transpose(array_3d, (2, 1, 0)) # Ordenar con los indices\n",
    "array_transpose"
   ]
  },
  {
   "cell_type": "markdown",
   "metadata": {},
   "source": [
    "5. Utiliza el array 3D del ejercicio 3 de reshape. Utiliza transpose para cambiar el orden de los ejes y obtener un nuevo array con forma (3, 2, 4)."
   ]
  },
  {
   "cell_type": "code",
   "execution_count": 13,
   "metadata": {},
   "outputs": [
    {
     "data": {
      "text/plain": [
       "array([[[37, 23,  2, 38, 18],\n",
       "        [26, 40, 44, 27, 43],\n",
       "        [35,  2, 16, 51, 59],\n",
       "        [ 4, 35, 40, 52, 11]],\n",
       "\n",
       "       [[28, 48, 40, 17,  7],\n",
       "        [57, 32, 33, 17, 27],\n",
       "        [ 4, 33, 20, 57, 59],\n",
       "        [11, 13, 37, 38, 17]],\n",
       "\n",
       "       [[43, 12, 25, 30,  3],\n",
       "        [54, 17,  4, 20, 37],\n",
       "        [19, 22, 42, 19, 32],\n",
       "        [40,  3, 20, 53, 54]]])"
      ]
     },
     "execution_count": 13,
     "metadata": {},
     "output_type": "execute_result"
    }
   ],
   "source": [
    "# Utilizar el array 3D del ejercicio 4 de reshape. \n",
    "array_3d = np.random.randint(1, 60, (3, 4, 2))\n",
    "array_3d"
   ]
  },
  {
   "cell_type": "code",
   "execution_count": 53,
   "metadata": {},
   "outputs": [
    {
     "data": {
      "text/plain": [
       "array([[[37, 26, 35,  4],\n",
       "        [23, 40,  2, 35],\n",
       "        [ 2, 44, 16, 40],\n",
       "        [38, 27, 51, 52],\n",
       "        [18, 43, 59, 11]],\n",
       "\n",
       "       [[28, 57,  4, 11],\n",
       "        [48, 32, 33, 13],\n",
       "        [40, 33, 20, 37],\n",
       "        [17, 17, 57, 38],\n",
       "        [ 7, 27, 59, 17]],\n",
       "\n",
       "       [[43, 54, 19, 40],\n",
       "        [12, 17, 22,  3],\n",
       "        [25,  4, 42, 20],\n",
       "        [30, 20, 19, 53],\n",
       "        [ 3, 37, 32, 54]]])"
      ]
     },
     "execution_count": 53,
     "metadata": {},
     "output_type": "execute_result"
    }
   ],
   "source": [
    "# Utilizar transpose para cambiar el orden de los ejes y obtener un nuevo array con forma (3, 2, 4).\n",
    "array_transpose2 = np.transpose(array_3d,(0, 2, 1))\n",
    "array_transpose2"
   ]
  },
  {
   "cell_type": "markdown",
   "metadata": {},
   "source": [
    "# Preguntas teóricas:\n",
    "6. ¿Qué diferencia existe entre el reshape y el transpose?:\n",
    "- Reshape: Es una función que se utiliza para cambiar la forma de un array sin cambiar sus datos. Puedes especificar la nueva forma deseada del array, y NumPy se encargará de reorganizar los elementos para ajustarse a esa nueva forma. Es importante destacar que el número total de elementos debe ser el mismo antes y después de la operación de reshape.\n",
    "- Transpose: Es una función que se utiliza para permutar los ejes de un array según un orden específico que se especifica como argumento. Puedes cambiar el orden de las dimensiones del array. \n",
    "\n",
    "\n",
    "7. ¿Y entre el transpose y el swapaxes?:\n",
    "- Transpose: Es una función que se utiliza para permutar los ejes de un array según un orden específico que se especifica como argumento. Puedes cambiar el orden de las dimensiones del array. \n",
    "- Swapaxes: Es una función específica que se utiliza para intercambiar dos ejes particulares de un array.\n",
    "\n",
    "Resumen: Transpose, permite especificar un orden completo para los ejes y swapaxes te permite intercambiar dos ejes específicos.\n",
    "\n"
   ]
  },
  {
   "cell_type": "markdown",
   "metadata": {},
   "source": [
    "# Funciones Aritméticas y Estadísticas:"
   ]
  },
  {
   "cell_type": "markdown",
   "metadata": {},
   "source": [
    "1. Crea un array de tres 3D con elementos entre el 0 y 1 de forma (2, 3, 5) cuyos valores solo tengan 1 decimal."
   ]
  },
  {
   "cell_type": "code",
   "execution_count": 4,
   "metadata": {},
   "outputs": [
    {
     "data": {
      "text/plain": [
       "array([[[0.7, 0.8, 0.2, 0. , 0.6],\n",
       "        [0.8, 0.8, 0.8, 0.5, 0.8],\n",
       "        [0.8, 0.9, 0.5, 0.4, 0.3]],\n",
       "\n",
       "       [[0.1, 0.3, 0.2, 0.6, 0.8],\n",
       "        [0.1, 0.9, 0. , 0.6, 0.6],\n",
       "        [0.2, 0.9, 0.5, 0.9, 0.6]]])"
      ]
     },
     "execution_count": 4,
     "metadata": {},
     "output_type": "execute_result"
    }
   ],
   "source": [
    "arrayfunciones = np.round(np.random.rand(2, 3, 5), 1)\n",
    "arrayfunciones"
   ]
  },
  {
   "cell_type": "markdown",
   "metadata": {},
   "source": [
    "2. Crea un array vacío con la misma forma y dimensiones que el array creado anteriormente.\n",
    "Vamos a reemplazar los valores de la matriz vacía que nos acabamos de crear pero\n",
    "basándonos en los valores del primer array bajo las siguientes condiciones:\n",
    "Si el valor del array es igual que la media, se reemplaza por \"A\".\n",
    "Si el valor del array es mayor que la media, se reemplaza por \"B\".\n",
    "Si el valor del array es menor que la media, se reemplaza por \"C\".\n",
    "Si el valor es igual que el máximo, se reemplaza por \"D\".\n",
    "Si el valor es igual que el mínimo, se reemplaza por \"E\".\n",
    "\n",
    "-  a modo de ejemplo. Si tenemos el siguiente array\n",
    "[[[0.4, 0.7, 0.2, 0.9, 0.2],\n",
    " [0.1, 0.9, 0.6, 0.1, 0.2],\n",
    " [1. , 0.2, 0.1, 0.8, 0.3]],\n",
    "[[0. , 0.3, 0.4, 0.5, 0.1],\n",
    " [0.5, 0.7, 0.9, 0. , 0.8],\n",
    " [0.5, 0.3, 0.5, 0.8, 0.1]]])\n",
    "-  sabiendo que la media es 0.4 y el máximo es 1.0 y el mínimo es:     0.0\n",
    "-  nuestro array vacío debería quedar como este: \n",
    "[[[\"A\", \"B\", \"C\", \"B\", \"C\"],\n",
    " [\"C\", \"B\", \"B\", \"C\", \"C\"],\n",
    " [\"D\" , \"C\", \"C\", \"B\", \"C\"]],\n",
    "[[\"E\" , \"C\", \"A\", \"B\", \"C\"],\n",
    " [\"B\", \"B\",\"B\", \"E\" , \"B\"],\n",
    " [\"B\", \"C\", \"B\", \"B\", \"C\"]]]"
   ]
  },
  {
   "cell_type": "code",
   "execution_count": 5,
   "metadata": {},
   "outputs": [
    {
     "data": {
      "text/plain": [
       "array([[[0.7, 0.8, 0.2, 0. , 0.6],\n",
       "        [0.8, 0.8, 0.8, 0.5, 0.8],\n",
       "        [0.8, 0.9, 0.5, 0.4, 0.3]],\n",
       "\n",
       "       [[0.1, 0.3, 0.2, 0.6, 0.8],\n",
       "        [0.1, 0.9, 0. , 0.6, 0.6],\n",
       "        [0.2, 0.9, 0.5, 0.9, 0.6]]])"
      ]
     },
     "execution_count": 5,
     "metadata": {},
     "output_type": "execute_result"
    }
   ],
   "source": [
    "arraycompleto = np.empty((2,3,5))\n",
    "arraycompleto"
   ]
  },
  {
   "cell_type": "code",
   "execution_count": 6,
   "metadata": {},
   "outputs": [
    {
     "data": {
      "text/plain": [
       "0.5399999999999999"
      ]
     },
     "execution_count": 6,
     "metadata": {},
     "output_type": "execute_result"
    }
   ],
   "source": [
    "# Calcular la media, el máximo y el mínimo del array original\n",
    "media = np.mean(arraycompleto)\n",
    "media"
   ]
  },
  {
   "cell_type": "code",
   "execution_count": 7,
   "metadata": {},
   "outputs": [
    {
     "data": {
      "text/plain": [
       "0.9"
      ]
     },
     "execution_count": 7,
     "metadata": {},
     "output_type": "execute_result"
    }
   ],
   "source": [
    "maximo = np.max(arraycompleto)\n",
    "maximo"
   ]
  },
  {
   "cell_type": "code",
   "execution_count": 8,
   "metadata": {},
   "outputs": [
    {
     "data": {
      "text/plain": [
       "0.0"
      ]
     },
     "execution_count": 8,
     "metadata": {},
     "output_type": "execute_result"
    }
   ],
   "source": [
    "minimo = np.min(arraycompleto)\n",
    "minimo"
   ]
  },
  {
   "cell_type": "code",
   "execution_count": 9,
   "metadata": {},
   "outputs": [
    {
     "name": "stdout",
     "output_type": "stream",
     "text": [
      "[[[2. 2. 3. 5. 2.]\n",
      "  [2. 2. 2. 3. 2.]\n",
      "  [2. 4. 3. 3. 3.]]\n",
      "\n",
      " [[3. 3. 3. 2. 2.]\n",
      "  [3. 4. 5. 2. 2.]\n",
      "  [3. 4. 3. 4. 2.]]]\n"
     ]
    }
   ],
   "source": [
    "# Iterar sobre los elementos del array completo y aplicar las condiciones necesarias\n",
    "for i, elemento in enumerate(arraycompleto):\n",
    "    for j, fila in enumerate(elemento):\n",
    "        for k, valor in enumerate(fila):\n",
    "            valor = arraycompleto[i, j, k]\n",
    "            \n",
    "            if valor == maximo:\n",
    "                arraycompleto[i, j, k] = 4  # Reemplazar \"D\" por 4\n",
    "                \n",
    "            elif  valor == minimo:\n",
    "                arraycompleto[i, j, k] = 5  # Reemplazar \"E\" por 5\n",
    "                                \n",
    "            elif valor == media:\n",
    "                arraycompleto[i, j, k] = 1  # Reemplazar \"A\" por 1\n",
    "                \n",
    "            elif valor > media:\n",
    "                arraycompleto[i, j, k] = 2  # Reemplazar \"B\" por 2\n",
    "                \n",
    "            elif valor < media:\n",
    "                arraycompleto[i, j, k] = 3  # Reemplazar \"C\" por 3\n",
    "                \n",
    "print(arraycompleto)\n"
   ]
  },
  {
   "cell_type": "code",
   "execution_count": 10,
   "metadata": {},
   "outputs": [
    {
     "ename": "IndexError",
     "evalue": "arrays used as indices must be of integer (or boolean) type",
     "output_type": "error",
     "traceback": [
      "\u001b[0;31m---------------------------------------------------------------------------\u001b[0m",
      "\u001b[0;31mIndexError\u001b[0m                                Traceback (most recent call last)",
      "Input \u001b[0;32mIn [10]\u001b[0m, in \u001b[0;36m<cell line: 2>\u001b[0;34m()\u001b[0m\n\u001b[1;32m      5\u001b[0m arrayvacia2 \u001b[38;5;241m=\u001b[39m []\n\u001b[1;32m      6\u001b[0m \u001b[38;5;28;01mfor\u001b[39;00m k \u001b[38;5;129;01min\u001b[39;00m j:\n\u001b[0;32m----> 7\u001b[0m     valor \u001b[38;5;241m=\u001b[39m \u001b[43marraycompleto\u001b[49m\u001b[43m[\u001b[49m\u001b[43mi\u001b[49m\u001b[43m,\u001b[49m\u001b[43m \u001b[49m\u001b[43mj\u001b[49m\u001b[43m,\u001b[49m\u001b[43m \u001b[49m\u001b[43mk\u001b[49m\u001b[43m]\u001b[49m\n\u001b[1;32m      9\u001b[0m     \u001b[38;5;28;01mif\u001b[39;00m valor \u001b[38;5;241m==\u001b[39m maximo:\n\u001b[1;32m     10\u001b[0m         arrayvacia2\u001b[38;5;241m.\u001b[39mappend(\u001b[38;5;124m\"\u001b[39m\u001b[38;5;124mD\u001b[39m\u001b[38;5;124m\"\u001b[39m)\n",
      "\u001b[0;31mIndexError\u001b[0m: arrays used as indices must be of integer (or boolean) type"
     ]
    }
   ],
   "source": [
    "# Iterar sobre los elementos del array completo y aplicar las condiciones necesarias\n",
    "for i in arraycompleto:\n",
    "    arrayvacia1 = []\n",
    "    for j in i:\n",
    "        arrayvacia2 = []\n",
    "        for k in j:\n",
    "            valor = arraycompleto[i, j, k]\n",
    "            \n",
    "            if valor == maximo:\n",
    "                arrayvacia2.append(\"D\")\n",
    "                \n",
    "            elif  valor == minimo:\n",
    "                arrayvacia2.append(\"E\")\n",
    "                \n",
    "            elif valor == media:\n",
    "                arrayvacia2.append(\"A\")\n",
    "                \n",
    "            elif valor > media:\n",
    "                arrayvacia2.append(\"B\")\n",
    "                \n",
    "            elif valor < media:\n",
    "                arrayvacia2.append(\"C\")\n",
    "            \n",
    "        arrayvacia1.append(arrayvacia2)\n",
    "        \n",
    "        print(arraycompleto)\n",
    "            \n",
    "    arraycompleto.append(arrayvacia1)\n"
   ]
  }
 ],
 "metadata": {
  "kernelspec": {
   "display_name": "base",
   "language": "python",
   "name": "python3"
  },
  "language_info": {
   "codemirror_mode": {
    "name": "ipython",
    "version": 3
   },
   "file_extension": ".py",
   "mimetype": "text/x-python",
   "name": "python",
   "nbconvert_exporter": "python",
   "pygments_lexer": "ipython3",
   "version": "3.9.12"
  }
 },
 "nbformat": 4,
 "nbformat_minor": 2
}
