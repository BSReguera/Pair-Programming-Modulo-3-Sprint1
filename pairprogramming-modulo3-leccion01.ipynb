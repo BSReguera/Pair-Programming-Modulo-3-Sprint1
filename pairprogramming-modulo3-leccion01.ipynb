{
 "cells": [
  {
   "cell_type": "markdown",
   "metadata": {},
   "source": [
    "Pair programming - MODULO 3 - LECCION 01"
   ]
  },
  {
   "cell_type": "code",
   "execution_count": 3,
   "metadata": {},
   "outputs": [],
   "source": [
    "import numpy as np"
   ]
  },
  {
   "cell_type": "markdown",
   "metadata": {},
   "source": [
    "Creación y Indexación:\n",
    "1. Crea un array 1D con 50 valores aleatorio del 10 al 99. Accede a los elementos en las\n",
    "posiciones múltiplos de 5.\n",
    "2. Crea un array 1D con 30 valores del 1 al 20 (ambos incluidos). Utiliza indexación para\n",
    "obtener los elementos en las posiciones impares.\n",
    "3. Crea un array 2D de forma (4, 6) con números aleatorios decimales (no deben estar\n",
    "comprendidos solo entre 0 y 1). Accede a la última fila de la matriz. Los decimales deben\n",
    "estar redondeados a 2 decimales.\n",
    "4. Crea un array NumPy 2D de forma (6, 4) con valores decimales entre 0 y 1. Accede a la\n",
    "segunda columna de la matriz. Los números deben estar redondeados a 2 decimales.\n",
    "5. Crea un array 1D con 30 valores enteros aleatorios entre -50 y 50. Extrae los valores\n",
    "negativos.\n",
    "6. Crea un array 1D con 10 valores entre 0 y 1. Redondea los decimales a 2. Obtén los\n",
    "elementos cuyo valor es mayor que 0.5. ¿En que posición/es están esos elementos?\n",
    "7. Crea un array 1D con 40 valores del 1 al 100 (ambos incluidos). Obtén los elementos que\n",
    "son divisibles por 3 y por 4.\n",
    "8. BONUS: Crea un array 3D de forma (2, 3, 5) y 50 elementos con números enteros entre 0\n",
    "y 100 (ambos incluidos). Reemplaza los elementos en posiciones múltiplos de 3 por 0."
   ]
  },
  {
   "cell_type": "code",
   "execution_count": 11,
   "metadata": {},
   "outputs": [
    {
     "data": {
      "text/plain": [
       "array([73, 51, 52, 90, 75, 39, 60, 36, 93, 76, 82, 84, 26, 82, 29, 80, 95,\n",
       "       64, 67, 65, 36, 83, 33, 71, 77, 88, 20, 26, 25, 34, 63, 43, 82, 26,\n",
       "       43, 48, 59, 72, 41, 73, 58, 59, 81, 27, 72, 13, 54, 91, 96, 38])"
      ]
     },
     "execution_count": 11,
     "metadata": {},
     "output_type": "execute_result"
    }
   ],
   "source": [
    "array1 = np.random.randint(10, 100,(50))\n",
    "array1"
   ]
  },
  {
   "cell_type": "code",
   "execution_count": 14,
   "metadata": {},
   "outputs": [
    {
     "data": {
      "text/plain": [
       "array([75, 76, 29, 65, 77, 34, 43, 73, 72, 38])"
      ]
     },
     "execution_count": 14,
     "metadata": {},
     "output_type": "execute_result"
    }
   ],
   "source": [
    "# Acceder a los elementos en las posiciones \n",
    "array1[4::5]"
   ]
  },
  {
   "cell_type": "code",
   "execution_count": 19,
   "metadata": {},
   "outputs": [
    {
     "data": {
      "text/plain": [
       "array([20,  9,  6, 17, 20, 10, 18, 10, 12, 11, 13, 16, 18,  1, 18,  7,  2,\n",
       "       13, 17, 11, 10, 20, 19,  4, 18, 12,  4,  2, 14,  1])"
      ]
     },
     "execution_count": 19,
     "metadata": {},
     "output_type": "execute_result"
    }
   ],
   "source": [
    "# 2\n",
    "array2 = np.random.randint(1, 21, (30))\n",
    "array2"
   ]
  },
  {
   "cell_type": "code",
   "execution_count": 20,
   "metadata": {},
   "outputs": [
    {
     "data": {
      "text/plain": [
       "array([20,  6, 20, 18, 12, 13, 18, 18,  2, 17, 10, 19, 18,  4, 14])"
      ]
     },
     "execution_count": 20,
     "metadata": {},
     "output_type": "execute_result"
    }
   ],
   "source": [
    "array2[0::2]"
   ]
  },
  {
   "cell_type": "code",
   "execution_count": 38,
   "metadata": {},
   "outputs": [
    {
     "data": {
      "text/plain": [
       "array([[63, 56, 18, 61, 84, 60],\n",
       "       [20, 38, 34, 66, 64, 76],\n",
       "       [10, 53, 29, 13, 24, 89],\n",
       "       [61, 28, 65, 59, 39, 35]])"
      ]
     },
     "execution_count": 38,
     "metadata": {},
     "output_type": "execute_result"
    }
   ],
   "source": [
    "# 3\n",
    "array3 = np.random.randint(10, 100, (4,6))\n",
    "array3"
   ]
  },
  {
   "cell_type": "code",
   "execution_count": 37,
   "metadata": {},
   "outputs": [
    {
     "data": {
      "text/plain": [
       "array([52, 78, 96, 36, 63, 99])"
      ]
     },
     "execution_count": 37,
     "metadata": {},
     "output_type": "execute_result"
    }
   ],
   "source": [
    "ultima_fila_redondeo = np.round(array3[-1], 2)\n",
    "ultima_fila_redondeo"
   ]
  },
  {
   "cell_type": "code",
   "execution_count": 27,
   "metadata": {},
   "outputs": [
    {
     "data": {
      "text/plain": [
       "array([[[0.00000000e+000, 0.00000000e+000, 0.00000000e+000,\n",
       "         0.00000000e+000, 0.00000000e+000, 0.00000000e+000],\n",
       "        [0.00000000e+000, 0.00000000e+000, 0.00000000e+000,\n",
       "         0.00000000e+000, 0.00000000e+000, 0.00000000e+000],\n",
       "        [0.00000000e+000, 0.00000000e+000, 0.00000000e+000,\n",
       "         0.00000000e+000, 0.00000000e+000, 0.00000000e+000],\n",
       "        [0.00000000e+000, 0.00000000e+000, 0.00000000e+000,\n",
       "         0.00000000e+000, 0.00000000e+000, 0.00000000e+000]],\n",
       "\n",
       "       [[0.00000000e+000, 0.00000000e+000, 0.00000000e+000,\n",
       "         0.00000000e+000, 3.59751658e+252, 1.46901661e+179],\n",
       "        [8.37404147e+242, 0.00000000e+000, 4.82337723e+228,\n",
       "         0.00000000e+000, 6.85977797e+169, 0.00000000e+000],\n",
       "        [0.00000000e+000, 7.63226654e+169, 5.04621343e+180,\n",
       "         0.00000000e+000, 2.36155100e+180, 0.00000000e+000],\n",
       "        [0.00000000e+000, 1.16279102e+165, 0.00000000e+000,\n",
       "         9.08366791e+223, 0.00000000e+000, 0.00000000e+000]]])"
      ]
     },
     "execution_count": 27,
     "metadata": {},
     "output_type": "execute_result"
    }
   ],
   "source": [
    "#redondeo\n",
    "array3redondeo = np.round(array3, 2)\n",
    "array3redondeo"
   ]
  },
  {
   "cell_type": "code",
   "execution_count": 40,
   "metadata": {},
   "outputs": [
    {
     "data": {
      "text/plain": [
       "array([[0.70658872, 0.95796974, 0.87811787, 0.30296503],\n",
       "       [0.6010035 , 0.84180918, 0.20256969, 0.15052955],\n",
       "       [0.24938969, 0.87951074, 0.02954979, 0.20510592],\n",
       "       [0.98803898, 0.95689181, 0.28241428, 0.23483274],\n",
       "       [0.10337843, 0.61881683, 0.74509525, 0.68174091],\n",
       "       [0.58821058, 0.84086537, 0.44117995, 0.24579992]])"
      ]
     },
     "execution_count": 40,
     "metadata": {},
     "output_type": "execute_result"
    }
   ],
   "source": [
    "#4. Crea un array NumPy 2D de forma (6, 4) con valores decimales entre 0 y 1. Accede a la segunda columna de la matriz. Los números deben estar redondeados a 2 decimales.\n",
    "array4 = np.random.rand(6, 4)\n",
    "array4"
   ]
  },
  {
   "cell_type": "code",
   "execution_count": 68,
   "metadata": {},
   "outputs": [
    {
     "data": {
      "text/plain": [
       "array([[0.71, 0.96, 0.88, 0.3 ],\n",
       "       [0.6 , 0.84, 0.2 , 0.15],\n",
       "       [0.25, 0.88, 0.03, 0.21],\n",
       "       [0.99, 0.96, 0.28, 0.23],\n",
       "       [0.1 , 0.62, 0.75, 0.68],\n",
       "       [0.59, 0.84, 0.44, 0.25]])"
      ]
     },
     "execution_count": 68,
     "metadata": {},
     "output_type": "execute_result"
    }
   ],
   "source": [
    "redondeo4 = np.round(array4, 2)\n",
    "redondeo4"
   ]
  },
  {
   "cell_type": "code",
   "execution_count": 46,
   "metadata": {},
   "outputs": [
    {
     "data": {
      "text/plain": [
       "array([0.96, 0.84, 0.88, 0.96, 0.62, 0.84])"
      ]
     },
     "execution_count": 46,
     "metadata": {},
     "output_type": "execute_result"
    }
   ],
   "source": [
    "redondeo4 = np.round(array4[:,1], 2)\n",
    "redondeo4"
   ]
  },
  {
   "cell_type": "code",
   "execution_count": 59,
   "metadata": {},
   "outputs": [
    {
     "data": {
      "text/plain": [
       "array([ -6, -40,  24,  20,  45,  32,  -5,  32,  30,  28,   2, -49,  19,\n",
       "       -43, -20, -25, -24,  44,  31,  19,  12,  19,  17,  11, -22,   4,\n",
       "       -44,  -2, -49, -45])"
      ]
     },
     "execution_count": 59,
     "metadata": {},
     "output_type": "execute_result"
    }
   ],
   "source": [
    "#5. Crea un array 1D con 30 valores enteros aleatorios entre -50 y 50. Extrae los valores negativos.\n",
    "array5 = np.random.randint(-50, 51, (30))\n",
    "array5"
   ]
  },
  {
   "cell_type": "code",
   "execution_count": 60,
   "metadata": {},
   "outputs": [
    {
     "data": {
      "text/plain": [
       "array([ -6, -40,  -5, -49, -43, -20, -25, -24, -22, -44,  -2, -49, -45])"
      ]
     },
     "execution_count": 60,
     "metadata": {},
     "output_type": "execute_result"
    }
   ],
   "source": [
    "valores_negativos = array5 [array5 < 0]\n",
    "valores_negativos"
   ]
  },
  {
   "cell_type": "code",
   "execution_count": null,
   "metadata": {},
   "outputs": [],
   "source": [
    "# 6. Crea un array 1D con 10 valores entre 0 y 1. Redondea los decimales a 2. Obtén los elementos cuyo valor es mayor que 0.5. ¿En que posición/es están esos elementos?"
   ]
  },
  {
   "cell_type": "code",
   "execution_count": 61,
   "metadata": {},
   "outputs": [
    {
     "data": {
      "text/plain": [
       "array([0.09841207, 0.62377435, 0.94012073, 0.85912532, 0.98224019,\n",
       "       0.60217927, 0.51654105, 0.685787  , 0.77840743, 0.52080806])"
      ]
     },
     "execution_count": 61,
     "metadata": {},
     "output_type": "execute_result"
    }
   ],
   "source": [
    "array6 = np.random.rand(10)\n",
    "array6"
   ]
  },
  {
   "cell_type": "code",
   "execution_count": 63,
   "metadata": {},
   "outputs": [
    {
     "data": {
      "text/plain": [
       "array([0.1 , 0.62, 0.94, 0.86, 0.98, 0.6 , 0.52, 0.69, 0.78, 0.52])"
      ]
     },
     "execution_count": 63,
     "metadata": {},
     "output_type": "execute_result"
    }
   ],
   "source": [
    "redondeo6 = np.round(array6, 2)\n",
    "redondeo6"
   ]
  },
  {
   "cell_type": "code",
   "execution_count": 70,
   "metadata": {},
   "outputs": [
    {
     "data": {
      "text/plain": [
       "array([0.62, 0.94, 0.86, 0.98, 0.6 , 0.52, 0.69, 0.78, 0.52])"
      ]
     },
     "execution_count": 70,
     "metadata": {},
     "output_type": "execute_result"
    }
   ],
   "source": [
    "mayor_que05 = redondeo6[redondeo6 > 0.5]\n",
    "mayor_que05"
   ]
  },
  {
   "cell_type": "code",
   "execution_count": 71,
   "metadata": {},
   "outputs": [
    {
     "data": {
      "text/plain": [
       "(array([1, 2, 3, 4, 5, 6, 7, 8, 9]),)"
      ]
     },
     "execution_count": 71,
     "metadata": {},
     "output_type": "execute_result"
    }
   ],
   "source": [
    "posicion = np.where(redondeo6 > 0.5)\n",
    "posicion"
   ]
  },
  {
   "cell_type": "code",
   "execution_count": null,
   "metadata": {},
   "outputs": [],
   "source": [
    "# 7. Crea un array 1D con 40 valores del 1 al 100 (ambos incluidos). Obtén los elementos que son divisibles por 3 y por 4.\n",
    "# 8. BONUS: Crea un array 3D de forma (2, 3, 5) y 50 elementos con números enteros entre 0 y 100 (ambos incluidos). Reemplaza los elementos en posiciones múltiplos de 3 por 0."
   ]
  },
  {
   "cell_type": "code",
   "execution_count": null,
   "metadata": {},
   "outputs": [],
   "source": [
    "# Reshape y Transpose:"
   ]
  },
  {
   "cell_type": "code",
   "execution_count": null,
   "metadata": {},
   "outputs": [],
   "source": [
    "# 1. Crea un array 3D de forma (2, 3, 4) con valores aleatorios entre 1 y 100 (ambos inclusive). Utiliza reshape para convertirlo en un array 2D. Deberás pensar en la forma que es correcta para hacer este cambio."
   ]
  },
  {
   "cell_type": "code",
   "execution_count": 81,
   "metadata": {},
   "outputs": [
    {
     "data": {
      "text/plain": [
       "array([[[25, 85,  6, 16],\n",
       "        [79, 20, 33, 63],\n",
       "        [32, 80, 26, 46]],\n",
       "\n",
       "       [[31,  7, 79, 12],\n",
       "        [11, 96, 61,  3],\n",
       "        [24, 81, 24, 89]]])"
      ]
     },
     "execution_count": 81,
     "metadata": {},
     "output_type": "execute_result"
    }
   ],
   "source": [
    "array_tridimensional =  np.random.randint(1, 101,size=(2, 3, 4))\n",
    "array_tridimensional"
   ]
  },
  {
   "cell_type": "code",
   "execution_count": 82,
   "metadata": {},
   "outputs": [
    {
     "data": {
      "text/plain": [
       "(2, 3, 4)"
      ]
     },
     "execution_count": 82,
     "metadata": {},
     "output_type": "execute_result"
    }
   ],
   "source": [
    "array_tridimensional.shape"
   ]
  },
  {
   "cell_type": "code",
   "execution_count": 83,
   "metadata": {},
   "outputs": [
    {
     "data": {
      "text/plain": [
       "array([[25, 85,  6, 16, 79, 20, 33, 63, 32, 80, 26, 46],\n",
       "       [31,  7, 79, 12, 11, 96, 61,  3, 24, 81, 24, 89]])"
      ]
     },
     "execution_count": 83,
     "metadata": {},
     "output_type": "execute_result"
    }
   ],
   "source": [
    "array_tridi1 = array_tridimensional.reshape(2, -1)\n",
    "array_tridi1"
   ]
  },
  {
   "cell_type": "code",
   "execution_count": null,
   "metadata": {},
   "outputs": [],
   "source": [
    "# 2. Crea un array 3D de forma (3, 4, 5) con valores enteros del 1 al 60 (sin incluir). Utiliza reshape para convertirlo en un array 2D."
   ]
  },
  {
   "cell_type": "code",
   "execution_count": 88,
   "metadata": {},
   "outputs": [
    {
     "data": {
      "text/plain": [
       "array([[[48, 40,  9, 42, 12],\n",
       "        [17,  8, 27, 44, 57],\n",
       "        [17, 18, 10, 22, 52],\n",
       "        [35,  8, 23, 34, 59]],\n",
       "\n",
       "       [[52, 24, 26, 13, 15],\n",
       "        [19, 53, 48, 57, 31],\n",
       "        [40,  3, 58,  1,  1],\n",
       "        [54, 52, 34, 33, 41]],\n",
       "\n",
       "       [[37,  6, 27, 13, 46],\n",
       "        [58,  4, 22, 13, 30],\n",
       "        [49, 34, 26, 50, 58],\n",
       "        [11, 12, 56, 56, 57]]])"
      ]
     },
     "execution_count": 88,
     "metadata": {},
     "output_type": "execute_result"
    }
   ],
   "source": [
    "array_3d = np.random.randint(1, 60, (3, 4, 5))\n",
    "array_3d"
   ]
  },
  {
   "cell_type": "code",
   "execution_count": 94,
   "metadata": {},
   "outputs": [
    {
     "data": {
      "text/plain": [
       "array([[48, 40,  9, 42, 12, 17,  8, 27, 44, 57, 17, 18, 10, 22, 52],\n",
       "       [35,  8, 23, 34, 59, 52, 24, 26, 13, 15, 19, 53, 48, 57, 31],\n",
       "       [40,  3, 58,  1,  1, 54, 52, 34, 33, 41, 37,  6, 27, 13, 46],\n",
       "       [58,  4, 22, 13, 30, 49, 34, 26, 50, 58, 11, 12, 56, 56, 57]])"
      ]
     },
     "execution_count": 94,
     "metadata": {},
     "output_type": "execute_result"
    }
   ],
   "source": [
    "array_3d_convertido = array_3d.reshape(4, -1)\n",
    "array_3d_convertido"
   ]
  },
  {
   "cell_type": "code",
   "execution_count": null,
   "metadata": {},
   "outputs": [],
   "source": [
    "# 3. Crea un array 3D de forma (4, 3, 2) con valores aleatorios entre 0 y 1. Utiliza reshape para convertirlo en un array 2D."
   ]
  },
  {
   "cell_type": "code",
   "execution_count": null,
   "metadata": {},
   "outputs": [],
   "source": [
    "Ejercicios con transpose:\n",
    "# 4. Utiliza el array 3D del ejercicio 2 de reshape. Utiliza transpose para permutar los ejes y obtener un nuevo array con forma (5, 4, 3).\n",
    "array_3d = np.random.randint(1, 60, (3, 4, 5))\n",
    "array_3d"
   ]
  },
  {
   "cell_type": "code",
   "execution_count": 96,
   "metadata": {},
   "outputs": [
    {
     "ename": "AxisError",
     "evalue": "axis 5 is out of bounds for array of dimension 3",
     "output_type": "error",
     "traceback": [
      "\u001b[0;31m---------------------------------------------------------------------------\u001b[0m",
      "\u001b[0;31mAxisError\u001b[0m                                 Traceback (most recent call last)",
      "Input \u001b[0;32mIn [96]\u001b[0m, in \u001b[0;36m<cell line: 1>\u001b[0;34m()\u001b[0m\n\u001b[0;32m----> 1\u001b[0m array_transpose \u001b[38;5;241m=\u001b[39m \u001b[43mnp\u001b[49m\u001b[38;5;241;43m.\u001b[39;49m\u001b[43mtranspose\u001b[49m\u001b[43m(\u001b[49m\u001b[43marray_3d\u001b[49m\u001b[43m,\u001b[49m\u001b[43m \u001b[49m\u001b[43m(\u001b[49m\u001b[38;5;241;43m5\u001b[39;49m\u001b[43m,\u001b[49m\u001b[43m \u001b[49m\u001b[38;5;241;43m4\u001b[39;49m\u001b[43m,\u001b[49m\u001b[43m \u001b[49m\u001b[38;5;241;43m3\u001b[39;49m\u001b[43m)\u001b[49m\u001b[43m)\u001b[49m\n\u001b[1;32m      2\u001b[0m array_transpose\n",
      "File \u001b[0;32m<__array_function__ internals>:5\u001b[0m, in \u001b[0;36mtranspose\u001b[0;34m(*args, **kwargs)\u001b[0m\n",
      "File \u001b[0;32m~/anaconda3/lib/python3.9/site-packages/numpy/core/fromnumeric.py:660\u001b[0m, in \u001b[0;36mtranspose\u001b[0;34m(a, axes)\u001b[0m\n\u001b[1;32m    601\u001b[0m \u001b[38;5;129m@array_function_dispatch\u001b[39m(_transpose_dispatcher)\n\u001b[1;32m    602\u001b[0m \u001b[38;5;28;01mdef\u001b[39;00m \u001b[38;5;21mtranspose\u001b[39m(a, axes\u001b[38;5;241m=\u001b[39m\u001b[38;5;28;01mNone\u001b[39;00m):\n\u001b[1;32m    603\u001b[0m     \u001b[38;5;124;03m\"\"\"\u001b[39;00m\n\u001b[1;32m    604\u001b[0m \u001b[38;5;124;03m    Reverse or permute the axes of an array; returns the modified array.\u001b[39;00m\n\u001b[1;32m    605\u001b[0m \n\u001b[0;32m   (...)\u001b[0m\n\u001b[1;32m    658\u001b[0m \n\u001b[1;32m    659\u001b[0m \u001b[38;5;124;03m    \"\"\"\u001b[39;00m\n\u001b[0;32m--> 660\u001b[0m     \u001b[38;5;28;01mreturn\u001b[39;00m \u001b[43m_wrapfunc\u001b[49m\u001b[43m(\u001b[49m\u001b[43ma\u001b[49m\u001b[43m,\u001b[49m\u001b[43m \u001b[49m\u001b[38;5;124;43m'\u001b[39;49m\u001b[38;5;124;43mtranspose\u001b[39;49m\u001b[38;5;124;43m'\u001b[39;49m\u001b[43m,\u001b[49m\u001b[43m \u001b[49m\u001b[43maxes\u001b[49m\u001b[43m)\u001b[49m\n",
      "File \u001b[0;32m~/anaconda3/lib/python3.9/site-packages/numpy/core/fromnumeric.py:57\u001b[0m, in \u001b[0;36m_wrapfunc\u001b[0;34m(obj, method, *args, **kwds)\u001b[0m\n\u001b[1;32m     54\u001b[0m     \u001b[38;5;28;01mreturn\u001b[39;00m _wrapit(obj, method, \u001b[38;5;241m*\u001b[39margs, \u001b[38;5;241m*\u001b[39m\u001b[38;5;241m*\u001b[39mkwds)\n\u001b[1;32m     56\u001b[0m \u001b[38;5;28;01mtry\u001b[39;00m:\n\u001b[0;32m---> 57\u001b[0m     \u001b[38;5;28;01mreturn\u001b[39;00m \u001b[43mbound\u001b[49m\u001b[43m(\u001b[49m\u001b[38;5;241;43m*\u001b[39;49m\u001b[43margs\u001b[49m\u001b[43m,\u001b[49m\u001b[43m \u001b[49m\u001b[38;5;241;43m*\u001b[39;49m\u001b[38;5;241;43m*\u001b[39;49m\u001b[43mkwds\u001b[49m\u001b[43m)\u001b[49m\n\u001b[1;32m     58\u001b[0m \u001b[38;5;28;01mexcept\u001b[39;00m \u001b[38;5;167;01mTypeError\u001b[39;00m:\n\u001b[1;32m     59\u001b[0m     \u001b[38;5;66;03m# A TypeError occurs if the object does have such a method in its\u001b[39;00m\n\u001b[1;32m     60\u001b[0m     \u001b[38;5;66;03m# class, but its signature is not identical to that of NumPy's. This\u001b[39;00m\n\u001b[0;32m   (...)\u001b[0m\n\u001b[1;32m     64\u001b[0m     \u001b[38;5;66;03m# Call _wrapit from within the except clause to ensure a potential\u001b[39;00m\n\u001b[1;32m     65\u001b[0m     \u001b[38;5;66;03m# exception has a traceback chain.\u001b[39;00m\n\u001b[1;32m     66\u001b[0m     \u001b[38;5;28;01mreturn\u001b[39;00m _wrapit(obj, method, \u001b[38;5;241m*\u001b[39margs, \u001b[38;5;241m*\u001b[39m\u001b[38;5;241m*\u001b[39mkwds)\n",
      "\u001b[0;31mAxisError\u001b[0m: axis 5 is out of bounds for array of dimension 3"
     ]
    }
   ],
   "source": [
    "array_transpose = np.transpose(array_3d, (5, 4, 3))\n",
    "array_transpose"
   ]
  },
  {
   "cell_type": "code",
   "execution_count": null,
   "metadata": {},
   "outputs": [],
   "source": []
  },
  {
   "cell_type": "code",
   "execution_count": null,
   "metadata": {},
   "outputs": [],
   "source": []
  },
  {
   "cell_type": "code",
   "execution_count": null,
   "metadata": {},
   "outputs": [],
   "source": [
    "# 5. Utiliza el array 3D del ejercicio 3 de reshape. Utiliza transpose para cambiar el orden de los ejes y obtener un nuevo array con forma (3, 2, 4).\n",
    "\n"
   ]
  },
  {
   "cell_type": "code",
   "execution_count": null,
   "metadata": {},
   "outputs": [],
   "source": [
    "# Preguntas teóricas:\n",
    "# 6. ¿Qué diferencia existe entre el reshape y el transpose?\n",
    "# 7. ¿Y entre el transpose y el swapaxes?"
   ]
  },
  {
   "cell_type": "code",
   "execution_count": null,
   "metadata": {},
   "outputs": [],
   "source": [
    "\n",
    "Funciones Aritméticas y Estadísticas:\n",
    "1. Crea un array de tres 3D con elementos entre el 0 y 1 de forma (2, 3, 5) cuyos valores solo\n",
    "tengan 1 decimal.\n",
    "2. Crea un array vacío con la misma forma y dimensiones que el array creado anteriormente.\n",
    "Vamos a reemplazar los valores de la matriz vacía que nos acabamos de crear pero\n",
    "basándonos en los valores del primer array bajo las siguientes condiciones:\n",
    "Si el valor del array es igual que la media, se reemplaza por \"A\".\n",
    "Si el valor del array es mayor que la media, se reemplaza por \"B\".\n",
    "Si el valor del array es menor que la media, se reemplaza por \"C\".\n",
    "Si el valor es igual que el máximo, se reemplaza por \"D\".\n",
    "Si el valor es igual que el mínimo, se reemplaza por \"E\".\n",
    "# a modo de ejemplo. Si tenemos el siguiente array\n",
    "[[[0.4, 0.7, 0.2, 0.9, 0.2],\n",
    " [0.1, 0.9, 0.6, 0.1, 0.2],\n",
    " [1. , 0.2, 0.1, 0.8, 0.3]],\n",
    "[[0. , 0.3, 0.4, 0.5, 0.1],\n",
    " [0.5, 0.7, 0.9, 0. , 0.8],\n",
    " [0.5, 0.3, 0.5, 0.8, 0.1]]])\n",
    "# sabiendo que la media es 0.4 y el máximo es 1.0 y el mínimo es\n",
    "0.0\n",
    "# nuestro array vacío debería quedar como este: \n",
    "[[[\"A\", \"B\", \"C\", \"B\", \"C\"],\n",
    " [\"C\", \"B\", \"B\", \"C\", \"C\"],\n",
    " [\"D\" , \"C\", \"C\", \"B\", \"C\"]],\n",
    "[[\"E\" , \"C\", \"A\", \"B\", \"C\"],\n",
    " [\"B\", \"B\",\"B\", \"E\" , \"B\"],\n",
    " [\"B\", \"C\", \"B\", \"B\", \"C\"]]]"
   ]
  }
 ],
 "metadata": {
  "kernelspec": {
   "display_name": "base",
   "language": "python",
   "name": "python3"
  },
  "language_info": {
   "codemirror_mode": {
    "name": "ipython",
    "version": 3
   },
   "file_extension": ".py",
   "mimetype": "text/x-python",
   "name": "python",
   "nbconvert_exporter": "python",
   "pygments_lexer": "ipython3",
   "version": "3.9.12"
  }
 },
 "nbformat": 4,
 "nbformat_minor": 2
}
